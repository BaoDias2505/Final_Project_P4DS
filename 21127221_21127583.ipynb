{
 "cells": [
  {
   "cell_type": "markdown",
   "metadata": {},
   "source": [
    "<div style=\"text-align: center; background-color: #0A6EBD; font-family: 'Trebuchet MS', Arial, sans-serif; color: white; padding: 20px; font-size: 40px; font-weight: bold; border-radius: 0 0 0 0; box-shadow: 0px 6px 8px rgba(0, 0, 0, 0.2);\">\n",
    "  Final project - Programing For Data Science\n",
    "</div>"
   ]
  },
  {
   "cell_type": "markdown",
   "metadata": {},
   "source": [
    "## **Thông tin nhóm**"
   ]
  },
  {
   "cell_type": "markdown",
   "metadata": {},
   "source": [
    "#### Thành viên 1:\n",
    "* **Họ và tên:** Võ Duy Anh\n",
    "* **MSSV:** 21127221"
   ]
  },
  {
   "cell_type": "markdown",
   "metadata": {},
   "source": [
    "#### Thành viên 2:\n",
    "* **Họ và tên:** Nguyễn Mậu Gia Bảo\n",
    "* **MSSV:** 21127583"
   ]
  },
  {
   "cell_type": "markdown",
   "metadata": {},
   "source": [
    "## **Thông tin đồ án**"
   ]
  },
  {
   "cell_type": "markdown",
   "metadata": {},
   "source": [
    "### **Nội dung**\n",
    "1. Thu thập dữ liệu\n",
    "2. Khám phá dữ liệu\n",
    "3. Đặt câu hỏi có ý nghĩa\n",
    "4. Tiền xử lý + phân tích dữ liệu để trả lời từng câu hỏi\n",
    "5. Nhìn lại quá trình làm đồ án\n",
    "6. Tài liệu tham khảo"
   ]
  },
  {
   "cell_type": "markdown",
   "metadata": {},
   "source": [
    "### **Thư viện hỗ trợ**"
   ]
  },
  {
   "cell_type": "code",
   "execution_count": 1,
   "metadata": {},
   "outputs": [],
   "source": [
    "import pandas as pd\n",
    "import seaborn as sns\n",
    "import matplotlib.pyplot as plt\n",
    "import datetime\n",
    "import plotly.express as px\n",
    "import numpy as np\n",
    "\n",
    "from geopy.geocoders import Nominatim\n",
    "import pypopulation\n",
    "from babel import Locale"
   ]
  },
  {
   "cell_type": "markdown",
   "metadata": {},
   "source": [
    "### **1. Thu thập dữ liệu**"
   ]
  },
  {
   "cell_type": "markdown",
   "metadata": {},
   "source": [
    "#### 📌 What subject is your data about? What is the source of your data?"
   ]
  },
  {
   "cell_type": "markdown",
   "metadata": {},
   "source": []
  },
  {
   "cell_type": "markdown",
   "metadata": {},
   "source": [
    "#### 📌 Do authors of this data allow you to use like this? You can check the data license"
   ]
  },
  {
   "cell_type": "markdown",
   "metadata": {},
   "source": []
  },
  {
   "cell_type": "markdown",
   "metadata": {},
   "source": [
    "#### 📌 How did authors collect data?"
   ]
  },
  {
   "cell_type": "markdown",
   "metadata": {},
   "source": []
  },
  {
   "cell_type": "markdown",
   "metadata": {},
   "source": [
    "### **2. Khám phá dữ liệu**"
   ]
  },
  {
   "cell_type": "markdown",
   "metadata": {},
   "source": [
    "#### Đọc dữ liệu từ file"
   ]
  },
  {
   "cell_type": "code",
   "execution_count": 2,
   "metadata": {},
   "outputs": [
    {
     "data": {
      "text/html": [
       "<div>\n",
       "<style scoped>\n",
       "    .dataframe tbody tr th:only-of-type {\n",
       "        vertical-align: middle;\n",
       "    }\n",
       "\n",
       "    .dataframe tbody tr th {\n",
       "        vertical-align: top;\n",
       "    }\n",
       "\n",
       "    .dataframe thead th {\n",
       "        text-align: right;\n",
       "    }\n",
       "</style>\n",
       "<table border=\"1\" class=\"dataframe\">\n",
       "  <thead>\n",
       "    <tr style=\"text-align: right;\">\n",
       "      <th></th>\n",
       "      <th>rank</th>\n",
       "      <th>Youtuber</th>\n",
       "      <th>subscribers</th>\n",
       "      <th>video views</th>\n",
       "      <th>category</th>\n",
       "      <th>Title</th>\n",
       "      <th>uploads</th>\n",
       "      <th>Country</th>\n",
       "      <th>Abbreviation</th>\n",
       "      <th>channel_type</th>\n",
       "      <th>...</th>\n",
       "      <th>subscribers_for_last_30_days</th>\n",
       "      <th>created_year</th>\n",
       "      <th>created_month</th>\n",
       "      <th>created_date</th>\n",
       "      <th>Gross tertiary education enrollment (%)</th>\n",
       "      <th>Population</th>\n",
       "      <th>Unemployment rate</th>\n",
       "      <th>Urban_population</th>\n",
       "      <th>Latitude</th>\n",
       "      <th>Longitude</th>\n",
       "    </tr>\n",
       "  </thead>\n",
       "  <tbody>\n",
       "    <tr>\n",
       "      <th>0</th>\n",
       "      <td>1</td>\n",
       "      <td>T-Series</td>\n",
       "      <td>245000000</td>\n",
       "      <td>2.280000e+11</td>\n",
       "      <td>Music</td>\n",
       "      <td>T-Series</td>\n",
       "      <td>20082</td>\n",
       "      <td>India</td>\n",
       "      <td>IN</td>\n",
       "      <td>Music</td>\n",
       "      <td>...</td>\n",
       "      <td>2000000.0</td>\n",
       "      <td>2006.0</td>\n",
       "      <td>Mar</td>\n",
       "      <td>13.0</td>\n",
       "      <td>28.1</td>\n",
       "      <td>1.366418e+09</td>\n",
       "      <td>5.36</td>\n",
       "      <td>471031528.0</td>\n",
       "      <td>20.593684</td>\n",
       "      <td>78.962880</td>\n",
       "    </tr>\n",
       "    <tr>\n",
       "      <th>1</th>\n",
       "      <td>2</td>\n",
       "      <td>YouTube Movies</td>\n",
       "      <td>170000000</td>\n",
       "      <td>0.000000e+00</td>\n",
       "      <td>Film &amp; Animation</td>\n",
       "      <td>youtubemovies</td>\n",
       "      <td>1</td>\n",
       "      <td>United States</td>\n",
       "      <td>US</td>\n",
       "      <td>Games</td>\n",
       "      <td>...</td>\n",
       "      <td>NaN</td>\n",
       "      <td>2006.0</td>\n",
       "      <td>Mar</td>\n",
       "      <td>5.0</td>\n",
       "      <td>88.2</td>\n",
       "      <td>3.282395e+08</td>\n",
       "      <td>14.70</td>\n",
       "      <td>270663028.0</td>\n",
       "      <td>37.090240</td>\n",
       "      <td>-95.712891</td>\n",
       "    </tr>\n",
       "    <tr>\n",
       "      <th>2</th>\n",
       "      <td>3</td>\n",
       "      <td>MrBeast</td>\n",
       "      <td>166000000</td>\n",
       "      <td>2.836884e+10</td>\n",
       "      <td>Entertainment</td>\n",
       "      <td>MrBeast</td>\n",
       "      <td>741</td>\n",
       "      <td>United States</td>\n",
       "      <td>US</td>\n",
       "      <td>Entertainment</td>\n",
       "      <td>...</td>\n",
       "      <td>8000000.0</td>\n",
       "      <td>2012.0</td>\n",
       "      <td>Feb</td>\n",
       "      <td>20.0</td>\n",
       "      <td>88.2</td>\n",
       "      <td>3.282395e+08</td>\n",
       "      <td>14.70</td>\n",
       "      <td>270663028.0</td>\n",
       "      <td>37.090240</td>\n",
       "      <td>-95.712891</td>\n",
       "    </tr>\n",
       "    <tr>\n",
       "      <th>3</th>\n",
       "      <td>4</td>\n",
       "      <td>Cocomelon - Nursery Rhymes</td>\n",
       "      <td>162000000</td>\n",
       "      <td>1.640000e+11</td>\n",
       "      <td>Education</td>\n",
       "      <td>Cocomelon - Nursery Rhymes</td>\n",
       "      <td>966</td>\n",
       "      <td>United States</td>\n",
       "      <td>US</td>\n",
       "      <td>Education</td>\n",
       "      <td>...</td>\n",
       "      <td>1000000.0</td>\n",
       "      <td>2006.0</td>\n",
       "      <td>Sep</td>\n",
       "      <td>1.0</td>\n",
       "      <td>88.2</td>\n",
       "      <td>3.282395e+08</td>\n",
       "      <td>14.70</td>\n",
       "      <td>270663028.0</td>\n",
       "      <td>37.090240</td>\n",
       "      <td>-95.712891</td>\n",
       "    </tr>\n",
       "    <tr>\n",
       "      <th>4</th>\n",
       "      <td>5</td>\n",
       "      <td>SET India</td>\n",
       "      <td>159000000</td>\n",
       "      <td>1.480000e+11</td>\n",
       "      <td>Shows</td>\n",
       "      <td>SET India</td>\n",
       "      <td>116536</td>\n",
       "      <td>India</td>\n",
       "      <td>IN</td>\n",
       "      <td>Entertainment</td>\n",
       "      <td>...</td>\n",
       "      <td>1000000.0</td>\n",
       "      <td>2006.0</td>\n",
       "      <td>Sep</td>\n",
       "      <td>20.0</td>\n",
       "      <td>28.1</td>\n",
       "      <td>1.366418e+09</td>\n",
       "      <td>5.36</td>\n",
       "      <td>471031528.0</td>\n",
       "      <td>20.593684</td>\n",
       "      <td>78.962880</td>\n",
       "    </tr>\n",
       "  </tbody>\n",
       "</table>\n",
       "<p>5 rows × 28 columns</p>\n",
       "</div>"
      ],
      "text/plain": [
       "   rank                    Youtuber  subscribers   video views  \\\n",
       "0     1                    T-Series    245000000  2.280000e+11   \n",
       "1     2              YouTube Movies    170000000  0.000000e+00   \n",
       "2     3                     MrBeast    166000000  2.836884e+10   \n",
       "3     4  Cocomelon - Nursery Rhymes    162000000  1.640000e+11   \n",
       "4     5                   SET India    159000000  1.480000e+11   \n",
       "\n",
       "           category                       Title  uploads        Country  \\\n",
       "0             Music                    T-Series    20082          India   \n",
       "1  Film & Animation               youtubemovies        1  United States   \n",
       "2     Entertainment                     MrBeast      741  United States   \n",
       "3         Education  Cocomelon - Nursery Rhymes      966  United States   \n",
       "4             Shows                   SET India   116536          India   \n",
       "\n",
       "  Abbreviation   channel_type  ...  subscribers_for_last_30_days  \\\n",
       "0           IN          Music  ...                     2000000.0   \n",
       "1           US          Games  ...                           NaN   \n",
       "2           US  Entertainment  ...                     8000000.0   \n",
       "3           US      Education  ...                     1000000.0   \n",
       "4           IN  Entertainment  ...                     1000000.0   \n",
       "\n",
       "   created_year  created_month  created_date  \\\n",
       "0        2006.0            Mar          13.0   \n",
       "1        2006.0            Mar           5.0   \n",
       "2        2012.0            Feb          20.0   \n",
       "3        2006.0            Sep           1.0   \n",
       "4        2006.0            Sep          20.0   \n",
       "\n",
       "   Gross tertiary education enrollment (%)    Population  Unemployment rate  \\\n",
       "0                                     28.1  1.366418e+09               5.36   \n",
       "1                                     88.2  3.282395e+08              14.70   \n",
       "2                                     88.2  3.282395e+08              14.70   \n",
       "3                                     88.2  3.282395e+08              14.70   \n",
       "4                                     28.1  1.366418e+09               5.36   \n",
       "\n",
       "   Urban_population   Latitude  Longitude  \n",
       "0       471031528.0  20.593684  78.962880  \n",
       "1       270663028.0  37.090240 -95.712891  \n",
       "2       270663028.0  37.090240 -95.712891  \n",
       "3       270663028.0  37.090240 -95.712891  \n",
       "4       471031528.0  20.593684  78.962880  \n",
       "\n",
       "[5 rows x 28 columns]"
      ]
     },
     "execution_count": 2,
     "metadata": {},
     "output_type": "execute_result"
    }
   ],
   "source": [
    "data = pd.read_csv(\"Global YouTube Statistics.csv\",encoding='ISO-8859-1')\n",
    "data.head()"
   ]
  },
  {
   "cell_type": "markdown",
   "metadata": {},
   "source": [
    "#### 📌 Dữ liệu có bao nhiêu hàng và bao nhiêu cột?"
   ]
  },
  {
   "cell_type": "code",
   "execution_count": 3,
   "metadata": {},
   "outputs": [
    {
     "name": "stdout",
     "output_type": "stream",
     "text": [
      "Kích thước dữ liệu hiện tại: (995, 28)\n"
     ]
    }
   ],
   "source": [
    "shape = data.shape\n",
    "print(f\"Kích thước dữ liệu hiện tại: {shape}\")"
   ]
  },
  {
   "cell_type": "code",
   "execution_count": 4,
   "metadata": {},
   "outputs": [
    {
     "name": "stdout",
     "output_type": "stream",
     "text": [
      "Dữ liệu có 995 hàng và 28 cột\n"
     ]
    }
   ],
   "source": [
    "row,col = data.shape\n",
    "print(f'Dữ liệu có {row} hàng và {col} cột')"
   ]
  },
  {
   "cell_type": "markdown",
   "metadata": {},
   "source": [
    "#### 📌 Ý nghĩa của mỗi hàng là gì?"
   ]
  },
  {
   "cell_type": "markdown",
   "metadata": {},
   "source": [
    "Mỗi dòng chứa thông tin của 1 kênh Youtube "
   ]
  },
  {
   "cell_type": "markdown",
   "metadata": {},
   "source": [
    "####  📌 Dữ liệu có các dòng bị lặp không?"
   ]
  },
  {
   "cell_type": "code",
   "execution_count": 5,
   "metadata": {},
   "outputs": [],
   "source": [
    "index = data.index\n",
    "detectDupSeries = index.duplicated(keep='first')\n",
    "num_duplicated_rows = detectDupSeries.sum()"
   ]
  },
  {
   "cell_type": "code",
   "execution_count": 6,
   "metadata": {},
   "outputs": [
    {
     "name": "stdout",
     "output_type": "stream",
     "text": [
      "Dữ liệu không có dòng bị trùng lặp!\n"
     ]
    }
   ],
   "source": [
    "# TEST\n",
    "if num_duplicated_rows == 0:\n",
    "    print(f\"Dữ liệu không có dòng bị trùng lặp!\")\n",
    "else:\n",
    "    print(f\"Dữ liệu có {num_duplicated_rows} dòng bị lặp\")"
   ]
  },
  {
   "cell_type": "markdown",
   "metadata": {},
   "source": [
    "#### 📌 Ý nghĩa của mỗi cột là gì?"
   ]
  },
  {
   "cell_type": "markdown",
   "metadata": {},
   "source": [
    "<table style=\"width: 100%; border-collapse: collapse;\">\n",
    "  <thead>\n",
    "    <tr>\n",
    "      <th style=\"min-width: 10px; width: 30px; background-color: #04B1CC; color: white; font-size :15px; font-weight: bold; text-align: left; padding: 8px;\">STT</th>\n",
    "      <th style=\"background-color: #04B1CC; color: white; font-size :15px; font-weight: bold; text-align: left; padding: 8px;\">Cột</th>\n",
    "      <th style=\"background-color: #04B1CC; color: white; font-size :15px; font-weight: bold; text-align: left; padding: 8px;\">Ý nghĩa</th>\n",
    "    </tr>\n",
    "  </thead>\n",
    "  <tbody>\n",
    "    <tr>\n",
    "      <td style=\"font-size: 14px; text-align: left;\">1</td>\n",
    "      <td style=\"font-size: 14px; text-align: left;\">rank</td>\n",
    "      <td style=\"font-size: 14px; text-align: left;\">Vị trí của kênh YouTube dựa trên số lượng người đăng ký</td>\n",
    "    </tr>\n",
    "    <tr>\n",
    "      <td style=\"font-size: 14px; text-align: left;\">2</td>\n",
    "      <td style=\"font-size: 14px; text-align: left;\">Youtuber</td>\n",
    "      <td style=\"font-size: 14px; text-align: left;\">Tên kênh YouTube</td>\n",
    "    </tr>\n",
    "    <tr>\n",
    "      <td style=\"font-size: 14px; text-align: left;\">3</td>\n",
    "      <td style=\"font-size: 14px; text-align: left;\">subscribers</td>\n",
    "      <td style=\"font-size: 14px; text-align: left;\">Số lượng người đăng ký kênh</td>\n",
    "    </tr>\n",
    "    <tr>\n",
    "      <td style=\"font-size: 14px; text-align: left;\">4</td>\n",
    "      <td style=\"font-size: 14px; text-align: left;\">video views</td>\n",
    "      <td style=\"font-size: 14px; text-align: left;\">Tổng số lượt xem trên tất cả video trên kênh</td>\n",
    "    </tr>\n",
    "    <tr>\n",
    "      <td style=\"font-size: 14px; text-align: left;\">5</td>\n",
    "      <td style=\"font-size: 14px; text-align: left;\">category</td>\n",
    "      <td style=\"font-size: 14px; text-align: left;\">Danh mục hoặc phân khúc của kênh</td>\n",
    "    </tr>\n",
    "    <tr>\n",
    "      <td style=\"font-size: 14px; text-align: left;\">6</td>\n",
    "      <td style=\"font-size: 14px; text-align: left;\">Title</td>\n",
    "      <td style=\"font-size: 14px; text-align: left;\">Tiêu đề của kênh YouTube</td>\n",
    "    </tr>\n",
    "    <tr>\n",
    "      <td style=\"font-size: 14px; text-align: left;\">7</td>\n",
    "      <td style=\"font-size: 14px; text-align: left;\">uploads</td>\n",
    "      <td style=\"font-size: 14px; text-align: left;\">Tổng số video upload trên kênh</td>\n",
    "    </tr>\n",
    "    <tr>\n",
    "      <td style=\"font-size: 14px; text-align: left;\">8</td>\n",
    "      <td style=\"font-size: 14px; text-align: left;\">Country</td>\n",
    "      <td style=\"font-size: 14px; text-align: left;\">Quốc gia nơi kênh YouTube bắt nguồn</td>\n",
    "    </tr>\n",
    "    <tr>\n",
    "      <td style=\"font-size: 14px; text-align: left;\">9</td>\n",
    "      <td style=\"font-size: 14px; text-align: left;\">Abbreviation</td>\n",
    "      <td style=\"font-size: 14px; text-align: left;\">Viết tắt của quốc gia</td>\n",
    "    </tr>\n",
    "    <tr>\n",
    "      <td style=\"font-size: 14px; text-align: left;\">10</td>\n",
    "      <td style=\"font-size: 14px; text-align: left;\">channel_type</td>\n",
    "      <td style=\"font-size: 14px; text-align: left;\">Loại kênh YouTube </td>\n",
    "    </tr>\n",
    "    <tr>\n",
    "      <td style=\"font-size: 14px; text-align: left;\">11</td>\n",
    "      <td style=\"font-size: 14px; text-align: left;\">video_views_rank</td>\n",
    "      <td style=\"font-size: 14px; text-align: left;\">Xếp hạng kênh dựa trên tổng lượt xem video</td>\n",
    "    </tr>\n",
    "    <tr>\n",
    "      <td style=\"font-size: 14px; text-align: left;\">12</td>\n",
    "      <td style=\"font-size: 14px; text-align: left;\">country_rank</td>\n",
    "      <td style=\"font-size: 14px; text-align: left;\">Xếp hạng kênh dựa trên số lượng người đăng ký trong quốc gia của kênh đó</td>\n",
    "    </tr>\n",
    "    <tr>\n",
    "      <td style=\"font-size: 14px; text-align: left;\">13</td>\n",
    "      <td style=\"font-size: 14px; text-align: left;\">channel_type_rank</td>\n",
    "      <td style=\"font-size: 14px; text-align: left;\"> Xếp hạng kênh dựa trên loại kênh </td>\n",
    "    </tr>\n",
    "     <tr>\n",
    "      <td style=\"font-size: 14px; text-align: left;\">14</td>\n",
    "      <td style=\"font-size: 14px; text-align: left;\">video_views_for_the_last_30_days</td>\n",
    "      <td style=\"font-size: 14px; text-align: left;\"> Tổng số lượt xem video trong 30 ngày qua</td>\n",
    "    </tr>\n",
    "     <tr>\n",
    "      <td style=\"font-size: 14px; text-align: left;\">15</td>\n",
    "      <td style=\"font-size: 14px; text-align: left;\">lowest_monthly_earnings</td>\n",
    "      <td style=\"font-size: 14px; text-align: left;\"> Thu nhập hàng tháng ước tính thấp nhất từ kênh</td>\n",
    "    </tr>\n",
    "      <tr>\n",
    "      <td style=\"font-size: 14px; text-align: left;\">16</td>\n",
    "      <td style=\"font-size: 14px; text-align: left;\">highest_monthly_earnings</td>\n",
    "      <td style=\"font-size: 14px; text-align: left;\"> Thu nhập hàng tháng ước tính cao nhất từ kênh</td>\n",
    "    </tr>\n",
    "      <tr>\n",
    "      <td style=\"font-size: 14px; text-align: left;\">17</td>\n",
    "      <td style=\"font-size: 14px; text-align: left;\">lowest_yearly_earnings</td>\n",
    "      <td style=\"font-size: 14px; text-align: left;\"> Thu nhập ước tính hàng năm thấp nhất từ kênh</td>\n",
    "    </tr>\n",
    "      <tr>\n",
    "      <td style=\"font-size: 14px; text-align: left;\">18</td>\n",
    "      <td style=\"font-size: 14px; text-align: left;\">highest_yearly_earnings</td>\n",
    "      <td style=\"font-size: 14px; text-align: left;\"> Thu nhập ước tính hàng năm cao nhất từ kênh</td>\n",
    "    </tr>\n",
    "      <tr>\n",
    "      <td style=\"font-size: 14px; text-align: left;\">19</td>\n",
    "      <td style=\"font-size: 14px; text-align: left;\">subscribers_for_last_30_days</td>\n",
    "      <td style=\"font-size: 14px; text-align: left;\"> Số lượng người đăng ký mới đạt được trong 30 ngày qua</td>\n",
    "    </tr>\n",
    "      <tr>\n",
    "      <td style=\"font-size: 14px; text-align: left;\">20</td>\n",
    "      <td style=\"font-size: 14px; text-align: left;\">created_year</td>\n",
    "      <td style=\"font-size: 14px; text-align: left;\"> Năm kênh YouTube được tạo</td>\n",
    "    </tr>\n",
    "      <tr>\n",
    "      <td style=\"font-size: 14px; text-align: left;\">21</td>\n",
    "      <td style=\"font-size: 14px; text-align: left;\">created_month</td>\n",
    "      <td style=\"font-size: 14px; text-align: left;\"> Tháng kênh YouTube được tạo</td>\n",
    "    </tr>\n",
    "      <tr>\n",
    "      <td style=\"font-size: 14px; text-align: left;\">22</td>\n",
    "      <td style=\"font-size: 14px; text-align: left;\">created_date</td>\n",
    "      <td style=\"font-size: 14px; text-align: left;\"> Ngày chính xác tạo kênh YouTube</td>\n",
    "    </tr>\n",
    "      <tr>\n",
    "      <td style=\"font-size: 14px; text-align: left;\">23</td>\n",
    "      <td style=\"font-size: 14px; text-align: left;\">Gross tertiary education enrollment (%)</td>\n",
    "      <td style=\"font-size: 14px; text-align: left;\"> Tỷ lệ dân số theo học giáo dục đại học trong cả nước</td>\n",
    "    </tr>\n",
    "      <tr>\n",
    "      <td style=\"font-size: 14px; text-align: left;\">24</td>\n",
    "      <td style=\"font-size: 14px; text-align: left;\">Population</td>\n",
    "      <td style=\"font-size: 14px; text-align: left;\"> Tổng dân số cả nước</td>\n",
    "    </tr>\n",
    "      <tr>\n",
    "      <td style=\"font-size: 14px; text-align: left;\">25</td>\n",
    "      <td style=\"font-size: 14px; text-align: left;\">Unemployment rate</td>\n",
    "      <td style=\"font-size: 14px; text-align: left;\"> Tỷ lệ thất nghiệp trong nước</td>\n",
    "    </tr>\n",
    "      <tr>\n",
    "      <td style=\"font-size: 14px; text-align: left;\">26</td>\n",
    "      <td style=\"font-size: 14px; text-align: left;\">Urban_population</td>\n",
    "      <td style=\"font-size: 14px; text-align: left;\"> Tỷ lệ dân số sống ở khu vực thành thị</td>\n",
    "    </tr>\n",
    "      <tr>\n",
    "      <td style=\"font-size: 14px; text-align: left;\">27</td>\n",
    "      <td style=\"font-size: 14px; text-align: left;\">Latitude</td>\n",
    "      <td style=\"font-size: 14px; text-align: left;\"> Tọa độ vĩ độ của vị trí đất nước</td>\n",
    "    </tr>\n",
    "      <tr>\n",
    "      <td style=\"font-size: 14px; text-align: left;\">28</td>\n",
    "      <td style=\"font-size: 14px; text-align: left;\">Longitude</td>\n",
    "      <td style=\"font-size: 14px; text-align: left;\"> Tọa độ kinh độ của vị trí đất nước</td>\n",
    "    </tr>\n",
    "  </tbody>\n",
    "</table>"
   ]
  },
  {
   "cell_type": "markdown",
   "metadata": {},
   "source": [
    "#### 📌 Có cột nào dư thừa hay không cần thiết không?"
   ]
  },
  {
   "cell_type": "markdown",
   "metadata": {},
   "source": [
    "Tiến hành loại bỏ các cột `rank`, `Title`, `Abbreviation`, `Gross tertiary education enrollment (%)`, `Unemployment rate`, `Urban_population`, `Latitude`, `Longitude`\n",
    "- Cột `rank` là vị trí của kênh dựa trên số lượng đăng ký, không mang nhiều ý nghĩa\n",
    "- Cột `Title` có giá trị gần như là trùng lặp với cột `Youtuber`\n",
    "- Cột  `Gross tertiary education enrollment (%)`, `Unemployment rate`, `Urban_population` không mang nhiều ý nghĩa\n"
   ]
  },
  {
   "cell_type": "code",
   "execution_count": 7,
   "metadata": {},
   "outputs": [
    {
     "data": {
      "text/html": [
       "<div>\n",
       "<style scoped>\n",
       "    .dataframe tbody tr th:only-of-type {\n",
       "        vertical-align: middle;\n",
       "    }\n",
       "\n",
       "    .dataframe tbody tr th {\n",
       "        vertical-align: top;\n",
       "    }\n",
       "\n",
       "    .dataframe thead th {\n",
       "        text-align: right;\n",
       "    }\n",
       "</style>\n",
       "<table border=\"1\" class=\"dataframe\">\n",
       "  <thead>\n",
       "    <tr style=\"text-align: right;\">\n",
       "      <th></th>\n",
       "      <th>Youtuber</th>\n",
       "      <th>subscribers</th>\n",
       "      <th>video views</th>\n",
       "      <th>category</th>\n",
       "      <th>uploads</th>\n",
       "      <th>Country</th>\n",
       "      <th>Abbreviation</th>\n",
       "      <th>channel_type</th>\n",
       "      <th>video_views_rank</th>\n",
       "      <th>country_rank</th>\n",
       "      <th>...</th>\n",
       "      <th>highest_monthly_earnings</th>\n",
       "      <th>lowest_yearly_earnings</th>\n",
       "      <th>highest_yearly_earnings</th>\n",
       "      <th>subscribers_for_last_30_days</th>\n",
       "      <th>created_year</th>\n",
       "      <th>created_month</th>\n",
       "      <th>created_date</th>\n",
       "      <th>Population</th>\n",
       "      <th>Latitude</th>\n",
       "      <th>Longitude</th>\n",
       "    </tr>\n",
       "  </thead>\n",
       "  <tbody>\n",
       "    <tr>\n",
       "      <th>0</th>\n",
       "      <td>T-Series</td>\n",
       "      <td>245000000</td>\n",
       "      <td>2.280000e+11</td>\n",
       "      <td>Music</td>\n",
       "      <td>20082</td>\n",
       "      <td>India</td>\n",
       "      <td>IN</td>\n",
       "      <td>Music</td>\n",
       "      <td>1.0</td>\n",
       "      <td>1.0</td>\n",
       "      <td>...</td>\n",
       "      <td>9000000.00</td>\n",
       "      <td>6800000.00</td>\n",
       "      <td>1.084000e+08</td>\n",
       "      <td>2000000.0</td>\n",
       "      <td>2006.0</td>\n",
       "      <td>Mar</td>\n",
       "      <td>13.0</td>\n",
       "      <td>1.366418e+09</td>\n",
       "      <td>20.593684</td>\n",
       "      <td>78.962880</td>\n",
       "    </tr>\n",
       "    <tr>\n",
       "      <th>1</th>\n",
       "      <td>YouTube Movies</td>\n",
       "      <td>170000000</td>\n",
       "      <td>0.000000e+00</td>\n",
       "      <td>Film &amp; Animation</td>\n",
       "      <td>1</td>\n",
       "      <td>United States</td>\n",
       "      <td>US</td>\n",
       "      <td>Games</td>\n",
       "      <td>4055159.0</td>\n",
       "      <td>7670.0</td>\n",
       "      <td>...</td>\n",
       "      <td>0.05</td>\n",
       "      <td>0.04</td>\n",
       "      <td>5.800000e-01</td>\n",
       "      <td>NaN</td>\n",
       "      <td>2006.0</td>\n",
       "      <td>Mar</td>\n",
       "      <td>5.0</td>\n",
       "      <td>3.282395e+08</td>\n",
       "      <td>37.090240</td>\n",
       "      <td>-95.712891</td>\n",
       "    </tr>\n",
       "    <tr>\n",
       "      <th>2</th>\n",
       "      <td>MrBeast</td>\n",
       "      <td>166000000</td>\n",
       "      <td>2.836884e+10</td>\n",
       "      <td>Entertainment</td>\n",
       "      <td>741</td>\n",
       "      <td>United States</td>\n",
       "      <td>US</td>\n",
       "      <td>Entertainment</td>\n",
       "      <td>48.0</td>\n",
       "      <td>1.0</td>\n",
       "      <td>...</td>\n",
       "      <td>5400000.00</td>\n",
       "      <td>4000000.00</td>\n",
       "      <td>6.470000e+07</td>\n",
       "      <td>8000000.0</td>\n",
       "      <td>2012.0</td>\n",
       "      <td>Feb</td>\n",
       "      <td>20.0</td>\n",
       "      <td>3.282395e+08</td>\n",
       "      <td>37.090240</td>\n",
       "      <td>-95.712891</td>\n",
       "    </tr>\n",
       "    <tr>\n",
       "      <th>3</th>\n",
       "      <td>Cocomelon - Nursery Rhymes</td>\n",
       "      <td>162000000</td>\n",
       "      <td>1.640000e+11</td>\n",
       "      <td>Education</td>\n",
       "      <td>966</td>\n",
       "      <td>United States</td>\n",
       "      <td>US</td>\n",
       "      <td>Education</td>\n",
       "      <td>2.0</td>\n",
       "      <td>2.0</td>\n",
       "      <td>...</td>\n",
       "      <td>7900000.00</td>\n",
       "      <td>5900000.00</td>\n",
       "      <td>9.480000e+07</td>\n",
       "      <td>1000000.0</td>\n",
       "      <td>2006.0</td>\n",
       "      <td>Sep</td>\n",
       "      <td>1.0</td>\n",
       "      <td>3.282395e+08</td>\n",
       "      <td>37.090240</td>\n",
       "      <td>-95.712891</td>\n",
       "    </tr>\n",
       "    <tr>\n",
       "      <th>4</th>\n",
       "      <td>SET India</td>\n",
       "      <td>159000000</td>\n",
       "      <td>1.480000e+11</td>\n",
       "      <td>Shows</td>\n",
       "      <td>116536</td>\n",
       "      <td>India</td>\n",
       "      <td>IN</td>\n",
       "      <td>Entertainment</td>\n",
       "      <td>3.0</td>\n",
       "      <td>2.0</td>\n",
       "      <td>...</td>\n",
       "      <td>7300000.00</td>\n",
       "      <td>5500000.00</td>\n",
       "      <td>8.750000e+07</td>\n",
       "      <td>1000000.0</td>\n",
       "      <td>2006.0</td>\n",
       "      <td>Sep</td>\n",
       "      <td>20.0</td>\n",
       "      <td>1.366418e+09</td>\n",
       "      <td>20.593684</td>\n",
       "      <td>78.962880</td>\n",
       "    </tr>\n",
       "  </tbody>\n",
       "</table>\n",
       "<p>5 rows × 23 columns</p>\n",
       "</div>"
      ],
      "text/plain": [
       "                     Youtuber  subscribers   video views          category  \\\n",
       "0                    T-Series    245000000  2.280000e+11             Music   \n",
       "1              YouTube Movies    170000000  0.000000e+00  Film & Animation   \n",
       "2                     MrBeast    166000000  2.836884e+10     Entertainment   \n",
       "3  Cocomelon - Nursery Rhymes    162000000  1.640000e+11         Education   \n",
       "4                   SET India    159000000  1.480000e+11             Shows   \n",
       "\n",
       "   uploads        Country Abbreviation   channel_type  video_views_rank  \\\n",
       "0    20082          India           IN          Music               1.0   \n",
       "1        1  United States           US          Games         4055159.0   \n",
       "2      741  United States           US  Entertainment              48.0   \n",
       "3      966  United States           US      Education               2.0   \n",
       "4   116536          India           IN  Entertainment               3.0   \n",
       "\n",
       "   country_rank  ...  highest_monthly_earnings  lowest_yearly_earnings  \\\n",
       "0           1.0  ...                9000000.00              6800000.00   \n",
       "1        7670.0  ...                      0.05                    0.04   \n",
       "2           1.0  ...                5400000.00              4000000.00   \n",
       "3           2.0  ...                7900000.00              5900000.00   \n",
       "4           2.0  ...                7300000.00              5500000.00   \n",
       "\n",
       "   highest_yearly_earnings  subscribers_for_last_30_days  created_year  \\\n",
       "0             1.084000e+08                     2000000.0        2006.0   \n",
       "1             5.800000e-01                           NaN        2006.0   \n",
       "2             6.470000e+07                     8000000.0        2012.0   \n",
       "3             9.480000e+07                     1000000.0        2006.0   \n",
       "4             8.750000e+07                     1000000.0        2006.0   \n",
       "\n",
       "   created_month  created_date    Population   Latitude  Longitude  \n",
       "0            Mar          13.0  1.366418e+09  20.593684  78.962880  \n",
       "1            Mar           5.0  3.282395e+08  37.090240 -95.712891  \n",
       "2            Feb          20.0  3.282395e+08  37.090240 -95.712891  \n",
       "3            Sep           1.0  3.282395e+08  37.090240 -95.712891  \n",
       "4            Sep          20.0  1.366418e+09  20.593684  78.962880  \n",
       "\n",
       "[5 rows x 23 columns]"
      ]
     },
     "execution_count": 7,
     "metadata": {},
     "output_type": "execute_result"
    }
   ],
   "source": [
    "drop_cols = ['rank', 'Title', 'Gross tertiary education enrollment (%)', 'Unemployment rate', 'Urban_population']\n",
    "data.drop(drop_cols, axis=1, inplace=True)\n",
    "data.head()"
   ]
  },
  {
   "cell_type": "markdown",
   "metadata": {},
   "source": [
    "#### 📌 Kiểu dữ liệu hiện tại của mỗi cột là gì? Có cột nào có kiểu dữ liệu không phù hợp không?"
   ]
  },
  {
   "cell_type": "code",
   "execution_count": 8,
   "metadata": {},
   "outputs": [
    {
     "name": "stdout",
     "output_type": "stream",
     "text": [
      "<class 'pandas.core.frame.DataFrame'>\n",
      "RangeIndex: 995 entries, 0 to 994\n",
      "Data columns (total 23 columns):\n",
      " #   Column                            Non-Null Count  Dtype  \n",
      "---  ------                            --------------  -----  \n",
      " 0   Youtuber                          995 non-null    object \n",
      " 1   subscribers                       995 non-null    int64  \n",
      " 2   video views                       995 non-null    float64\n",
      " 3   category                          949 non-null    object \n",
      " 4   uploads                           995 non-null    int64  \n",
      " 5   Country                           873 non-null    object \n",
      " 6   Abbreviation                      873 non-null    object \n",
      " 7   channel_type                      965 non-null    object \n",
      " 8   video_views_rank                  994 non-null    float64\n",
      " 9   country_rank                      879 non-null    float64\n",
      " 10  channel_type_rank                 962 non-null    float64\n",
      " 11  video_views_for_the_last_30_days  939 non-null    float64\n",
      " 12  lowest_monthly_earnings           995 non-null    float64\n",
      " 13  highest_monthly_earnings          995 non-null    float64\n",
      " 14  lowest_yearly_earnings            995 non-null    float64\n",
      " 15  highest_yearly_earnings           995 non-null    float64\n",
      " 16  subscribers_for_last_30_days      658 non-null    float64\n",
      " 17  created_year                      990 non-null    float64\n",
      " 18  created_month                     990 non-null    object \n",
      " 19  created_date                      990 non-null    float64\n",
      " 20  Population                        872 non-null    float64\n",
      " 21  Latitude                          872 non-null    float64\n",
      " 22  Longitude                         872 non-null    float64\n",
      "dtypes: float64(15), int64(2), object(6)\n",
      "memory usage: 178.9+ KB\n"
     ]
    }
   ],
   "source": [
    "data.info()"
   ]
  },
  {
   "cell_type": "markdown",
   "metadata": {},
   "source": [
    "- Nhìn chung các cột `video views`, `video_views_rank`, `country_rank`, `channel_type_rank`, `video_views_for_the_last_30_days`,`subscribers_for_last_30_days`, `created_year`, `created_date`, `Population` cần chuyển về dạng int\n",
    "- Các cột `created_year`, `created_date` chuyển về object để phân vào categorical, tuy nhiên ở bước này nhóm em vẫn để `created_year`, `created_date` ở kiểu số để có thể điền giá trị bị thiếu và sẽ chuyển về dạng object sau"
   ]
  },
  {
   "cell_type": "code",
   "execution_count": 9,
   "metadata": {},
   "outputs": [],
   "source": [
    "cols_list = ['video_views_rank', 'country_rank', 'channel_type_rank', 'video_views_for_the_last_30_days','subscribers_for_last_30_days', 'Population' ]\n",
    "for column in cols_list:\n",
    "    data[column] = pd.to_numeric(data[column], errors='coerce')\n",
    "data['video views'] = data['video views'].astype(np.int64)\n"
   ]
  },
  {
   "cell_type": "code",
   "execution_count": 10,
   "metadata": {},
   "outputs": [
    {
     "name": "stdout",
     "output_type": "stream",
     "text": [
      "<class 'pandas.core.frame.DataFrame'>\n",
      "RangeIndex: 995 entries, 0 to 994\n",
      "Data columns (total 23 columns):\n",
      " #   Column                            Non-Null Count  Dtype  \n",
      "---  ------                            --------------  -----  \n",
      " 0   Youtuber                          995 non-null    object \n",
      " 1   subscribers                       995 non-null    int64  \n",
      " 2   video views                       995 non-null    int64  \n",
      " 3   category                          949 non-null    object \n",
      " 4   uploads                           995 non-null    int64  \n",
      " 5   Country                           873 non-null    object \n",
      " 6   Abbreviation                      873 non-null    object \n",
      " 7   channel_type                      965 non-null    object \n",
      " 8   video_views_rank                  994 non-null    float64\n",
      " 9   country_rank                      879 non-null    float64\n",
      " 10  channel_type_rank                 962 non-null    float64\n",
      " 11  video_views_for_the_last_30_days  939 non-null    float64\n",
      " 12  lowest_monthly_earnings           995 non-null    float64\n",
      " 13  highest_monthly_earnings          995 non-null    float64\n",
      " 14  lowest_yearly_earnings            995 non-null    float64\n",
      " 15  highest_yearly_earnings           995 non-null    float64\n",
      " 16  subscribers_for_last_30_days      658 non-null    float64\n",
      " 17  created_year                      990 non-null    float64\n",
      " 18  created_month                     990 non-null    object \n",
      " 19  created_date                      990 non-null    float64\n",
      " 20  Population                        872 non-null    float64\n",
      " 21  Latitude                          872 non-null    float64\n",
      " 22  Longitude                         872 non-null    float64\n",
      "dtypes: float64(14), int64(3), object(6)\n",
      "memory usage: 178.9+ KB\n"
     ]
    }
   ],
   "source": [
    "data.info()"
   ]
  },
  {
   "cell_type": "markdown",
   "metadata": {},
   "source": [
    "Chúng ta có thể thấy , mặc dù chuyển sang int64 nhưng vẫn xuất hiện float64 ở các cột mà ta muốn chuyển, điều này là do việc bị thiếu dữ liệu và các giá trị NULL sẽ được Pandas cho là Float64"
   ]
  },
  {
   "cell_type": "markdown",
   "metadata": {},
   "source": [
    "#### 📌 Đối với mỗi cột có kiểu dữ liệu số, các giá trị được phân bố như thế nào?"
   ]
  },
  {
   "cell_type": "markdown",
   "metadata": {},
   "source": [
    "📚 Đối với các cột có kiểu dữ liệu số, chúng ta sẽ tính toán một số thống kê cơ bản:\n",
    "- Tỷ lệ phần trăm (từ 0 đến 100) giá trị bị thiếu\n",
    "- The min\n",
    "- The lower quartile (phân vị 25)\n",
    "- The median (phân vị 50)\n",
    "- The upper quartile (phân vị 75)\n",
    "- The max\n",
    "\n",
    "Sau đó chúng ta sẽ quan sát và nhận xét xem kết quả có gì bất thường không?"
   ]
  },
  {
   "cell_type": "code",
   "execution_count": 11,
   "metadata": {},
   "outputs": [
    {
     "data": {
      "text/html": [
       "<div>\n",
       "<style scoped>\n",
       "    .dataframe tbody tr th:only-of-type {\n",
       "        vertical-align: middle;\n",
       "    }\n",
       "\n",
       "    .dataframe tbody tr th {\n",
       "        vertical-align: top;\n",
       "    }\n",
       "\n",
       "    .dataframe thead th {\n",
       "        text-align: right;\n",
       "    }\n",
       "</style>\n",
       "<table border=\"1\" class=\"dataframe\">\n",
       "  <thead>\n",
       "    <tr style=\"text-align: right;\">\n",
       "      <th></th>\n",
       "      <th>missing_ratio</th>\n",
       "      <th>min</th>\n",
       "      <th>lower_quartile</th>\n",
       "      <th>median</th>\n",
       "      <th>upper_quartile</th>\n",
       "      <th>max</th>\n",
       "    </tr>\n",
       "  </thead>\n",
       "  <tbody>\n",
       "    <tr>\n",
       "      <th>subscribers</th>\n",
       "      <td>0.000000</td>\n",
       "      <td>1.230000e+07</td>\n",
       "      <td>1.450000e+07</td>\n",
       "      <td>1.770000e+07</td>\n",
       "      <td>2.460000e+07</td>\n",
       "      <td>2.450000e+08</td>\n",
       "    </tr>\n",
       "    <tr>\n",
       "      <th>video views</th>\n",
       "      <td>0.000000</td>\n",
       "      <td>0.000000e+00</td>\n",
       "      <td>4.288145e+09</td>\n",
       "      <td>7.760820e+09</td>\n",
       "      <td>1.355470e+10</td>\n",
       "      <td>2.280000e+11</td>\n",
       "    </tr>\n",
       "    <tr>\n",
       "      <th>uploads</th>\n",
       "      <td>0.000000</td>\n",
       "      <td>0.000000e+00</td>\n",
       "      <td>1.945000e+02</td>\n",
       "      <td>7.290000e+02</td>\n",
       "      <td>2.667500e+03</td>\n",
       "      <td>3.013080e+05</td>\n",
       "    </tr>\n",
       "    <tr>\n",
       "      <th>video_views_rank</th>\n",
       "      <td>0.100503</td>\n",
       "      <td>1.000000e+00</td>\n",
       "      <td>3.230000e+02</td>\n",
       "      <td>9.155000e+02</td>\n",
       "      <td>3.584500e+03</td>\n",
       "      <td>4.057944e+06</td>\n",
       "    </tr>\n",
       "    <tr>\n",
       "      <th>country_rank</th>\n",
       "      <td>11.658291</td>\n",
       "      <td>1.000000e+00</td>\n",
       "      <td>1.100000e+01</td>\n",
       "      <td>5.100000e+01</td>\n",
       "      <td>1.230000e+02</td>\n",
       "      <td>7.741000e+03</td>\n",
       "    </tr>\n",
       "    <tr>\n",
       "      <th>channel_type_rank</th>\n",
       "      <td>3.316583</td>\n",
       "      <td>1.000000e+00</td>\n",
       "      <td>2.700000e+01</td>\n",
       "      <td>6.550000e+01</td>\n",
       "      <td>1.397500e+02</td>\n",
       "      <td>7.741000e+03</td>\n",
       "    </tr>\n",
       "    <tr>\n",
       "      <th>video_views_for_the_last_30_days</th>\n",
       "      <td>5.628141</td>\n",
       "      <td>1.000000e+00</td>\n",
       "      <td>2.013750e+07</td>\n",
       "      <td>6.408500e+07</td>\n",
       "      <td>1.688265e+08</td>\n",
       "      <td>6.589000e+09</td>\n",
       "    </tr>\n",
       "    <tr>\n",
       "      <th>lowest_monthly_earnings</th>\n",
       "      <td>0.000000</td>\n",
       "      <td>0.000000e+00</td>\n",
       "      <td>2.700000e+03</td>\n",
       "      <td>1.330000e+04</td>\n",
       "      <td>3.790000e+04</td>\n",
       "      <td>8.509000e+05</td>\n",
       "    </tr>\n",
       "    <tr>\n",
       "      <th>highest_monthly_earnings</th>\n",
       "      <td>0.000000</td>\n",
       "      <td>0.000000e+00</td>\n",
       "      <td>4.350000e+04</td>\n",
       "      <td>2.127000e+05</td>\n",
       "      <td>6.068000e+05</td>\n",
       "      <td>1.360000e+07</td>\n",
       "    </tr>\n",
       "    <tr>\n",
       "      <th>lowest_yearly_earnings</th>\n",
       "      <td>0.000000</td>\n",
       "      <td>0.000000e+00</td>\n",
       "      <td>3.265000e+04</td>\n",
       "      <td>1.595000e+05</td>\n",
       "      <td>4.551000e+05</td>\n",
       "      <td>1.020000e+07</td>\n",
       "    </tr>\n",
       "    <tr>\n",
       "      <th>highest_yearly_earnings</th>\n",
       "      <td>0.000000</td>\n",
       "      <td>0.000000e+00</td>\n",
       "      <td>5.217500e+05</td>\n",
       "      <td>2.600000e+06</td>\n",
       "      <td>7.300000e+06</td>\n",
       "      <td>1.634000e+08</td>\n",
       "    </tr>\n",
       "    <tr>\n",
       "      <th>subscribers_for_last_30_days</th>\n",
       "      <td>33.869347</td>\n",
       "      <td>1.000000e+00</td>\n",
       "      <td>1.000000e+05</td>\n",
       "      <td>2.000000e+05</td>\n",
       "      <td>4.000000e+05</td>\n",
       "      <td>8.000000e+06</td>\n",
       "    </tr>\n",
       "    <tr>\n",
       "      <th>created_year</th>\n",
       "      <td>0.502513</td>\n",
       "      <td>1.970000e+03</td>\n",
       "      <td>2.009000e+03</td>\n",
       "      <td>2.013000e+03</td>\n",
       "      <td>2.016000e+03</td>\n",
       "      <td>2.022000e+03</td>\n",
       "    </tr>\n",
       "    <tr>\n",
       "      <th>created_date</th>\n",
       "      <td>0.502513</td>\n",
       "      <td>1.000000e+00</td>\n",
       "      <td>8.000000e+00</td>\n",
       "      <td>1.600000e+01</td>\n",
       "      <td>2.300000e+01</td>\n",
       "      <td>3.100000e+01</td>\n",
       "    </tr>\n",
       "    <tr>\n",
       "      <th>Population</th>\n",
       "      <td>12.361809</td>\n",
       "      <td>2.025060e+05</td>\n",
       "      <td>8.335541e+07</td>\n",
       "      <td>3.282395e+08</td>\n",
       "      <td>3.282395e+08</td>\n",
       "      <td>1.397715e+09</td>\n",
       "    </tr>\n",
       "    <tr>\n",
       "      <th>Latitude</th>\n",
       "      <td>12.361809</td>\n",
       "      <td>-3.841610e+01</td>\n",
       "      <td>2.059368e+01</td>\n",
       "      <td>3.709024e+01</td>\n",
       "      <td>3.709024e+01</td>\n",
       "      <td>6.192411e+01</td>\n",
       "    </tr>\n",
       "    <tr>\n",
       "      <th>Longitude</th>\n",
       "      <td>12.361809</td>\n",
       "      <td>-1.721046e+02</td>\n",
       "      <td>-9.571289e+01</td>\n",
       "      <td>-5.192528e+01</td>\n",
       "      <td>7.896288e+01</td>\n",
       "      <td>1.382529e+02</td>\n",
       "    </tr>\n",
       "  </tbody>\n",
       "</table>\n",
       "</div>"
      ],
      "text/plain": [
       "                                  missing_ratio           min  lower_quartile  \\\n",
       "subscribers                            0.000000  1.230000e+07    1.450000e+07   \n",
       "video views                            0.000000  0.000000e+00    4.288145e+09   \n",
       "uploads                                0.000000  0.000000e+00    1.945000e+02   \n",
       "video_views_rank                       0.100503  1.000000e+00    3.230000e+02   \n",
       "country_rank                          11.658291  1.000000e+00    1.100000e+01   \n",
       "channel_type_rank                      3.316583  1.000000e+00    2.700000e+01   \n",
       "video_views_for_the_last_30_days       5.628141  1.000000e+00    2.013750e+07   \n",
       "lowest_monthly_earnings                0.000000  0.000000e+00    2.700000e+03   \n",
       "highest_monthly_earnings               0.000000  0.000000e+00    4.350000e+04   \n",
       "lowest_yearly_earnings                 0.000000  0.000000e+00    3.265000e+04   \n",
       "highest_yearly_earnings                0.000000  0.000000e+00    5.217500e+05   \n",
       "subscribers_for_last_30_days          33.869347  1.000000e+00    1.000000e+05   \n",
       "created_year                           0.502513  1.970000e+03    2.009000e+03   \n",
       "created_date                           0.502513  1.000000e+00    8.000000e+00   \n",
       "Population                            12.361809  2.025060e+05    8.335541e+07   \n",
       "Latitude                              12.361809 -3.841610e+01    2.059368e+01   \n",
       "Longitude                             12.361809 -1.721046e+02   -9.571289e+01   \n",
       "\n",
       "                                        median  upper_quartile           max  \n",
       "subscribers                       1.770000e+07    2.460000e+07  2.450000e+08  \n",
       "video views                       7.760820e+09    1.355470e+10  2.280000e+11  \n",
       "uploads                           7.290000e+02    2.667500e+03  3.013080e+05  \n",
       "video_views_rank                  9.155000e+02    3.584500e+03  4.057944e+06  \n",
       "country_rank                      5.100000e+01    1.230000e+02  7.741000e+03  \n",
       "channel_type_rank                 6.550000e+01    1.397500e+02  7.741000e+03  \n",
       "video_views_for_the_last_30_days  6.408500e+07    1.688265e+08  6.589000e+09  \n",
       "lowest_monthly_earnings           1.330000e+04    3.790000e+04  8.509000e+05  \n",
       "highest_monthly_earnings          2.127000e+05    6.068000e+05  1.360000e+07  \n",
       "lowest_yearly_earnings            1.595000e+05    4.551000e+05  1.020000e+07  \n",
       "highest_yearly_earnings           2.600000e+06    7.300000e+06  1.634000e+08  \n",
       "subscribers_for_last_30_days      2.000000e+05    4.000000e+05  8.000000e+06  \n",
       "created_year                      2.013000e+03    2.016000e+03  2.022000e+03  \n",
       "created_date                      1.600000e+01    2.300000e+01  3.100000e+01  \n",
       "Population                        3.282395e+08    3.282395e+08  1.397715e+09  \n",
       "Latitude                          3.709024e+01    3.709024e+01  6.192411e+01  \n",
       "Longitude                        -5.192528e+01    7.896288e+01  1.382529e+02  "
      ]
     },
     "execution_count": 11,
     "metadata": {},
     "output_type": "execute_result"
    }
   ],
   "source": [
    "num_col_info_df = data.select_dtypes(exclude=['object', 'bool'])\n",
    "\n",
    "def missing_ratio(s):\n",
    "    return (s.isna().mean() * 100)\n",
    "\n",
    "def median(df):\n",
    "    return (df.quantile(0.5))\n",
    "\n",
    "def lower_quartile(df):\n",
    "    return (df.quantile(0.25))\n",
    "\n",
    "def upper_quartile(df):\n",
    "    return (df.quantile(0.75))\n",
    "\n",
    "num_col_info_df = num_col_info_df.agg([missing_ratio, \"min\", lower_quartile, median, upper_quartile, \"max\"])\n",
    "num_col_info_df.T"
   ]
  },
  {
   "cell_type": "markdown",
   "metadata": {},
   "source": [
    "- Cột `subscribers_for_last_30_days` có rất nhiều dữ liệu bị thiếu (tối thiểu 33.3%), tiến hành loại bỏ cột này\n",
    "- Các cột `video_views_rank`, `country_rank`, `channel_type_rank`, `video_views_for_the_last_30_days`,`created_year`,`created_date`, `Population` có dữ liệu bị thiếu, vì vậy nhóm em sẽ thay thế giá trị thiếu bằng trung vị của mỗi cột\n",
    "- Các cột `Latitude`, `Longitude` được điền bằng cách sử dụng dữ liệu từ các quốc gia có thông tin vị trí đã biết và thông qua việc sử dụng thư viện Geopy để tìm kiếm vị trí (latitude và longitude) cho các quốc gia mà dữ liệu ban đầu không có."
   ]
  },
  {
   "cell_type": "markdown",
   "metadata": {},
   "source": [
    "🚧 Tiền xử lý các cột dữ liệu số"
   ]
  },
  {
   "cell_type": "code",
   "execution_count": 12,
   "metadata": {},
   "outputs": [],
   "source": [
    "data.drop([\"subscribers_for_last_30_days\"], axis=1, inplace=True)"
   ]
  },
  {
   "cell_type": "code",
   "execution_count": 13,
   "metadata": {},
   "outputs": [],
   "source": [
    "col_list = ['video_views_rank', 'country_rank', 'channel_type_rank', 'video_views_for_the_last_30_days','created_year','created_date','Population']\n",
    "data.fillna(value=np.nan, inplace=True)\n",
    "\n",
    "for col in col_list:\n",
    "    data[col] = data[col].fillna(data[col].median().__round__(0))\n",
    "    data[col] = data[col].astype(np.int64)"
   ]
  },
  {
   "cell_type": "markdown",
   "metadata": {},
   "source": [
    "🚧 Tiền xử lý các cột `Latitude`, `Longitude` "
   ]
  },
  {
   "cell_type": "code",
   "execution_count": 14,
   "metadata": {},
   "outputs": [],
   "source": [
    "countries_with_values = data.dropna(subset=['Latitude', 'Longitude'])[['Country', 'Latitude', 'Longitude']].drop_duplicates()\n",
    "\n",
    "geolocator = Nominatim(user_agent=\"geo_fillna\")\n",
    "\n",
    "for index, row in data.iterrows():\n",
    "    if pd.isna(row['Latitude']) or pd.isna(row['Longitude']):\n",
    "        country = row['Country']\n",
    "        if country in countries_with_values['Country'].values:\n",
    "            lat, lon = countries_with_values.loc[countries_with_values['Country'] == country, ['Latitude', 'Longitude']].values[0]\n",
    "            data.at[index, 'Latitude'] = lat\n",
    "            data.at[index, 'Longitude'] = lon\n",
    "        else:\n",
    "            location = geolocator.geocode(country)\n",
    "            if location:\n",
    "                data.at[index, 'Latitude'] = location.latitude\n",
    "                data.at[index, 'Longitude'] = location.longitude"
   ]
  },
  {
   "cell_type": "code",
   "execution_count": 15,
   "metadata": {},
   "outputs": [
    {
     "data": {
      "text/html": [
       "<div>\n",
       "<style scoped>\n",
       "    .dataframe tbody tr th:only-of-type {\n",
       "        vertical-align: middle;\n",
       "    }\n",
       "\n",
       "    .dataframe tbody tr th {\n",
       "        vertical-align: top;\n",
       "    }\n",
       "\n",
       "    .dataframe thead th {\n",
       "        text-align: right;\n",
       "    }\n",
       "</style>\n",
       "<table border=\"1\" class=\"dataframe\">\n",
       "  <thead>\n",
       "    <tr style=\"text-align: right;\">\n",
       "      <th></th>\n",
       "      <th>missing_ratio</th>\n",
       "      <th>min</th>\n",
       "      <th>lower_quartile</th>\n",
       "      <th>median</th>\n",
       "      <th>upper_quartile</th>\n",
       "      <th>max</th>\n",
       "    </tr>\n",
       "  </thead>\n",
       "  <tbody>\n",
       "    <tr>\n",
       "      <th>subscribers</th>\n",
       "      <td>0.0</td>\n",
       "      <td>1.230000e+07</td>\n",
       "      <td>1.450000e+07</td>\n",
       "      <td>1.770000e+07</td>\n",
       "      <td>2.460000e+07</td>\n",
       "      <td>2.450000e+08</td>\n",
       "    </tr>\n",
       "    <tr>\n",
       "      <th>video views</th>\n",
       "      <td>0.0</td>\n",
       "      <td>0.000000e+00</td>\n",
       "      <td>4.288145e+09</td>\n",
       "      <td>7.760820e+09</td>\n",
       "      <td>1.355470e+10</td>\n",
       "      <td>2.280000e+11</td>\n",
       "    </tr>\n",
       "    <tr>\n",
       "      <th>uploads</th>\n",
       "      <td>0.0</td>\n",
       "      <td>0.000000e+00</td>\n",
       "      <td>1.945000e+02</td>\n",
       "      <td>7.290000e+02</td>\n",
       "      <td>2.667500e+03</td>\n",
       "      <td>3.013080e+05</td>\n",
       "    </tr>\n",
       "    <tr>\n",
       "      <th>video_views_rank</th>\n",
       "      <td>0.0</td>\n",
       "      <td>1.000000e+00</td>\n",
       "      <td>3.240000e+02</td>\n",
       "      <td>9.160000e+02</td>\n",
       "      <td>3.579000e+03</td>\n",
       "      <td>4.057944e+06</td>\n",
       "    </tr>\n",
       "    <tr>\n",
       "      <th>country_rank</th>\n",
       "      <td>0.0</td>\n",
       "      <td>1.000000e+00</td>\n",
       "      <td>1.400000e+01</td>\n",
       "      <td>5.100000e+01</td>\n",
       "      <td>1.140000e+02</td>\n",
       "      <td>7.741000e+03</td>\n",
       "    </tr>\n",
       "    <tr>\n",
       "      <th>channel_type_rank</th>\n",
       "      <td>0.0</td>\n",
       "      <td>1.000000e+00</td>\n",
       "      <td>2.800000e+01</td>\n",
       "      <td>6.600000e+01</td>\n",
       "      <td>1.370000e+02</td>\n",
       "      <td>7.741000e+03</td>\n",
       "    </tr>\n",
       "    <tr>\n",
       "      <th>video_views_for_the_last_30_days</th>\n",
       "      <td>0.0</td>\n",
       "      <td>1.000000e+00</td>\n",
       "      <td>2.232300e+07</td>\n",
       "      <td>6.408500e+07</td>\n",
       "      <td>1.585655e+08</td>\n",
       "      <td>6.589000e+09</td>\n",
       "    </tr>\n",
       "    <tr>\n",
       "      <th>lowest_monthly_earnings</th>\n",
       "      <td>0.0</td>\n",
       "      <td>0.000000e+00</td>\n",
       "      <td>2.700000e+03</td>\n",
       "      <td>1.330000e+04</td>\n",
       "      <td>3.790000e+04</td>\n",
       "      <td>8.509000e+05</td>\n",
       "    </tr>\n",
       "    <tr>\n",
       "      <th>highest_monthly_earnings</th>\n",
       "      <td>0.0</td>\n",
       "      <td>0.000000e+00</td>\n",
       "      <td>4.350000e+04</td>\n",
       "      <td>2.127000e+05</td>\n",
       "      <td>6.068000e+05</td>\n",
       "      <td>1.360000e+07</td>\n",
       "    </tr>\n",
       "    <tr>\n",
       "      <th>lowest_yearly_earnings</th>\n",
       "      <td>0.0</td>\n",
       "      <td>0.000000e+00</td>\n",
       "      <td>3.265000e+04</td>\n",
       "      <td>1.595000e+05</td>\n",
       "      <td>4.551000e+05</td>\n",
       "      <td>1.020000e+07</td>\n",
       "    </tr>\n",
       "    <tr>\n",
       "      <th>highest_yearly_earnings</th>\n",
       "      <td>0.0</td>\n",
       "      <td>0.000000e+00</td>\n",
       "      <td>5.217500e+05</td>\n",
       "      <td>2.600000e+06</td>\n",
       "      <td>7.300000e+06</td>\n",
       "      <td>1.634000e+08</td>\n",
       "    </tr>\n",
       "    <tr>\n",
       "      <th>created_year</th>\n",
       "      <td>0.0</td>\n",
       "      <td>1.970000e+03</td>\n",
       "      <td>2.009000e+03</td>\n",
       "      <td>2.013000e+03</td>\n",
       "      <td>2.016000e+03</td>\n",
       "      <td>2.022000e+03</td>\n",
       "    </tr>\n",
       "    <tr>\n",
       "      <th>created_date</th>\n",
       "      <td>0.0</td>\n",
       "      <td>1.000000e+00</td>\n",
       "      <td>8.000000e+00</td>\n",
       "      <td>1.600000e+01</td>\n",
       "      <td>2.300000e+01</td>\n",
       "      <td>3.100000e+01</td>\n",
       "    </tr>\n",
       "    <tr>\n",
       "      <th>Population</th>\n",
       "      <td>0.0</td>\n",
       "      <td>2.025060e+05</td>\n",
       "      <td>1.260140e+08</td>\n",
       "      <td>3.282395e+08</td>\n",
       "      <td>3.282395e+08</td>\n",
       "      <td>1.397715e+09</td>\n",
       "    </tr>\n",
       "    <tr>\n",
       "      <th>Latitude</th>\n",
       "      <td>0.0</td>\n",
       "      <td>-3.841610e+01</td>\n",
       "      <td>2.059368e+01</td>\n",
       "      <td>3.709024e+01</td>\n",
       "      <td>4.046367e+01</td>\n",
       "      <td>6.192411e+01</td>\n",
       "    </tr>\n",
       "    <tr>\n",
       "      <th>Longitude</th>\n",
       "      <td>0.0</td>\n",
       "      <td>-1.721046e+02</td>\n",
       "      <td>-9.571289e+01</td>\n",
       "      <td>-3.435973e+00</td>\n",
       "      <td>7.896288e+01</td>\n",
       "      <td>1.382529e+02</td>\n",
       "    </tr>\n",
       "  </tbody>\n",
       "</table>\n",
       "</div>"
      ],
      "text/plain": [
       "                                  missing_ratio           min  lower_quartile  \\\n",
       "subscribers                                 0.0  1.230000e+07    1.450000e+07   \n",
       "video views                                 0.0  0.000000e+00    4.288145e+09   \n",
       "uploads                                     0.0  0.000000e+00    1.945000e+02   \n",
       "video_views_rank                            0.0  1.000000e+00    3.240000e+02   \n",
       "country_rank                                0.0  1.000000e+00    1.400000e+01   \n",
       "channel_type_rank                           0.0  1.000000e+00    2.800000e+01   \n",
       "video_views_for_the_last_30_days            0.0  1.000000e+00    2.232300e+07   \n",
       "lowest_monthly_earnings                     0.0  0.000000e+00    2.700000e+03   \n",
       "highest_monthly_earnings                    0.0  0.000000e+00    4.350000e+04   \n",
       "lowest_yearly_earnings                      0.0  0.000000e+00    3.265000e+04   \n",
       "highest_yearly_earnings                     0.0  0.000000e+00    5.217500e+05   \n",
       "created_year                                0.0  1.970000e+03    2.009000e+03   \n",
       "created_date                                0.0  1.000000e+00    8.000000e+00   \n",
       "Population                                  0.0  2.025060e+05    1.260140e+08   \n",
       "Latitude                                    0.0 -3.841610e+01    2.059368e+01   \n",
       "Longitude                                   0.0 -1.721046e+02   -9.571289e+01   \n",
       "\n",
       "                                        median  upper_quartile           max  \n",
       "subscribers                       1.770000e+07    2.460000e+07  2.450000e+08  \n",
       "video views                       7.760820e+09    1.355470e+10  2.280000e+11  \n",
       "uploads                           7.290000e+02    2.667500e+03  3.013080e+05  \n",
       "video_views_rank                  9.160000e+02    3.579000e+03  4.057944e+06  \n",
       "country_rank                      5.100000e+01    1.140000e+02  7.741000e+03  \n",
       "channel_type_rank                 6.600000e+01    1.370000e+02  7.741000e+03  \n",
       "video_views_for_the_last_30_days  6.408500e+07    1.585655e+08  6.589000e+09  \n",
       "lowest_monthly_earnings           1.330000e+04    3.790000e+04  8.509000e+05  \n",
       "highest_monthly_earnings          2.127000e+05    6.068000e+05  1.360000e+07  \n",
       "lowest_yearly_earnings            1.595000e+05    4.551000e+05  1.020000e+07  \n",
       "highest_yearly_earnings           2.600000e+06    7.300000e+06  1.634000e+08  \n",
       "created_year                      2.013000e+03    2.016000e+03  2.022000e+03  \n",
       "created_date                      1.600000e+01    2.300000e+01  3.100000e+01  \n",
       "Population                        3.282395e+08    3.282395e+08  1.397715e+09  \n",
       "Latitude                          3.709024e+01    4.046367e+01  6.192411e+01  \n",
       "Longitude                        -3.435973e+00    7.896288e+01  1.382529e+02  "
      ]
     },
     "execution_count": 15,
     "metadata": {},
     "output_type": "execute_result"
    }
   ],
   "source": [
    "# TEST\n",
    "data.select_dtypes(exclude=['object', 'bool'])\\\n",
    "    .agg([missing_ratio, \"min\", lower_quartile, median, upper_quartile, \"max\"]).T"
   ]
  },
  {
   "cell_type": "markdown",
   "metadata": {},
   "source": [
    "#### 📌 Đối với mỗi cột có kiểu dữ liệu không phải là số, các giá trị được phân phối như thế nào?"
   ]
  },
  {
   "cell_type": "markdown",
   "metadata": {},
   "source": [
    "📚 Đối với các cột có kiểu dữ liệu không phải là số, chúng ta sẽ tính toán:\n",
    "- Tỷ lệ phần trăm (từ 0 đến 100) giá trị bị thiếu\n",
    "- Số lượng giá trị khác nhau\n",
    "- Hiển thị một vài giá trị và phần trăm (từ 0 đến 100) của từng giá trị\n",
    "\n",
    "Sau đó chúng ta sẽ quan sát và nhận xét xem kết quả có gì bất thường không?"
   ]
  },
  {
   "cell_type": "markdown",
   "metadata": {},
   "source": [
    "Chuyển `created_year`, `created_date` về dạng object"
   ]
  },
  {
   "cell_type": "code",
   "execution_count": 16,
   "metadata": {},
   "outputs": [],
   "source": [
    "data['created_year'] = data['created_year'].astype(str)\n",
    "data['created_date'] = data['created_date'].astype(str)"
   ]
  },
  {
   "cell_type": "code",
   "execution_count": 17,
   "metadata": {},
   "outputs": [
    {
     "data": {
      "text/html": [
       "<div>\n",
       "<style scoped>\n",
       "    .dataframe tbody tr th:only-of-type {\n",
       "        vertical-align: middle;\n",
       "    }\n",
       "\n",
       "    .dataframe tbody tr th {\n",
       "        vertical-align: top;\n",
       "    }\n",
       "\n",
       "    .dataframe thead th {\n",
       "        text-align: right;\n",
       "    }\n",
       "</style>\n",
       "<table border=\"1\" class=\"dataframe\">\n",
       "  <thead>\n",
       "    <tr style=\"text-align: right;\">\n",
       "      <th></th>\n",
       "      <th>missing_ratio</th>\n",
       "      <th>num_values</th>\n",
       "      <th>value_ratios</th>\n",
       "    </tr>\n",
       "  </thead>\n",
       "  <tbody>\n",
       "    <tr>\n",
       "      <th>Youtuber</th>\n",
       "      <td>0.0</td>\n",
       "      <td>995</td>\n",
       "      <td>{'T-Series': 0.1, 'Hongyu ASMR ï¿½ï¿½': 0.1, '...</td>\n",
       "    </tr>\n",
       "    <tr>\n",
       "      <th>category</th>\n",
       "      <td>4.623116</td>\n",
       "      <td>19</td>\n",
       "      <td>{'Entertainment': 24.2, 'Music': 20.3, 'People...</td>\n",
       "    </tr>\n",
       "    <tr>\n",
       "      <th>Country</th>\n",
       "      <td>12.261307</td>\n",
       "      <td>50</td>\n",
       "      <td>{'United States': 31.5, 'India': 16.9, 'nan': ...</td>\n",
       "    </tr>\n",
       "    <tr>\n",
       "      <th>Abbreviation</th>\n",
       "      <td>12.261307</td>\n",
       "      <td>50</td>\n",
       "      <td>{'US': 31.5, 'IN': 16.9, 'nan': 12.3, 'BR': 6....</td>\n",
       "    </tr>\n",
       "    <tr>\n",
       "      <th>channel_type</th>\n",
       "      <td>3.015075</td>\n",
       "      <td>15</td>\n",
       "      <td>{'Entertainment': 30.6, 'Music': 21.7, 'People...</td>\n",
       "    </tr>\n",
       "    <tr>\n",
       "      <th>created_year</th>\n",
       "      <td>0.0</td>\n",
       "      <td>19</td>\n",
       "      <td>{'2014': 9.8, '2006': 9.1, '2011': 8.2, '2013'...</td>\n",
       "    </tr>\n",
       "    <tr>\n",
       "      <th>created_month</th>\n",
       "      <td>0.502513</td>\n",
       "      <td>13</td>\n",
       "      <td>{'Jan': 10.2, 'Sep': 9.6, 'Jul': 9.1, 'Nov': 9...</td>\n",
       "    </tr>\n",
       "    <tr>\n",
       "      <th>created_date</th>\n",
       "      <td>0.0</td>\n",
       "      <td>31</td>\n",
       "      <td>{'9': 4.5, '19': 4.3, '2': 3.9, '26': 3.9, '22...</td>\n",
       "    </tr>\n",
       "  </tbody>\n",
       "</table>\n",
       "</div>"
      ],
      "text/plain": [
       "              missing_ratio num_values  \\\n",
       "Youtuber                0.0        995   \n",
       "category           4.623116         19   \n",
       "Country           12.261307         50   \n",
       "Abbreviation      12.261307         50   \n",
       "channel_type       3.015075         15   \n",
       "created_year            0.0         19   \n",
       "created_month      0.502513         13   \n",
       "created_date            0.0         31   \n",
       "\n",
       "                                                    value_ratios  \n",
       "Youtuber       {'T-Series': 0.1, 'Hongyu ASMR ï¿½ï¿½': 0.1, '...  \n",
       "category       {'Entertainment': 24.2, 'Music': 20.3, 'People...  \n",
       "Country        {'United States': 31.5, 'India': 16.9, 'nan': ...  \n",
       "Abbreviation   {'US': 31.5, 'IN': 16.9, 'nan': 12.3, 'BR': 6....  \n",
       "channel_type   {'Entertainment': 30.6, 'Music': 21.7, 'People...  \n",
       "created_year   {'2014': 9.8, '2006': 9.1, '2011': 8.2, '2013'...  \n",
       "created_month  {'Jan': 10.2, 'Sep': 9.6, 'Jul': 9.1, 'Nov': 9...  \n",
       "created_date   {'9': 4.5, '19': 4.3, '2': 3.9, '26': 3.9, '22...  "
      ]
     },
     "execution_count": 17,
     "metadata": {},
     "output_type": "execute_result"
    }
   ],
   "source": [
    "cat_col_info_df = data.select_dtypes(include=['object', 'bool'])\n",
    "\n",
    "def missing_ratio(s):\n",
    "    return (s.isna().mean() * 100)\n",
    "\n",
    "def num_values(s):\n",
    "    s = s.astype('str').str.split(';')\n",
    "    s = s.explode()\n",
    "    return len(s.value_counts())\n",
    "\n",
    "def value_ratios(s):\n",
    "    s = s.astype('str').str.split(';')\n",
    "    s = s.explode()\n",
    "    totalCount = (~s.isna()).sum()\n",
    "    return ((s.value_counts()/totalCount*100).round(1)).to_dict()\n",
    "\n",
    "cat_col_info_df = cat_col_info_df.agg([missing_ratio, num_values, value_ratios])\n",
    "cat_col_info_df.T"
   ]
  },
  {
   "cell_type": "markdown",
   "metadata": {},
   "source": [
    "Các cột `category`, `Country`, `Abbreviation`, `channel_type`, `created_month` có dữ liệu bị thiếu, vì vậy nhóm em sẽ thay thế giá trị thiếu bằng giá trị Mode của cột đó"
   ]
  },
  {
   "cell_type": "markdown",
   "metadata": {},
   "source": [
    "🚧 Tiền xử lý các cột phân loại"
   ]
  },
  {
   "cell_type": "code",
   "execution_count": 18,
   "metadata": {},
   "outputs": [],
   "source": [
    "cols_list = [ 'category', 'Country', 'Abbreviation','channel_type', 'created_month']\n",
    "for col in cols_list:\n",
    "    data[col] = data[col].fillna(data[col].mode()[0])"
   ]
  },
  {
   "cell_type": "code",
   "execution_count": 19,
   "metadata": {},
   "outputs": [
    {
     "data": {
      "text/html": [
       "<div>\n",
       "<style scoped>\n",
       "    .dataframe tbody tr th:only-of-type {\n",
       "        vertical-align: middle;\n",
       "    }\n",
       "\n",
       "    .dataframe tbody tr th {\n",
       "        vertical-align: top;\n",
       "    }\n",
       "\n",
       "    .dataframe thead th {\n",
       "        text-align: right;\n",
       "    }\n",
       "</style>\n",
       "<table border=\"1\" class=\"dataframe\">\n",
       "  <thead>\n",
       "    <tr style=\"text-align: right;\">\n",
       "      <th></th>\n",
       "      <th>missing_ratio</th>\n",
       "      <th>num_values</th>\n",
       "      <th>value_ratios</th>\n",
       "    </tr>\n",
       "  </thead>\n",
       "  <tbody>\n",
       "    <tr>\n",
       "      <th>Youtuber</th>\n",
       "      <td>0.0</td>\n",
       "      <td>995</td>\n",
       "      <td>{'T-Series': 0.1, 'Hongyu ASMR ï¿½ï¿½': 0.1, '...</td>\n",
       "    </tr>\n",
       "    <tr>\n",
       "      <th>category</th>\n",
       "      <td>0.0</td>\n",
       "      <td>18</td>\n",
       "      <td>{'Entertainment': 28.8, 'Music': 20.3, 'People...</td>\n",
       "    </tr>\n",
       "    <tr>\n",
       "      <th>Country</th>\n",
       "      <td>0.0</td>\n",
       "      <td>49</td>\n",
       "      <td>{'United States': 43.7, 'India': 16.9, 'Brazil...</td>\n",
       "    </tr>\n",
       "    <tr>\n",
       "      <th>Abbreviation</th>\n",
       "      <td>0.0</td>\n",
       "      <td>49</td>\n",
       "      <td>{'US': 43.7, 'IN': 16.9, 'BR': 6.2, 'GB': 4.3,...</td>\n",
       "    </tr>\n",
       "    <tr>\n",
       "      <th>channel_type</th>\n",
       "      <td>0.0</td>\n",
       "      <td>14</td>\n",
       "      <td>{'Entertainment': 33.6, 'Music': 21.7, 'People...</td>\n",
       "    </tr>\n",
       "    <tr>\n",
       "      <th>created_year</th>\n",
       "      <td>0.0</td>\n",
       "      <td>19</td>\n",
       "      <td>{'2014': 9.8, '2006': 9.1, '2011': 8.2, '2013'...</td>\n",
       "    </tr>\n",
       "    <tr>\n",
       "      <th>created_month</th>\n",
       "      <td>0.0</td>\n",
       "      <td>12</td>\n",
       "      <td>{'Jan': 10.7, 'Sep': 9.6, 'Jul': 9.1, 'Nov': 9...</td>\n",
       "    </tr>\n",
       "    <tr>\n",
       "      <th>created_date</th>\n",
       "      <td>0.0</td>\n",
       "      <td>31</td>\n",
       "      <td>{'9': 4.5, '19': 4.3, '2': 3.9, '26': 3.9, '22...</td>\n",
       "    </tr>\n",
       "  </tbody>\n",
       "</table>\n",
       "</div>"
      ],
      "text/plain": [
       "              missing_ratio num_values  \\\n",
       "Youtuber                0.0        995   \n",
       "category                0.0         18   \n",
       "Country                 0.0         49   \n",
       "Abbreviation            0.0         49   \n",
       "channel_type            0.0         14   \n",
       "created_year            0.0         19   \n",
       "created_month           0.0         12   \n",
       "created_date            0.0         31   \n",
       "\n",
       "                                                    value_ratios  \n",
       "Youtuber       {'T-Series': 0.1, 'Hongyu ASMR ï¿½ï¿½': 0.1, '...  \n",
       "category       {'Entertainment': 28.8, 'Music': 20.3, 'People...  \n",
       "Country        {'United States': 43.7, 'India': 16.9, 'Brazil...  \n",
       "Abbreviation   {'US': 43.7, 'IN': 16.9, 'BR': 6.2, 'GB': 4.3,...  \n",
       "channel_type   {'Entertainment': 33.6, 'Music': 21.7, 'People...  \n",
       "created_year   {'2014': 9.8, '2006': 9.1, '2011': 8.2, '2013'...  \n",
       "created_month  {'Jan': 10.7, 'Sep': 9.6, 'Jul': 9.1, 'Nov': 9...  \n",
       "created_date   {'9': 4.5, '19': 4.3, '2': 3.9, '26': 3.9, '22...  "
      ]
     },
     "execution_count": 19,
     "metadata": {},
     "output_type": "execute_result"
    }
   ],
   "source": [
    "# TEST\n",
    "data.select_dtypes(include=['object', 'bool'])\\\n",
    "    .agg([missing_ratio, num_values, value_ratios]).T"
   ]
  },
  {
   "cell_type": "code",
   "execution_count": 20,
   "metadata": {},
   "outputs": [
    {
     "name": "stdout",
     "output_type": "stream",
     "text": [
      "<class 'pandas.core.frame.DataFrame'>\n",
      "RangeIndex: 995 entries, 0 to 994\n",
      "Data columns (total 22 columns):\n",
      " #   Column                            Non-Null Count  Dtype  \n",
      "---  ------                            --------------  -----  \n",
      " 0   Youtuber                          995 non-null    object \n",
      " 1   subscribers                       995 non-null    int64  \n",
      " 2   video views                       995 non-null    int64  \n",
      " 3   category                          995 non-null    object \n",
      " 4   uploads                           995 non-null    int64  \n",
      " 5   Country                           995 non-null    object \n",
      " 6   Abbreviation                      995 non-null    object \n",
      " 7   channel_type                      995 non-null    object \n",
      " 8   video_views_rank                  995 non-null    int64  \n",
      " 9   country_rank                      995 non-null    int64  \n",
      " 10  channel_type_rank                 995 non-null    int64  \n",
      " 11  video_views_for_the_last_30_days  995 non-null    int64  \n",
      " 12  lowest_monthly_earnings           995 non-null    float64\n",
      " 13  highest_monthly_earnings          995 non-null    float64\n",
      " 14  lowest_yearly_earnings            995 non-null    float64\n",
      " 15  highest_yearly_earnings           995 non-null    float64\n",
      " 16  created_year                      995 non-null    object \n",
      " 17  created_month                     995 non-null    object \n",
      " 18  created_date                      995 non-null    object \n",
      " 19  Population                        995 non-null    int64  \n",
      " 20  Latitude                          995 non-null    float64\n",
      " 21  Longitude                         995 non-null    float64\n",
      "dtypes: float64(6), int64(8), object(8)\n",
      "memory usage: 171.1+ KB\n"
     ]
    }
   ],
   "source": [
    "data.info()"
   ]
  },
  {
   "cell_type": "code",
   "execution_count": 21,
   "metadata": {},
   "outputs": [
    {
     "data": {
      "text/html": [
       "<div>\n",
       "<style scoped>\n",
       "    .dataframe tbody tr th:only-of-type {\n",
       "        vertical-align: middle;\n",
       "    }\n",
       "\n",
       "    .dataframe tbody tr th {\n",
       "        vertical-align: top;\n",
       "    }\n",
       "\n",
       "    .dataframe thead th {\n",
       "        text-align: right;\n",
       "    }\n",
       "</style>\n",
       "<table border=\"1\" class=\"dataframe\">\n",
       "  <thead>\n",
       "    <tr style=\"text-align: right;\">\n",
       "      <th></th>\n",
       "      <th>Youtuber</th>\n",
       "      <th>subscribers</th>\n",
       "      <th>video views</th>\n",
       "      <th>category</th>\n",
       "      <th>uploads</th>\n",
       "      <th>Country</th>\n",
       "      <th>Abbreviation</th>\n",
       "      <th>channel_type</th>\n",
       "      <th>video_views_rank</th>\n",
       "      <th>country_rank</th>\n",
       "      <th>...</th>\n",
       "      <th>lowest_monthly_earnings</th>\n",
       "      <th>highest_monthly_earnings</th>\n",
       "      <th>lowest_yearly_earnings</th>\n",
       "      <th>highest_yearly_earnings</th>\n",
       "      <th>created_year</th>\n",
       "      <th>created_month</th>\n",
       "      <th>created_date</th>\n",
       "      <th>Population</th>\n",
       "      <th>Latitude</th>\n",
       "      <th>Longitude</th>\n",
       "    </tr>\n",
       "  </thead>\n",
       "  <tbody>\n",
       "    <tr>\n",
       "      <th>100</th>\n",
       "      <td>PowerKids TV</td>\n",
       "      <td>36500000</td>\n",
       "      <td>18961241905</td>\n",
       "      <td>Film &amp; Animation</td>\n",
       "      <td>5621</td>\n",
       "      <td>United States</td>\n",
       "      <td>US</td>\n",
       "      <td>Film</td>\n",
       "      <td>139</td>\n",
       "      <td>1</td>\n",
       "      <td>...</td>\n",
       "      <td>79700.0</td>\n",
       "      <td>1300000.0</td>\n",
       "      <td>956100.0</td>\n",
       "      <td>15300000.0</td>\n",
       "      <td>2014</td>\n",
       "      <td>Aug</td>\n",
       "      <td>6</td>\n",
       "      <td>328239523</td>\n",
       "      <td>46.314475</td>\n",
       "      <td>11.048029</td>\n",
       "    </tr>\n",
       "    <tr>\n",
       "      <th>665</th>\n",
       "      <td>PowerfulJRE</td>\n",
       "      <td>15100000</td>\n",
       "      <td>3060202847</td>\n",
       "      <td>People &amp; Blogs</td>\n",
       "      <td>1037</td>\n",
       "      <td>United States</td>\n",
       "      <td>US</td>\n",
       "      <td>People</td>\n",
       "      <td>2796</td>\n",
       "      <td>149</td>\n",
       "      <td>...</td>\n",
       "      <td>10900.0</td>\n",
       "      <td>173600.0</td>\n",
       "      <td>130200.0</td>\n",
       "      <td>2100000.0</td>\n",
       "      <td>2013</td>\n",
       "      <td>Jan</td>\n",
       "      <td>12</td>\n",
       "      <td>328239523</td>\n",
       "      <td>37.090240</td>\n",
       "      <td>-95.712891</td>\n",
       "    </tr>\n",
       "    <tr>\n",
       "      <th>706</th>\n",
       "      <td>Lachlan</td>\n",
       "      <td>14800000</td>\n",
       "      <td>5269059435</td>\n",
       "      <td>Gaming</td>\n",
       "      <td>3834</td>\n",
       "      <td>Australia</td>\n",
       "      <td>AU</td>\n",
       "      <td>Games</td>\n",
       "      <td>1253</td>\n",
       "      <td>7</td>\n",
       "      <td>...</td>\n",
       "      <td>5300.0</td>\n",
       "      <td>84300.0</td>\n",
       "      <td>63200.0</td>\n",
       "      <td>1000000.0</td>\n",
       "      <td>2013</td>\n",
       "      <td>Mar</td>\n",
       "      <td>19</td>\n",
       "      <td>25766605</td>\n",
       "      <td>-25.274398</td>\n",
       "      <td>133.775136</td>\n",
       "    </tr>\n",
       "    <tr>\n",
       "      <th>776</th>\n",
       "      <td>infobells - Kannada</td>\n",
       "      <td>14200000</td>\n",
       "      <td>6554000320</td>\n",
       "      <td>Education</td>\n",
       "      <td>433</td>\n",
       "      <td>India</td>\n",
       "      <td>IN</td>\n",
       "      <td>Education</td>\n",
       "      <td>912</td>\n",
       "      <td>110</td>\n",
       "      <td>...</td>\n",
       "      <td>35400.0</td>\n",
       "      <td>566800.0</td>\n",
       "      <td>425100.0</td>\n",
       "      <td>6800000.0</td>\n",
       "      <td>2014</td>\n",
       "      <td>Mar</td>\n",
       "      <td>13</td>\n",
       "      <td>1366417754</td>\n",
       "      <td>20.593684</td>\n",
       "      <td>78.962880</td>\n",
       "    </tr>\n",
       "    <tr>\n",
       "      <th>232</th>\n",
       "      <td>Coldplay</td>\n",
       "      <td>25300000</td>\n",
       "      <td>17331663193</td>\n",
       "      <td>Music</td>\n",
       "      <td>398</td>\n",
       "      <td>United Kingdom</td>\n",
       "      <td>GB</td>\n",
       "      <td>Music</td>\n",
       "      <td>160</td>\n",
       "      <td>8</td>\n",
       "      <td>...</td>\n",
       "      <td>49700.0</td>\n",
       "      <td>795500.0</td>\n",
       "      <td>596600.0</td>\n",
       "      <td>9500000.0</td>\n",
       "      <td>2010</td>\n",
       "      <td>Jan</td>\n",
       "      <td>3</td>\n",
       "      <td>66834405</td>\n",
       "      <td>55.378051</td>\n",
       "      <td>-3.435973</td>\n",
       "    </tr>\n",
       "  </tbody>\n",
       "</table>\n",
       "<p>5 rows × 22 columns</p>\n",
       "</div>"
      ],
      "text/plain": [
       "                Youtuber  subscribers  video views          category  uploads  \\\n",
       "100         PowerKids TV     36500000  18961241905  Film & Animation     5621   \n",
       "665          PowerfulJRE     15100000   3060202847    People & Blogs     1037   \n",
       "706              Lachlan     14800000   5269059435            Gaming     3834   \n",
       "776  infobells - Kannada     14200000   6554000320         Education      433   \n",
       "232             Coldplay     25300000  17331663193             Music      398   \n",
       "\n",
       "            Country Abbreviation channel_type  video_views_rank  country_rank  \\\n",
       "100   United States           US         Film               139             1   \n",
       "665   United States           US       People              2796           149   \n",
       "706       Australia           AU        Games              1253             7   \n",
       "776           India           IN    Education               912           110   \n",
       "232  United Kingdom           GB        Music               160             8   \n",
       "\n",
       "     ...  lowest_monthly_earnings  highest_monthly_earnings  \\\n",
       "100  ...                  79700.0                 1300000.0   \n",
       "665  ...                  10900.0                  173600.0   \n",
       "706  ...                   5300.0                   84300.0   \n",
       "776  ...                  35400.0                  566800.0   \n",
       "232  ...                  49700.0                  795500.0   \n",
       "\n",
       "     lowest_yearly_earnings  highest_yearly_earnings  created_year  \\\n",
       "100                956100.0               15300000.0          2014   \n",
       "665                130200.0                2100000.0          2013   \n",
       "706                 63200.0                1000000.0          2013   \n",
       "776                425100.0                6800000.0          2014   \n",
       "232                596600.0                9500000.0          2010   \n",
       "\n",
       "     created_month created_date  Population   Latitude   Longitude  \n",
       "100            Aug            6   328239523  46.314475   11.048029  \n",
       "665            Jan           12   328239523  37.090240  -95.712891  \n",
       "706            Mar           19    25766605 -25.274398  133.775136  \n",
       "776            Mar           13  1366417754  20.593684   78.962880  \n",
       "232            Jan            3    66834405  55.378051   -3.435973  \n",
       "\n",
       "[5 rows x 22 columns]"
      ]
     },
     "execution_count": 21,
     "metadata": {},
     "output_type": "execute_result"
    }
   ],
   "source": [
    "data.sample(5)"
   ]
  },
  {
   "cell_type": "markdown",
   "metadata": {},
   "source": [
    "### **3. Đặt câu hỏi có ý nghĩa**"
   ]
  },
  {
   "cell_type": "markdown",
   "metadata": {},
   "source": [
    "### **4. Tiền xử lý + phân tích dữ liệu để trả lời từng câu hỏi**"
   ]
  },
  {
   "cell_type": "markdown",
   "metadata": {},
   "source": []
  },
  {
   "cell_type": "code",
   "execution_count": 22,
   "metadata": {},
   "outputs": [],
   "source": [
    "data.to_csv(\"data_processed.csv\", index=False)"
   ]
  },
  {
   "cell_type": "markdown",
   "metadata": {},
   "source": [
    "#### 📚 Câu 1: "
   ]
  },
  {
   "cell_type": "markdown",
   "metadata": {},
   "source": [
    "Step 1:"
   ]
  },
  {
   "cell_type": "code",
   "execution_count": 23,
   "metadata": {},
   "outputs": [
    {
     "name": "stderr",
     "output_type": "stream",
     "text": [
      "C:\\Users\\Admin\\AppData\\Local\\Temp\\ipykernel_3364\\3060956862.py:6: FutureWarning: \n",
      "\n",
      "The `ci` parameter is deprecated. Use `errorbar=('ci', False)` for the same effect.\n",
      "\n",
      "  sns.barplot(data=top_countries,\n"
     ]
    },
    {
     "data": {
      "image/png": "[encoded data removed]",
      "text/plain": [
       "<Figure size 1600x900 with 1 Axes>"
      ]
     },
     "metadata": {},
     "output_type": "display_data"
    }
   ],
   "source": [
    "plt.figure(figsize=(16, 9))\n",
    "\n",
    "# Groupby và tính tổng lượt xem cho từng quốc gia, sắp xếp theo giảm dần, và giới hạn chỉ lấy 10 dòng đầu tiên\n",
    "top_countries = data.groupby(['Country'])['video views'].sum().sort_values(ascending=False).head(10).reset_index()\n",
    "\n",
    "sns.barplot(data=top_countries,\n",
    "            x='Country', y='video views',\n",
    "            ci=False, color=sns.xkcd_rgb['bluish'])\n",
    "\n",
    "plt.title('Top 10 Quốc gia theo Tổng lượt xem')\n",
    "plt.xlabel('Quốc gia')\n",
    "plt.ylabel('Tổng lượt xem')\n",
    "plt.show()"
   ]
  },
  {
   "cell_type": "code",
   "execution_count": 24,
   "metadata": {},
   "outputs": [
    {
     "data": {
      "image/png": "[encoded data removed]",
      "text/plain": [
       "<Figure size 1600x1800 with 5 Axes>"
      ]
     },
     "metadata": {},
     "output_type": "display_data"
    }
   ],
   "source": [
    "top_countries = data.groupby(['Country'])['video views'].sum().sort_values(ascending=False).head(5).index\n",
    "\n",
    "# Vẽ 5 biểu đồ tương ứng với 5 quốc gia\n",
    "plt.figure(figsize=(16, 18))\n",
    "\n",
    "for i, country in enumerate(top_countries,1):\n",
    "    # Lọc dữ liệu cho từng quốc gia\n",
    "    country_data = data[data['Country'] == country]\n",
    "    \n",
    "    # Lấy thể loại được xem nhiều nhất ở quốc gia đó\n",
    "    top_category = country_data.groupby(['category'])['video views'].sum().idxmax()\n",
    "    \n",
    "    # Vẽ biểu đồ\n",
    "    plt.subplot(3, 2, i)\n",
    "    sns.barplot(data=country_data,\n",
    "                x='category', y='video views',\n",
    "                color=sns.xkcd_rgb['bluish'])\n",
    "    plt.title(f'Top Category in {country}')\n",
    "    plt.xlabel('Category')\n",
    "    plt.ylabel('Total Views')\n",
    "\n",
    "plt.tight_layout()\n",
    "plt.show()"
   ]
  },
  {
   "cell_type": "markdown",
   "metadata": {},
   "source": [
    "#### 📚 Câu 2: "
   ]
  },
  {
   "cell_type": "markdown",
   "metadata": {},
   "source": [
    "Step 1:"
   ]
  },
  {
   "cell_type": "code",
   "execution_count": 25,
   "metadata": {},
   "outputs": [],
   "source": [
    "countries_languages = {}\n",
    "\n",
    "for ab in data['Abbreviation'].unique():\n",
    "    country_identifier = 'und_'+ab\n",
    "    country_language = Locale.parse(country_identifier).language\n",
    "    countries_languages[ab] = country_language\n",
    "    \n",
    "    \n",
    "data['country language'] = data['Abbreviation'].replace(countries_languages)"
   ]
  },
  {
   "cell_type": "markdown",
   "metadata": {},
   "source": [
    "Step 2:"
   ]
  },
  {
   "cell_type": "code",
   "execution_count": 26,
   "metadata": {},
   "outputs": [],
   "source": [
    "views_per_language = data.groupby(['country language'])['video views'].sum().sort_values(ascending = False).reset_index()\n",
    "views_per_language['percentage'] = views_per_language['video views']/views_per_language['video views'].sum()"
   ]
  },
  {
   "cell_type": "markdown",
   "metadata": {},
   "source": [
    "Step 3:"
   ]
  },
  {
   "cell_type": "code",
   "execution_count": 27,
   "metadata": {},
   "outputs": [
    {
     "data": {
      "image/png": "[encoded data removed]",
      "text/plain": [
       "<Figure size 1600x900 with 1 Axes>"
      ]
     },
     "metadata": {},
     "output_type": "display_data"
    }
   ],
   "source": [
    "plt.figure(figsize = (16,9))\n",
    "\n",
    "top_languages = data.groupby(['country language'])['video views'].sum().sort_values(ascending=False).head(10).reset_index()\n",
    "\n",
    "sns.barplot(data=top_languages,x='country language', y='video views', color=sns.xkcd_rgb['bluish'])\n",
    "\n",
    "\n",
    "plt.show();"
   ]
  },
  {
   "cell_type": "markdown",
   "metadata": {},
   "source": [
    "#### 📚 Câu 3: "
   ]
  },
  {
   "cell_type": "markdown",
   "metadata": {},
   "source": [
    "Step 1:"
   ]
  },
  {
   "cell_type": "code",
   "execution_count": 28,
   "metadata": {},
   "outputs": [],
   "source": [
    "data['mean earnings'] = (data['highest_monthly_earnings']+data['lowest_monthly_earnings'])/2"
   ]
  },
  {
   "cell_type": "markdown",
   "metadata": {},
   "source": [
    "Step 2:"
   ]
  },
  {
   "cell_type": "code",
   "execution_count": 29,
   "metadata": {},
   "outputs": [],
   "source": [
    "earnings_per_cat = data.groupby(['category'])['mean earnings'].sum().reset_index().sort_values('mean earnings', ascending = False)"
   ]
  },
  {
   "cell_type": "markdown",
   "metadata": {},
   "source": [
    "Step 3:"
   ]
  },
  {
   "cell_type": "code",
   "execution_count": 30,
   "metadata": {
    "scrolled": true
   },
   "outputs": [
    {
     "name": "stderr",
     "output_type": "stream",
     "text": [
      "C:\\Users\\Admin\\AppData\\Local\\Temp\\ipykernel_3364\\4000831241.py:2: FutureWarning: \n",
      "\n",
      "Passing `palette` without assigning `hue` is deprecated and will be removed in v0.14.0. Assign the `y` variable to `hue` and set `legend=False` for the same effect.\n",
      "\n",
      "  sns.barplot(data=earnings_per_cat, x='mean earnings', y='category', palette='viridis')\n"
     ]
    },
    {
     "data": {
      "image/png": "[encoded data removed]",
      "text/plain": [
       "<Figure size 1600x900 with 1 Axes>"
      ]
     },
     "metadata": {},
     "output_type": "display_data"
    }
   ],
   "source": [
    "plt.figure(figsize=(16, 9))\n",
    "sns.barplot(data=earnings_per_cat, x='mean earnings', y='category', palette='viridis')\n",
    "plt.title('Tổng Thu nhập Trung bình hàng tháng cho Mỗi Thể loại')\n",
    "plt.xlabel('Tổng Thu nhập Trung bình hàng tháng')\n",
    "plt.ylabel('Thể loại')\n",
    "plt.show()"
   ]
  },
  {
   "attachments": {},
   "cell_type": "markdown",
   "metadata": {},
   "source": [
    "#### 📚 Câu 4: "
   ]
  },
  {
   "cell_type": "markdown",
   "metadata": {},
   "source": [
    "Bước 1: Tính lượt xem trung bình các tháng và so sánh"
   ]
  },
  {
   "cell_type": "code",
   "execution_count": 33,
   "metadata": {},
   "outputs": [],
   "source": [
    "data['created_year'] = data['created_year'].astype(int)\n",
    "convert_month = {'Jan': 1, 'Feb': 2, 'Mar': 3, 'Apr': 4, 'May': 5, 'Jun': 6, 'Jul': 7, 'Aug': 8, 'Sep': 9, 'Oct': 10, 'Nov': 11, 'Dec': 12}\n",
    "month = data['created_month'].map(convert_month)\n",
    "\n",
    "number_of_months = (2023 - data['created_year']) * 12 + ( 12 - month )\n",
    "average_monthly_views = data['video views'] / number_of_months\n",
    "difference = data['video_views_for_the_last_30_days'] - average_monthly_views"
   ]
  },
  {
   "cell_type": "markdown",
   "metadata": {},
   "source": [
    "Bước 2: Sắp xếp theo thứ tự và thay đổi index"
   ]
  },
  {
   "cell_type": "code",
   "execution_count": 34,
   "metadata": {},
   "outputs": [],
   "source": [
    "difference.index = data['Youtuber']\n",
    "result = difference.sort_values()"
   ]
  },
  {
   "cell_type": "markdown",
   "metadata": {},
   "source": [
    "Bước 3: Trực quan hóa bằng biểu đồ"
   ]
  },
  {
   "cell_type": "code",
   "execution_count": 35,
   "metadata": {},
   "outputs": [
    {
     "data": {
      "image/png": "[encoded data removed]",
      "text/plain": [
       "<Figure size 1500x1000 with 1 Axes>"
      ]
     },
     "metadata": {},
     "output_type": "display_data"
    }
   ],
   "source": [
    "plt.figure(figsize=(15,10))\n",
    "plt.barh(result.index[-30:], result[-30:])\n",
    "plt.xlabel('Số lượt view')\n",
    "plt.ylabel('Kênh Youtube')\n",
    "plt.title('Top 30 kênh có sự tăng lượt xem nhiều nhất giữa tháng gần nhất và trung bình các tháng từ khi thành lập kênh');"
   ]
  },
  {
   "cell_type": "markdown",
   "metadata": {},
   "source": [
    "### **5. Nhìn lại quá trình làm đồ án**"
   ]
  },
  {
   "cell_type": "markdown",
   "metadata": {},
   "source": [
    "### **6. Tài liệu tham khảo**"
   ]
  },
  {
   "cell_type": "code",
   "execution_count": null,
   "metadata": {},
   "outputs": [],
   "source": []
  }
 ],
 "metadata": {
  "kernelspec": {
   "display_name": "Python 3 (ipykernel)",
   "language": "python",
   "name": "python3"
  },
  "language_info": {
   "codemirror_mode": {
    "name": "ipython",
    "version": 3
   },
   "file_extension": ".py",
   "mimetype": "text/x-python",
   "name": "python",
   "nbconvert_exporter": "python",
   "pygments_lexer": "ipython3",
   "version": "3.11.4"
  }
 },
 "nbformat": 4,
 "nbformat_minor": 4
}
