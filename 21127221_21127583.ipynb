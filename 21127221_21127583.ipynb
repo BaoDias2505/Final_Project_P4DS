{
 "cells": [
  {
   "cell_type": "markdown",
   "metadata": {},
   "source": [
    "<div style=\"text-align: center; background-color: #0A6EBD; font-family: 'Trebuchet MS', Arial, sans-serif; color: white; padding: 20px; font-size: 40px; font-weight: bold; border-radius: 0 0 0 0; box-shadow: 0px 6px 8px rgba(0, 0, 0, 0.2);\">\n",
    "  Final project - Programing For Data Science\n",
    "</div>"
   ]
  },
  {
   "cell_type": "markdown",
   "metadata": {},
   "source": [
    "## **Thông tin nhóm**"
   ]
  },
  {
   "cell_type": "markdown",
   "metadata": {},
   "source": [
    "#### Thành viên 1:\n",
    "* **Họ và tên:** Võ Duy Anh\n",
    "* **MSSV:** 21127221"
   ]
  },
  {
   "cell_type": "markdown",
   "metadata": {},
   "source": [
    "#### Thành viên 2:\n",
    "* **Họ và tên:** Nguyễn Mậu Gia Bảo\n",
    "* **MSSV:** 21127583"
   ]
  },
  {
   "cell_type": "markdown",
   "metadata": {},
   "source": [
    "## **Thông tin đồ án**"
   ]
  },
  {
   "cell_type": "markdown",
   "metadata": {},
   "source": [
    "### **Nội dung**\n",
    "1. Thu thập dữ liệu\n",
    "2. Khám phá dữ liệu\n",
    "3. Đặt câu hỏi có ý nghĩa\n",
    "4. Tiền xử lý + phân tích dữ liệu để trả lời từng câu hỏi\n",
    "5. Nhìn lại quá trình làm đồ án\n",
    "6. Tài liệu tham khảo"
   ]
  },
  {
   "cell_type": "markdown",
   "metadata": {},
   "source": [
    "### **Thư viện hỗ trợ**"
   ]
  },
  {
   "cell_type": "code",
   "execution_count": 1,
   "metadata": {},
   "outputs": [],
   "source": [
    "import pandas as pd\n",
    "import seaborn as sns\n",
    "import matplotlib.pyplot as plt\n",
    "import datetime\n",
    "import plotly.express as px\n",
    "import numpy as np\n",
    "\n",
    "from geopy.geocoders import Nominatim\n",
    "import pypopulation\n",
    "from babel import Locale\n",
    "\n",
    "import cartopy.crs as ccrs\n",
    "import cartopy.feature as cfeature\n",
    "from shapely.geometry import Point\n",
    "import geopandas as gpd\n",
    "import warnings\n",
    "from matplotlib.lines import Line2D\n",
    "from matplotlib.patches import Patch\n",
    "warnings.filterwarnings(\"ignore\")"
   ]
  },
  {
   "cell_type": "markdown",
   "metadata": {},
   "source": [
    "### **1. Thu thập dữ liệu**"
   ]
  },
  {
   "cell_type": "markdown",
   "metadata": {},
   "source": [
    "#### 📌 What subject is your data about? What is the source of your data?"
   ]
  },
  {
   "cell_type": "markdown",
   "metadata": {},
   "source": []
  },
  {
   "cell_type": "markdown",
   "metadata": {},
   "source": [
    "#### 📌 Do authors of this data allow you to use like this? You can check the data license"
   ]
  },
  {
   "cell_type": "markdown",
   "metadata": {},
   "source": []
  },
  {
   "cell_type": "markdown",
   "metadata": {},
   "source": [
    "#### 📌 How did authors collect data?"
   ]
  },
  {
   "cell_type": "markdown",
   "metadata": {},
   "source": []
  },
  {
   "cell_type": "markdown",
   "metadata": {},
   "source": [
    "### **2. Khám phá dữ liệu**"
   ]
  },
  {
   "cell_type": "markdown",
   "metadata": {},
   "source": [
    "#### Đọc dữ liệu từ file"
   ]
  },
  {
   "cell_type": "code",
   "execution_count": 2,
   "metadata": {},
   "outputs": [
    {
     "data": {
      "text/html": [
       "<div>\n",
       "<style scoped>\n",
       "    .dataframe tbody tr th:only-of-type {\n",
       "        vertical-align: middle;\n",
       "    }\n",
       "\n",
       "    .dataframe tbody tr th {\n",
       "        vertical-align: top;\n",
       "    }\n",
       "\n",
       "    .dataframe thead th {\n",
       "        text-align: right;\n",
       "    }\n",
       "</style>\n",
       "<table border=\"1\" class=\"dataframe\">\n",
       "  <thead>\n",
       "    <tr style=\"text-align: right;\">\n",
       "      <th></th>\n",
       "      <th>rank</th>\n",
       "      <th>Youtuber</th>\n",
       "      <th>subscribers</th>\n",
       "      <th>video views</th>\n",
       "      <th>category</th>\n",
       "      <th>Title</th>\n",
       "      <th>uploads</th>\n",
       "      <th>Country</th>\n",
       "      <th>Abbreviation</th>\n",
       "      <th>channel_type</th>\n",
       "      <th>...</th>\n",
       "      <th>subscribers_for_last_30_days</th>\n",
       "      <th>created_year</th>\n",
       "      <th>created_month</th>\n",
       "      <th>created_date</th>\n",
       "      <th>Gross tertiary education enrollment (%)</th>\n",
       "      <th>Population</th>\n",
       "      <th>Unemployment rate</th>\n",
       "      <th>Urban_population</th>\n",
       "      <th>Latitude</th>\n",
       "      <th>Longitude</th>\n",
       "    </tr>\n",
       "  </thead>\n",
       "  <tbody>\n",
       "    <tr>\n",
       "      <th>0</th>\n",
       "      <td>1</td>\n",
       "      <td>T-Series</td>\n",
       "      <td>245000000</td>\n",
       "      <td>2.280000e+11</td>\n",
       "      <td>Music</td>\n",
       "      <td>T-Series</td>\n",
       "      <td>20082</td>\n",
       "      <td>India</td>\n",
       "      <td>IN</td>\n",
       "      <td>Music</td>\n",
       "      <td>...</td>\n",
       "      <td>2000000.0</td>\n",
       "      <td>2006.0</td>\n",
       "      <td>Mar</td>\n",
       "      <td>13.0</td>\n",
       "      <td>28.1</td>\n",
       "      <td>1.366418e+09</td>\n",
       "      <td>5.36</td>\n",
       "      <td>471031528.0</td>\n",
       "      <td>20.593684</td>\n",
       "      <td>78.962880</td>\n",
       "    </tr>\n",
       "    <tr>\n",
       "      <th>1</th>\n",
       "      <td>2</td>\n",
       "      <td>YouTube Movies</td>\n",
       "      <td>170000000</td>\n",
       "      <td>0.000000e+00</td>\n",
       "      <td>Film &amp; Animation</td>\n",
       "      <td>youtubemovies</td>\n",
       "      <td>1</td>\n",
       "      <td>United States</td>\n",
       "      <td>US</td>\n",
       "      <td>Games</td>\n",
       "      <td>...</td>\n",
       "      <td>NaN</td>\n",
       "      <td>2006.0</td>\n",
       "      <td>Mar</td>\n",
       "      <td>5.0</td>\n",
       "      <td>88.2</td>\n",
       "      <td>3.282395e+08</td>\n",
       "      <td>14.70</td>\n",
       "      <td>270663028.0</td>\n",
       "      <td>37.090240</td>\n",
       "      <td>-95.712891</td>\n",
       "    </tr>\n",
       "    <tr>\n",
       "      <th>2</th>\n",
       "      <td>3</td>\n",
       "      <td>MrBeast</td>\n",
       "      <td>166000000</td>\n",
       "      <td>2.836884e+10</td>\n",
       "      <td>Entertainment</td>\n",
       "      <td>MrBeast</td>\n",
       "      <td>741</td>\n",
       "      <td>United States</td>\n",
       "      <td>US</td>\n",
       "      <td>Entertainment</td>\n",
       "      <td>...</td>\n",
       "      <td>8000000.0</td>\n",
       "      <td>2012.0</td>\n",
       "      <td>Feb</td>\n",
       "      <td>20.0</td>\n",
       "      <td>88.2</td>\n",
       "      <td>3.282395e+08</td>\n",
       "      <td>14.70</td>\n",
       "      <td>270663028.0</td>\n",
       "      <td>37.090240</td>\n",
       "      <td>-95.712891</td>\n",
       "    </tr>\n",
       "    <tr>\n",
       "      <th>3</th>\n",
       "      <td>4</td>\n",
       "      <td>Cocomelon - Nursery Rhymes</td>\n",
       "      <td>162000000</td>\n",
       "      <td>1.640000e+11</td>\n",
       "      <td>Education</td>\n",
       "      <td>Cocomelon - Nursery Rhymes</td>\n",
       "      <td>966</td>\n",
       "      <td>United States</td>\n",
       "      <td>US</td>\n",
       "      <td>Education</td>\n",
       "      <td>...</td>\n",
       "      <td>1000000.0</td>\n",
       "      <td>2006.0</td>\n",
       "      <td>Sep</td>\n",
       "      <td>1.0</td>\n",
       "      <td>88.2</td>\n",
       "      <td>3.282395e+08</td>\n",
       "      <td>14.70</td>\n",
       "      <td>270663028.0</td>\n",
       "      <td>37.090240</td>\n",
       "      <td>-95.712891</td>\n",
       "    </tr>\n",
       "    <tr>\n",
       "      <th>4</th>\n",
       "      <td>5</td>\n",
       "      <td>SET India</td>\n",
       "      <td>159000000</td>\n",
       "      <td>1.480000e+11</td>\n",
       "      <td>Shows</td>\n",
       "      <td>SET India</td>\n",
       "      <td>116536</td>\n",
       "      <td>India</td>\n",
       "      <td>IN</td>\n",
       "      <td>Entertainment</td>\n",
       "      <td>...</td>\n",
       "      <td>1000000.0</td>\n",
       "      <td>2006.0</td>\n",
       "      <td>Sep</td>\n",
       "      <td>20.0</td>\n",
       "      <td>28.1</td>\n",
       "      <td>1.366418e+09</td>\n",
       "      <td>5.36</td>\n",
       "      <td>471031528.0</td>\n",
       "      <td>20.593684</td>\n",
       "      <td>78.962880</td>\n",
       "    </tr>\n",
       "  </tbody>\n",
       "</table>\n",
       "<p>5 rows × 28 columns</p>\n",
       "</div>"
      ],
      "text/plain": [
       "   rank                    Youtuber  subscribers   video views  \\\n",
       "0     1                    T-Series    245000000  2.280000e+11   \n",
       "1     2              YouTube Movies    170000000  0.000000e+00   \n",
       "2     3                     MrBeast    166000000  2.836884e+10   \n",
       "3     4  Cocomelon - Nursery Rhymes    162000000  1.640000e+11   \n",
       "4     5                   SET India    159000000  1.480000e+11   \n",
       "\n",
       "           category                       Title  uploads        Country  \\\n",
       "0             Music                    T-Series    20082          India   \n",
       "1  Film & Animation               youtubemovies        1  United States   \n",
       "2     Entertainment                     MrBeast      741  United States   \n",
       "3         Education  Cocomelon - Nursery Rhymes      966  United States   \n",
       "4             Shows                   SET India   116536          India   \n",
       "\n",
       "  Abbreviation   channel_type  ...  subscribers_for_last_30_days  \\\n",
       "0           IN          Music  ...                     2000000.0   \n",
       "1           US          Games  ...                           NaN   \n",
       "2           US  Entertainment  ...                     8000000.0   \n",
       "3           US      Education  ...                     1000000.0   \n",
       "4           IN  Entertainment  ...                     1000000.0   \n",
       "\n",
       "   created_year  created_month  created_date  \\\n",
       "0        2006.0            Mar          13.0   \n",
       "1        2006.0            Mar           5.0   \n",
       "2        2012.0            Feb          20.0   \n",
       "3        2006.0            Sep           1.0   \n",
       "4        2006.0            Sep          20.0   \n",
       "\n",
       "   Gross tertiary education enrollment (%)    Population  Unemployment rate  \\\n",
       "0                                     28.1  1.366418e+09               5.36   \n",
       "1                                     88.2  3.282395e+08              14.70   \n",
       "2                                     88.2  3.282395e+08              14.70   \n",
       "3                                     88.2  3.282395e+08              14.70   \n",
       "4                                     28.1  1.366418e+09               5.36   \n",
       "\n",
       "   Urban_population   Latitude  Longitude  \n",
       "0       471031528.0  20.593684  78.962880  \n",
       "1       270663028.0  37.090240 -95.712891  \n",
       "2       270663028.0  37.090240 -95.712891  \n",
       "3       270663028.0  37.090240 -95.712891  \n",
       "4       471031528.0  20.593684  78.962880  \n",
       "\n",
       "[5 rows x 28 columns]"
      ]
     },
     "execution_count": 2,
     "metadata": {},
     "output_type": "execute_result"
    }
   ],
   "source": [
    "data = pd.read_csv(\"Global YouTube Statistics.csv\",encoding='ISO-8859-1')\n",
    "data.head()"
   ]
  },
  {
   "cell_type": "markdown",
   "metadata": {},
   "source": [
    "#### 📌 Dữ liệu có bao nhiêu hàng và bao nhiêu cột?"
   ]
  },
  {
   "cell_type": "code",
   "execution_count": 3,
   "metadata": {},
   "outputs": [
    {
     "name": "stdout",
     "output_type": "stream",
     "text": [
      "Kích thước dữ liệu hiện tại: (995, 28)\n"
     ]
    }
   ],
   "source": [
    "shape = data.shape\n",
    "print(f\"Kích thước dữ liệu hiện tại: {shape}\")"
   ]
  },
  {
   "cell_type": "code",
   "execution_count": 4,
   "metadata": {},
   "outputs": [
    {
     "name": "stdout",
     "output_type": "stream",
     "text": [
      "Dữ liệu có 995 hàng và 28 cột\n"
     ]
    }
   ],
   "source": [
    "row,col = data.shape\n",
    "print(f'Dữ liệu có {row} hàng và {col} cột')"
   ]
  },
  {
   "cell_type": "markdown",
   "metadata": {},
   "source": [
    "#### 📌 Ý nghĩa của mỗi hàng là gì?"
   ]
  },
  {
   "cell_type": "markdown",
   "metadata": {},
   "source": [
    "Mỗi dòng chứa thông tin của 1 kênh Youtube "
   ]
  },
  {
   "cell_type": "markdown",
   "metadata": {},
   "source": [
    "####  📌 Dữ liệu có các dòng bị lặp không?"
   ]
  },
  {
   "cell_type": "code",
   "execution_count": 5,
   "metadata": {},
   "outputs": [],
   "source": [
    "index = data.index\n",
    "detectDupSeries = index.duplicated(keep='first')\n",
    "num_duplicated_rows = detectDupSeries.sum()"
   ]
  },
  {
   "cell_type": "code",
   "execution_count": 6,
   "metadata": {},
   "outputs": [
    {
     "name": "stdout",
     "output_type": "stream",
     "text": [
      "Dữ liệu không có dòng bị trùng lặp!\n"
     ]
    }
   ],
   "source": [
    "# TEST\n",
    "if num_duplicated_rows == 0:\n",
    "    print(f\"Dữ liệu không có dòng bị trùng lặp!\")\n",
    "else:\n",
    "    print(f\"Dữ liệu có {num_duplicated_rows} dòng bị lặp\")"
   ]
  },
  {
   "cell_type": "markdown",
   "metadata": {},
   "source": [
    "#### 📌 Ý nghĩa của mỗi cột là gì?"
   ]
  },
  {
   "cell_type": "markdown",
   "metadata": {},
   "source": [
    "<table style=\"width: 100%; border-collapse: collapse;\">\n",
    "  <thead>\n",
    "    <tr>\n",
    "      <th style=\"min-width: 10px; width: 30px; background-color: #04B1CC; color: white; font-size :15px; font-weight: bold; text-align: left; padding: 8px;\">STT</th>\n",
    "      <th style=\"background-color: #04B1CC; color: white; font-size :15px; font-weight: bold; text-align: left; padding: 8px;\">Cột</th>\n",
    "      <th style=\"background-color: #04B1CC; color: white; font-size :15px; font-weight: bold; text-align: left; padding: 8px;\">Ý nghĩa</th>\n",
    "    </tr>\n",
    "  </thead>\n",
    "  <tbody>\n",
    "    <tr>\n",
    "      <td style=\"font-size: 14px; text-align: left;\">1</td>\n",
    "      <td style=\"font-size: 14px; text-align: left;\">rank</td>\n",
    "      <td style=\"font-size: 14px; text-align: left;\">Vị trí của kênh YouTube dựa trên số lượng người đăng ký</td>\n",
    "    </tr>\n",
    "    <tr>\n",
    "      <td style=\"font-size: 14px; text-align: left;\">2</td>\n",
    "      <td style=\"font-size: 14px; text-align: left;\">Youtuber</td>\n",
    "      <td style=\"font-size: 14px; text-align: left;\">Tên kênh YouTube</td>\n",
    "    </tr>\n",
    "    <tr>\n",
    "      <td style=\"font-size: 14px; text-align: left;\">3</td>\n",
    "      <td style=\"font-size: 14px; text-align: left;\">subscribers</td>\n",
    "      <td style=\"font-size: 14px; text-align: left;\">Số lượng người đăng ký kênh</td>\n",
    "    </tr>\n",
    "    <tr>\n",
    "      <td style=\"font-size: 14px; text-align: left;\">4</td>\n",
    "      <td style=\"font-size: 14px; text-align: left;\">video views</td>\n",
    "      <td style=\"font-size: 14px; text-align: left;\">Tổng số lượt xem trên tất cả video trên kênh</td>\n",
    "    </tr>\n",
    "    <tr>\n",
    "      <td style=\"font-size: 14px; text-align: left;\">5</td>\n",
    "      <td style=\"font-size: 14px; text-align: left;\">category</td>\n",
    "      <td style=\"font-size: 14px; text-align: left;\">Danh mục hoặc phân khúc của kênh</td>\n",
    "    </tr>\n",
    "    <tr>\n",
    "      <td style=\"font-size: 14px; text-align: left;\">6</td>\n",
    "      <td style=\"font-size: 14px; text-align: left;\">Title</td>\n",
    "      <td style=\"font-size: 14px; text-align: left;\">Tiêu đề của kênh YouTube</td>\n",
    "    </tr>\n",
    "    <tr>\n",
    "      <td style=\"font-size: 14px; text-align: left;\">7</td>\n",
    "      <td style=\"font-size: 14px; text-align: left;\">uploads</td>\n",
    "      <td style=\"font-size: 14px; text-align: left;\">Tổng số video upload trên kênh</td>\n",
    "    </tr>\n",
    "    <tr>\n",
    "      <td style=\"font-size: 14px; text-align: left;\">8</td>\n",
    "      <td style=\"font-size: 14px; text-align: left;\">Country</td>\n",
    "      <td style=\"font-size: 14px; text-align: left;\">Quốc gia nơi kênh YouTube bắt nguồn</td>\n",
    "    </tr>\n",
    "    <tr>\n",
    "      <td style=\"font-size: 14px; text-align: left;\">9</td>\n",
    "      <td style=\"font-size: 14px; text-align: left;\">Abbreviation</td>\n",
    "      <td style=\"font-size: 14px; text-align: left;\">Viết tắt của quốc gia</td>\n",
    "    </tr>\n",
    "    <tr>\n",
    "      <td style=\"font-size: 14px; text-align: left;\">10</td>\n",
    "      <td style=\"font-size: 14px; text-align: left;\">channel_type</td>\n",
    "      <td style=\"font-size: 14px; text-align: left;\">Loại kênh YouTube </td>\n",
    "    </tr>\n",
    "    <tr>\n",
    "      <td style=\"font-size: 14px; text-align: left;\">11</td>\n",
    "      <td style=\"font-size: 14px; text-align: left;\">video_views_rank</td>\n",
    "      <td style=\"font-size: 14px; text-align: left;\">Xếp hạng kênh dựa trên tổng lượt xem video</td>\n",
    "    </tr>\n",
    "    <tr>\n",
    "      <td style=\"font-size: 14px; text-align: left;\">12</td>\n",
    "      <td style=\"font-size: 14px; text-align: left;\">country_rank</td>\n",
    "      <td style=\"font-size: 14px; text-align: left;\">Xếp hạng kênh dựa trên số lượng người đăng ký trong quốc gia của kênh đó</td>\n",
    "    </tr>\n",
    "    <tr>\n",
    "      <td style=\"font-size: 14px; text-align: left;\">13</td>\n",
    "      <td style=\"font-size: 14px; text-align: left;\">channel_type_rank</td>\n",
    "      <td style=\"font-size: 14px; text-align: left;\"> Xếp hạng kênh dựa trên loại kênh </td>\n",
    "    </tr>\n",
    "     <tr>\n",
    "      <td style=\"font-size: 14px; text-align: left;\">14</td>\n",
    "      <td style=\"font-size: 14px; text-align: left;\">video_views_for_the_last_30_days</td>\n",
    "      <td style=\"font-size: 14px; text-align: left;\"> Tổng số lượt xem video trong 30 ngày qua</td>\n",
    "    </tr>\n",
    "     <tr>\n",
    "      <td style=\"font-size: 14px; text-align: left;\">15</td>\n",
    "      <td style=\"font-size: 14px; text-align: left;\">lowest_monthly_earnings</td>\n",
    "      <td style=\"font-size: 14px; text-align: left;\"> Thu nhập hàng tháng ước tính thấp nhất từ kênh</td>\n",
    "    </tr>\n",
    "      <tr>\n",
    "      <td style=\"font-size: 14px; text-align: left;\">16</td>\n",
    "      <td style=\"font-size: 14px; text-align: left;\">highest_monthly_earnings</td>\n",
    "      <td style=\"font-size: 14px; text-align: left;\"> Thu nhập hàng tháng ước tính cao nhất từ kênh</td>\n",
    "    </tr>\n",
    "      <tr>\n",
    "      <td style=\"font-size: 14px; text-align: left;\">17</td>\n",
    "      <td style=\"font-size: 14px; text-align: left;\">lowest_yearly_earnings</td>\n",
    "      <td style=\"font-size: 14px; text-align: left;\"> Thu nhập ước tính hàng năm thấp nhất từ kênh</td>\n",
    "    </tr>\n",
    "      <tr>\n",
    "      <td style=\"font-size: 14px; text-align: left;\">18</td>\n",
    "      <td style=\"font-size: 14px; text-align: left;\">highest_yearly_earnings</td>\n",
    "      <td style=\"font-size: 14px; text-align: left;\"> Thu nhập ước tính hàng năm cao nhất từ kênh</td>\n",
    "    </tr>\n",
    "      <tr>\n",
    "      <td style=\"font-size: 14px; text-align: left;\">19</td>\n",
    "      <td style=\"font-size: 14px; text-align: left;\">subscribers_for_last_30_days</td>\n",
    "      <td style=\"font-size: 14px; text-align: left;\"> Số lượng người đăng ký mới đạt được trong 30 ngày qua</td>\n",
    "    </tr>\n",
    "      <tr>\n",
    "      <td style=\"font-size: 14px; text-align: left;\">20</td>\n",
    "      <td style=\"font-size: 14px; text-align: left;\">created_year</td>\n",
    "      <td style=\"font-size: 14px; text-align: left;\"> Năm kênh YouTube được tạo</td>\n",
    "    </tr>\n",
    "      <tr>\n",
    "      <td style=\"font-size: 14px; text-align: left;\">21</td>\n",
    "      <td style=\"font-size: 14px; text-align: left;\">created_month</td>\n",
    "      <td style=\"font-size: 14px; text-align: left;\"> Tháng kênh YouTube được tạo</td>\n",
    "    </tr>\n",
    "      <tr>\n",
    "      <td style=\"font-size: 14px; text-align: left;\">22</td>\n",
    "      <td style=\"font-size: 14px; text-align: left;\">created_date</td>\n",
    "      <td style=\"font-size: 14px; text-align: left;\"> Ngày chính xác tạo kênh YouTube</td>\n",
    "    </tr>\n",
    "      <tr>\n",
    "      <td style=\"font-size: 14px; text-align: left;\">23</td>\n",
    "      <td style=\"font-size: 14px; text-align: left;\">Gross tertiary education enrollment (%)</td>\n",
    "      <td style=\"font-size: 14px; text-align: left;\"> Tỷ lệ dân số theo học giáo dục đại học trong cả nước</td>\n",
    "    </tr>\n",
    "      <tr>\n",
    "      <td style=\"font-size: 14px; text-align: left;\">24</td>\n",
    "      <td style=\"font-size: 14px; text-align: left;\">Population</td>\n",
    "      <td style=\"font-size: 14px; text-align: left;\"> Tổng dân số cả nước</td>\n",
    "    </tr>\n",
    "      <tr>\n",
    "      <td style=\"font-size: 14px; text-align: left;\">25</td>\n",
    "      <td style=\"font-size: 14px; text-align: left;\">Unemployment rate</td>\n",
    "      <td style=\"font-size: 14px; text-align: left;\"> Tỷ lệ thất nghiệp trong nước</td>\n",
    "    </tr>\n",
    "      <tr>\n",
    "      <td style=\"font-size: 14px; text-align: left;\">26</td>\n",
    "      <td style=\"font-size: 14px; text-align: left;\">Urban_population</td>\n",
    "      <td style=\"font-size: 14px; text-align: left;\"> Tỷ lệ dân số sống ở khu vực thành thị</td>\n",
    "    </tr>\n",
    "      <tr>\n",
    "      <td style=\"font-size: 14px; text-align: left;\">27</td>\n",
    "      <td style=\"font-size: 14px; text-align: left;\">Latitude</td>\n",
    "      <td style=\"font-size: 14px; text-align: left;\"> Tọa độ vĩ độ của vị trí đất nước</td>\n",
    "    </tr>\n",
    "      <tr>\n",
    "      <td style=\"font-size: 14px; text-align: left;\">28</td>\n",
    "      <td style=\"font-size: 14px; text-align: left;\">Longitude</td>\n",
    "      <td style=\"font-size: 14px; text-align: left;\"> Tọa độ kinh độ của vị trí đất nước</td>\n",
    "    </tr>\n",
    "  </tbody>\n",
    "</table>"
   ]
  },
  {
   "cell_type": "markdown",
   "metadata": {},
   "source": [
    "#### 📌 Có cột nào dư thừa hay không cần thiết không?"
   ]
  },
  {
   "cell_type": "markdown",
   "metadata": {},
   "source": [
    "Tiến hành loại bỏ các cột `rank`, `Title`, `Abbreviation`, `Gross tertiary education enrollment (%)`, `Unemployment rate`, `Urban_population`, `Latitude`, `Longitude`\n",
    "- Cột `rank` là vị trí của kênh dựa trên số lượng đăng ký, không mang nhiều ý nghĩa\n",
    "- Cột `Title` có giá trị gần như là trùng lặp với cột `Youtuber`\n",
    "- Cột  `Gross tertiary education enrollment (%)`, `Unemployment rate`, `Urban_population` không mang nhiều ý nghĩa\n"
   ]
  },
  {
   "cell_type": "code",
   "execution_count": 7,
   "metadata": {},
   "outputs": [
    {
     "data": {
      "text/html": [
       "<div>\n",
       "<style scoped>\n",
       "    .dataframe tbody tr th:only-of-type {\n",
       "        vertical-align: middle;\n",
       "    }\n",
       "\n",
       "    .dataframe tbody tr th {\n",
       "        vertical-align: top;\n",
       "    }\n",
       "\n",
       "    .dataframe thead th {\n",
       "        text-align: right;\n",
       "    }\n",
       "</style>\n",
       "<table border=\"1\" class=\"dataframe\">\n",
       "  <thead>\n",
       "    <tr style=\"text-align: right;\">\n",
       "      <th></th>\n",
       "      <th>Youtuber</th>\n",
       "      <th>subscribers</th>\n",
       "      <th>video views</th>\n",
       "      <th>category</th>\n",
       "      <th>uploads</th>\n",
       "      <th>Country</th>\n",
       "      <th>Abbreviation</th>\n",
       "      <th>channel_type</th>\n",
       "      <th>video_views_rank</th>\n",
       "      <th>country_rank</th>\n",
       "      <th>...</th>\n",
       "      <th>highest_monthly_earnings</th>\n",
       "      <th>lowest_yearly_earnings</th>\n",
       "      <th>highest_yearly_earnings</th>\n",
       "      <th>subscribers_for_last_30_days</th>\n",
       "      <th>created_year</th>\n",
       "      <th>created_month</th>\n",
       "      <th>created_date</th>\n",
       "      <th>Population</th>\n",
       "      <th>Latitude</th>\n",
       "      <th>Longitude</th>\n",
       "    </tr>\n",
       "  </thead>\n",
       "  <tbody>\n",
       "    <tr>\n",
       "      <th>0</th>\n",
       "      <td>T-Series</td>\n",
       "      <td>245000000</td>\n",
       "      <td>2.280000e+11</td>\n",
       "      <td>Music</td>\n",
       "      <td>20082</td>\n",
       "      <td>India</td>\n",
       "      <td>IN</td>\n",
       "      <td>Music</td>\n",
       "      <td>1.0</td>\n",
       "      <td>1.0</td>\n",
       "      <td>...</td>\n",
       "      <td>9000000.00</td>\n",
       "      <td>6800000.00</td>\n",
       "      <td>1.084000e+08</td>\n",
       "      <td>2000000.0</td>\n",
       "      <td>2006.0</td>\n",
       "      <td>Mar</td>\n",
       "      <td>13.0</td>\n",
       "      <td>1.366418e+09</td>\n",
       "      <td>20.593684</td>\n",
       "      <td>78.962880</td>\n",
       "    </tr>\n",
       "    <tr>\n",
       "      <th>1</th>\n",
       "      <td>YouTube Movies</td>\n",
       "      <td>170000000</td>\n",
       "      <td>0.000000e+00</td>\n",
       "      <td>Film &amp; Animation</td>\n",
       "      <td>1</td>\n",
       "      <td>United States</td>\n",
       "      <td>US</td>\n",
       "      <td>Games</td>\n",
       "      <td>4055159.0</td>\n",
       "      <td>7670.0</td>\n",
       "      <td>...</td>\n",
       "      <td>0.05</td>\n",
       "      <td>0.04</td>\n",
       "      <td>5.800000e-01</td>\n",
       "      <td>NaN</td>\n",
       "      <td>2006.0</td>\n",
       "      <td>Mar</td>\n",
       "      <td>5.0</td>\n",
       "      <td>3.282395e+08</td>\n",
       "      <td>37.090240</td>\n",
       "      <td>-95.712891</td>\n",
       "    </tr>\n",
       "    <tr>\n",
       "      <th>2</th>\n",
       "      <td>MrBeast</td>\n",
       "      <td>166000000</td>\n",
       "      <td>2.836884e+10</td>\n",
       "      <td>Entertainment</td>\n",
       "      <td>741</td>\n",
       "      <td>United States</td>\n",
       "      <td>US</td>\n",
       "      <td>Entertainment</td>\n",
       "      <td>48.0</td>\n",
       "      <td>1.0</td>\n",
       "      <td>...</td>\n",
       "      <td>5400000.00</td>\n",
       "      <td>4000000.00</td>\n",
       "      <td>6.470000e+07</td>\n",
       "      <td>8000000.0</td>\n",
       "      <td>2012.0</td>\n",
       "      <td>Feb</td>\n",
       "      <td>20.0</td>\n",
       "      <td>3.282395e+08</td>\n",
       "      <td>37.090240</td>\n",
       "      <td>-95.712891</td>\n",
       "    </tr>\n",
       "    <tr>\n",
       "      <th>3</th>\n",
       "      <td>Cocomelon - Nursery Rhymes</td>\n",
       "      <td>162000000</td>\n",
       "      <td>1.640000e+11</td>\n",
       "      <td>Education</td>\n",
       "      <td>966</td>\n",
       "      <td>United States</td>\n",
       "      <td>US</td>\n",
       "      <td>Education</td>\n",
       "      <td>2.0</td>\n",
       "      <td>2.0</td>\n",
       "      <td>...</td>\n",
       "      <td>7900000.00</td>\n",
       "      <td>5900000.00</td>\n",
       "      <td>9.480000e+07</td>\n",
       "      <td>1000000.0</td>\n",
       "      <td>2006.0</td>\n",
       "      <td>Sep</td>\n",
       "      <td>1.0</td>\n",
       "      <td>3.282395e+08</td>\n",
       "      <td>37.090240</td>\n",
       "      <td>-95.712891</td>\n",
       "    </tr>\n",
       "    <tr>\n",
       "      <th>4</th>\n",
       "      <td>SET India</td>\n",
       "      <td>159000000</td>\n",
       "      <td>1.480000e+11</td>\n",
       "      <td>Shows</td>\n",
       "      <td>116536</td>\n",
       "      <td>India</td>\n",
       "      <td>IN</td>\n",
       "      <td>Entertainment</td>\n",
       "      <td>3.0</td>\n",
       "      <td>2.0</td>\n",
       "      <td>...</td>\n",
       "      <td>7300000.00</td>\n",
       "      <td>5500000.00</td>\n",
       "      <td>8.750000e+07</td>\n",
       "      <td>1000000.0</td>\n",
       "      <td>2006.0</td>\n",
       "      <td>Sep</td>\n",
       "      <td>20.0</td>\n",
       "      <td>1.366418e+09</td>\n",
       "      <td>20.593684</td>\n",
       "      <td>78.962880</td>\n",
       "    </tr>\n",
       "  </tbody>\n",
       "</table>\n",
       "<p>5 rows × 23 columns</p>\n",
       "</div>"
      ],
      "text/plain": [
       "                     Youtuber  subscribers   video views          category  \\\n",
       "0                    T-Series    245000000  2.280000e+11             Music   \n",
       "1              YouTube Movies    170000000  0.000000e+00  Film & Animation   \n",
       "2                     MrBeast    166000000  2.836884e+10     Entertainment   \n",
       "3  Cocomelon - Nursery Rhymes    162000000  1.640000e+11         Education   \n",
       "4                   SET India    159000000  1.480000e+11             Shows   \n",
       "\n",
       "   uploads        Country Abbreviation   channel_type  video_views_rank  \\\n",
       "0    20082          India           IN          Music               1.0   \n",
       "1        1  United States           US          Games         4055159.0   \n",
       "2      741  United States           US  Entertainment              48.0   \n",
       "3      966  United States           US      Education               2.0   \n",
       "4   116536          India           IN  Entertainment               3.0   \n",
       "\n",
       "   country_rank  ...  highest_monthly_earnings  lowest_yearly_earnings  \\\n",
       "0           1.0  ...                9000000.00              6800000.00   \n",
       "1        7670.0  ...                      0.05                    0.04   \n",
       "2           1.0  ...                5400000.00              4000000.00   \n",
       "3           2.0  ...                7900000.00              5900000.00   \n",
       "4           2.0  ...                7300000.00              5500000.00   \n",
       "\n",
       "   highest_yearly_earnings  subscribers_for_last_30_days  created_year  \\\n",
       "0             1.084000e+08                     2000000.0        2006.0   \n",
       "1             5.800000e-01                           NaN        2006.0   \n",
       "2             6.470000e+07                     8000000.0        2012.0   \n",
       "3             9.480000e+07                     1000000.0        2006.0   \n",
       "4             8.750000e+07                     1000000.0        2006.0   \n",
       "\n",
       "   created_month  created_date    Population   Latitude  Longitude  \n",
       "0            Mar          13.0  1.366418e+09  20.593684  78.962880  \n",
       "1            Mar           5.0  3.282395e+08  37.090240 -95.712891  \n",
       "2            Feb          20.0  3.282395e+08  37.090240 -95.712891  \n",
       "3            Sep           1.0  3.282395e+08  37.090240 -95.712891  \n",
       "4            Sep          20.0  1.366418e+09  20.593684  78.962880  \n",
       "\n",
       "[5 rows x 23 columns]"
      ]
     },
     "execution_count": 7,
     "metadata": {},
     "output_type": "execute_result"
    }
   ],
   "source": [
    "drop_cols = ['rank', 'Title', 'Gross tertiary education enrollment (%)', 'Unemployment rate', 'Urban_population']\n",
    "data.drop(drop_cols, axis=1, inplace=True)\n",
    "data.head()"
   ]
  },
  {
   "cell_type": "markdown",
   "metadata": {},
   "source": [
    "#### 📌 Kiểu dữ liệu hiện tại của mỗi cột là gì? Có cột nào có kiểu dữ liệu không phù hợp không?"
   ]
  },
  {
   "cell_type": "code",
   "execution_count": 8,
   "metadata": {},
   "outputs": [
    {
     "name": "stdout",
     "output_type": "stream",
     "text": [
      "<class 'pandas.core.frame.DataFrame'>\n",
      "RangeIndex: 995 entries, 0 to 994\n",
      "Data columns (total 23 columns):\n",
      " #   Column                            Non-Null Count  Dtype  \n",
      "---  ------                            --------------  -----  \n",
      " 0   Youtuber                          995 non-null    object \n",
      " 1   subscribers                       995 non-null    int64  \n",
      " 2   video views                       995 non-null    float64\n",
      " 3   category                          949 non-null    object \n",
      " 4   uploads                           995 non-null    int64  \n",
      " 5   Country                           873 non-null    object \n",
      " 6   Abbreviation                      873 non-null    object \n",
      " 7   channel_type                      965 non-null    object \n",
      " 8   video_views_rank                  994 non-null    float64\n",
      " 9   country_rank                      879 non-null    float64\n",
      " 10  channel_type_rank                 962 non-null    float64\n",
      " 11  video_views_for_the_last_30_days  939 non-null    float64\n",
      " 12  lowest_monthly_earnings           995 non-null    float64\n",
      " 13  highest_monthly_earnings          995 non-null    float64\n",
      " 14  lowest_yearly_earnings            995 non-null    float64\n",
      " 15  highest_yearly_earnings           995 non-null    float64\n",
      " 16  subscribers_for_last_30_days      658 non-null    float64\n",
      " 17  created_year                      990 non-null    float64\n",
      " 18  created_month                     990 non-null    object \n",
      " 19  created_date                      990 non-null    float64\n",
      " 20  Population                        872 non-null    float64\n",
      " 21  Latitude                          872 non-null    float64\n",
      " 22  Longitude                         872 non-null    float64\n",
      "dtypes: float64(15), int64(2), object(6)\n",
      "memory usage: 178.9+ KB\n"
     ]
    }
   ],
   "source": [
    "data.info()"
   ]
  },
  {
   "cell_type": "markdown",
   "metadata": {},
   "source": [
    "- Nhìn chung các cột `video views`, `video_views_rank`, `country_rank`, `channel_type_rank`, `video_views_for_the_last_30_days`,`subscribers_for_last_30_days`, `created_year`, `created_date`, `Population` cần chuyển về dạng int\n",
    "- Các cột `created_year`, `created_date` chuyển về object để phân vào categorical, tuy nhiên ở bước này nhóm em vẫn để `created_year`, `created_date` ở kiểu số để có thể điền giá trị bị thiếu và sẽ chuyển về dạng object sau"
   ]
  },
  {
   "cell_type": "code",
   "execution_count": 9,
   "metadata": {},
   "outputs": [],
   "source": [
    "cols_list = ['video_views_rank', 'country_rank', 'channel_type_rank', 'video_views_for_the_last_30_days','subscribers_for_last_30_days', 'Population' ]\n",
    "for column in cols_list:\n",
    "    data[column] = pd.to_numeric(data[column], errors='coerce')\n",
    "data['video views'] = data['video views'].astype(np.int64)\n"
   ]
  },
  {
   "cell_type": "code",
   "execution_count": 10,
   "metadata": {},
   "outputs": [
    {
     "name": "stdout",
     "output_type": "stream",
     "text": [
      "<class 'pandas.core.frame.DataFrame'>\n",
      "RangeIndex: 995 entries, 0 to 994\n",
      "Data columns (total 23 columns):\n",
      " #   Column                            Non-Null Count  Dtype  \n",
      "---  ------                            --------------  -----  \n",
      " 0   Youtuber                          995 non-null    object \n",
      " 1   subscribers                       995 non-null    int64  \n",
      " 2   video views                       995 non-null    int64  \n",
      " 3   category                          949 non-null    object \n",
      " 4   uploads                           995 non-null    int64  \n",
      " 5   Country                           873 non-null    object \n",
      " 6   Abbreviation                      873 non-null    object \n",
      " 7   channel_type                      965 non-null    object \n",
      " 8   video_views_rank                  994 non-null    float64\n",
      " 9   country_rank                      879 non-null    float64\n",
      " 10  channel_type_rank                 962 non-null    float64\n",
      " 11  video_views_for_the_last_30_days  939 non-null    float64\n",
      " 12  lowest_monthly_earnings           995 non-null    float64\n",
      " 13  highest_monthly_earnings          995 non-null    float64\n",
      " 14  lowest_yearly_earnings            995 non-null    float64\n",
      " 15  highest_yearly_earnings           995 non-null    float64\n",
      " 16  subscribers_for_last_30_days      658 non-null    float64\n",
      " 17  created_year                      990 non-null    float64\n",
      " 18  created_month                     990 non-null    object \n",
      " 19  created_date                      990 non-null    float64\n",
      " 20  Population                        872 non-null    float64\n",
      " 21  Latitude                          872 non-null    float64\n",
      " 22  Longitude                         872 non-null    float64\n",
      "dtypes: float64(14), int64(3), object(6)\n",
      "memory usage: 178.9+ KB\n"
     ]
    }
   ],
   "source": [
    "data.info()"
   ]
  },
  {
   "cell_type": "markdown",
   "metadata": {},
   "source": [
    "Chúng ta có thể thấy , mặc dù chuyển sang int64 nhưng vẫn xuất hiện float64 ở các cột mà ta muốn chuyển, điều này là do việc bị thiếu dữ liệu và các giá trị NULL sẽ được Pandas cho là Float64"
   ]
  },
  {
   "cell_type": "markdown",
   "metadata": {},
   "source": [
    "#### 📌 Đối với mỗi cột có kiểu dữ liệu số, các giá trị được phân bố như thế nào?"
   ]
  },
  {
   "cell_type": "markdown",
   "metadata": {},
   "source": [
    "📚 Đối với các cột có kiểu dữ liệu số, chúng ta sẽ tính toán một số thống kê cơ bản:\n",
    "- Tỷ lệ phần trăm (từ 0 đến 100) giá trị bị thiếu\n",
    "- The min\n",
    "- The lower quartile (phân vị 25)\n",
    "- The median (phân vị 50)\n",
    "- The upper quartile (phân vị 75)\n",
    "- The max\n",
    "\n",
    "Sau đó chúng ta sẽ quan sát và nhận xét xem kết quả có gì bất thường không?"
   ]
  },
  {
   "cell_type": "code",
   "execution_count": 11,
   "metadata": {},
   "outputs": [
    {
     "data": {
      "text/html": [
       "<div>\n",
       "<style scoped>\n",
       "    .dataframe tbody tr th:only-of-type {\n",
       "        vertical-align: middle;\n",
       "    }\n",
       "\n",
       "    .dataframe tbody tr th {\n",
       "        vertical-align: top;\n",
       "    }\n",
       "\n",
       "    .dataframe thead th {\n",
       "        text-align: right;\n",
       "    }\n",
       "</style>\n",
       "<table border=\"1\" class=\"dataframe\">\n",
       "  <thead>\n",
       "    <tr style=\"text-align: right;\">\n",
       "      <th></th>\n",
       "      <th>missing_ratio</th>\n",
       "      <th>min</th>\n",
       "      <th>lower_quartile</th>\n",
       "      <th>median</th>\n",
       "      <th>upper_quartile</th>\n",
       "      <th>max</th>\n",
       "    </tr>\n",
       "  </thead>\n",
       "  <tbody>\n",
       "    <tr>\n",
       "      <th>subscribers</th>\n",
       "      <td>0.000000</td>\n",
       "      <td>1.230000e+07</td>\n",
       "      <td>1.450000e+07</td>\n",
       "      <td>1.770000e+07</td>\n",
       "      <td>2.460000e+07</td>\n",
       "      <td>2.450000e+08</td>\n",
       "    </tr>\n",
       "    <tr>\n",
       "      <th>video views</th>\n",
       "      <td>0.000000</td>\n",
       "      <td>0.000000e+00</td>\n",
       "      <td>4.288145e+09</td>\n",
       "      <td>7.760820e+09</td>\n",
       "      <td>1.355470e+10</td>\n",
       "      <td>2.280000e+11</td>\n",
       "    </tr>\n",
       "    <tr>\n",
       "      <th>uploads</th>\n",
       "      <td>0.000000</td>\n",
       "      <td>0.000000e+00</td>\n",
       "      <td>1.945000e+02</td>\n",
       "      <td>7.290000e+02</td>\n",
       "      <td>2.667500e+03</td>\n",
       "      <td>3.013080e+05</td>\n",
       "    </tr>\n",
       "    <tr>\n",
       "      <th>video_views_rank</th>\n",
       "      <td>0.100503</td>\n",
       "      <td>1.000000e+00</td>\n",
       "      <td>3.230000e+02</td>\n",
       "      <td>9.155000e+02</td>\n",
       "      <td>3.584500e+03</td>\n",
       "      <td>4.057944e+06</td>\n",
       "    </tr>\n",
       "    <tr>\n",
       "      <th>country_rank</th>\n",
       "      <td>11.658291</td>\n",
       "      <td>1.000000e+00</td>\n",
       "      <td>1.100000e+01</td>\n",
       "      <td>5.100000e+01</td>\n",
       "      <td>1.230000e+02</td>\n",
       "      <td>7.741000e+03</td>\n",
       "    </tr>\n",
       "    <tr>\n",
       "      <th>channel_type_rank</th>\n",
       "      <td>3.316583</td>\n",
       "      <td>1.000000e+00</td>\n",
       "      <td>2.700000e+01</td>\n",
       "      <td>6.550000e+01</td>\n",
       "      <td>1.397500e+02</td>\n",
       "      <td>7.741000e+03</td>\n",
       "    </tr>\n",
       "    <tr>\n",
       "      <th>video_views_for_the_last_30_days</th>\n",
       "      <td>5.628141</td>\n",
       "      <td>1.000000e+00</td>\n",
       "      <td>2.013750e+07</td>\n",
       "      <td>6.408500e+07</td>\n",
       "      <td>1.688265e+08</td>\n",
       "      <td>6.589000e+09</td>\n",
       "    </tr>\n",
       "    <tr>\n",
       "      <th>lowest_monthly_earnings</th>\n",
       "      <td>0.000000</td>\n",
       "      <td>0.000000e+00</td>\n",
       "      <td>2.700000e+03</td>\n",
       "      <td>1.330000e+04</td>\n",
       "      <td>3.790000e+04</td>\n",
       "      <td>8.509000e+05</td>\n",
       "    </tr>\n",
       "    <tr>\n",
       "      <th>highest_monthly_earnings</th>\n",
       "      <td>0.000000</td>\n",
       "      <td>0.000000e+00</td>\n",
       "      <td>4.350000e+04</td>\n",
       "      <td>2.127000e+05</td>\n",
       "      <td>6.068000e+05</td>\n",
       "      <td>1.360000e+07</td>\n",
       "    </tr>\n",
       "    <tr>\n",
       "      <th>lowest_yearly_earnings</th>\n",
       "      <td>0.000000</td>\n",
       "      <td>0.000000e+00</td>\n",
       "      <td>3.265000e+04</td>\n",
       "      <td>1.595000e+05</td>\n",
       "      <td>4.551000e+05</td>\n",
       "      <td>1.020000e+07</td>\n",
       "    </tr>\n",
       "    <tr>\n",
       "      <th>highest_yearly_earnings</th>\n",
       "      <td>0.000000</td>\n",
       "      <td>0.000000e+00</td>\n",
       "      <td>5.217500e+05</td>\n",
       "      <td>2.600000e+06</td>\n",
       "      <td>7.300000e+06</td>\n",
       "      <td>1.634000e+08</td>\n",
       "    </tr>\n",
       "    <tr>\n",
       "      <th>subscribers_for_last_30_days</th>\n",
       "      <td>33.869347</td>\n",
       "      <td>1.000000e+00</td>\n",
       "      <td>1.000000e+05</td>\n",
       "      <td>2.000000e+05</td>\n",
       "      <td>4.000000e+05</td>\n",
       "      <td>8.000000e+06</td>\n",
       "    </tr>\n",
       "    <tr>\n",
       "      <th>created_year</th>\n",
       "      <td>0.502513</td>\n",
       "      <td>1.970000e+03</td>\n",
       "      <td>2.009000e+03</td>\n",
       "      <td>2.013000e+03</td>\n",
       "      <td>2.016000e+03</td>\n",
       "      <td>2.022000e+03</td>\n",
       "    </tr>\n",
       "    <tr>\n",
       "      <th>created_date</th>\n",
       "      <td>0.502513</td>\n",
       "      <td>1.000000e+00</td>\n",
       "      <td>8.000000e+00</td>\n",
       "      <td>1.600000e+01</td>\n",
       "      <td>2.300000e+01</td>\n",
       "      <td>3.100000e+01</td>\n",
       "    </tr>\n",
       "    <tr>\n",
       "      <th>Population</th>\n",
       "      <td>12.361809</td>\n",
       "      <td>2.025060e+05</td>\n",
       "      <td>8.335541e+07</td>\n",
       "      <td>3.282395e+08</td>\n",
       "      <td>3.282395e+08</td>\n",
       "      <td>1.397715e+09</td>\n",
       "    </tr>\n",
       "    <tr>\n",
       "      <th>Latitude</th>\n",
       "      <td>12.361809</td>\n",
       "      <td>-3.841610e+01</td>\n",
       "      <td>2.059368e+01</td>\n",
       "      <td>3.709024e+01</td>\n",
       "      <td>3.709024e+01</td>\n",
       "      <td>6.192411e+01</td>\n",
       "    </tr>\n",
       "    <tr>\n",
       "      <th>Longitude</th>\n",
       "      <td>12.361809</td>\n",
       "      <td>-1.721046e+02</td>\n",
       "      <td>-9.571289e+01</td>\n",
       "      <td>-5.192528e+01</td>\n",
       "      <td>7.896288e+01</td>\n",
       "      <td>1.382529e+02</td>\n",
       "    </tr>\n",
       "  </tbody>\n",
       "</table>\n",
       "</div>"
      ],
      "text/plain": [
       "                                  missing_ratio           min  lower_quartile  \\\n",
       "subscribers                            0.000000  1.230000e+07    1.450000e+07   \n",
       "video views                            0.000000  0.000000e+00    4.288145e+09   \n",
       "uploads                                0.000000  0.000000e+00    1.945000e+02   \n",
       "video_views_rank                       0.100503  1.000000e+00    3.230000e+02   \n",
       "country_rank                          11.658291  1.000000e+00    1.100000e+01   \n",
       "channel_type_rank                      3.316583  1.000000e+00    2.700000e+01   \n",
       "video_views_for_the_last_30_days       5.628141  1.000000e+00    2.013750e+07   \n",
       "lowest_monthly_earnings                0.000000  0.000000e+00    2.700000e+03   \n",
       "highest_monthly_earnings               0.000000  0.000000e+00    4.350000e+04   \n",
       "lowest_yearly_earnings                 0.000000  0.000000e+00    3.265000e+04   \n",
       "highest_yearly_earnings                0.000000  0.000000e+00    5.217500e+05   \n",
       "subscribers_for_last_30_days          33.869347  1.000000e+00    1.000000e+05   \n",
       "created_year                           0.502513  1.970000e+03    2.009000e+03   \n",
       "created_date                           0.502513  1.000000e+00    8.000000e+00   \n",
       "Population                            12.361809  2.025060e+05    8.335541e+07   \n",
       "Latitude                              12.361809 -3.841610e+01    2.059368e+01   \n",
       "Longitude                             12.361809 -1.721046e+02   -9.571289e+01   \n",
       "\n",
       "                                        median  upper_quartile           max  \n",
       "subscribers                       1.770000e+07    2.460000e+07  2.450000e+08  \n",
       "video views                       7.760820e+09    1.355470e+10  2.280000e+11  \n",
       "uploads                           7.290000e+02    2.667500e+03  3.013080e+05  \n",
       "video_views_rank                  9.155000e+02    3.584500e+03  4.057944e+06  \n",
       "country_rank                      5.100000e+01    1.230000e+02  7.741000e+03  \n",
       "channel_type_rank                 6.550000e+01    1.397500e+02  7.741000e+03  \n",
       "video_views_for_the_last_30_days  6.408500e+07    1.688265e+08  6.589000e+09  \n",
       "lowest_monthly_earnings           1.330000e+04    3.790000e+04  8.509000e+05  \n",
       "highest_monthly_earnings          2.127000e+05    6.068000e+05  1.360000e+07  \n",
       "lowest_yearly_earnings            1.595000e+05    4.551000e+05  1.020000e+07  \n",
       "highest_yearly_earnings           2.600000e+06    7.300000e+06  1.634000e+08  \n",
       "subscribers_for_last_30_days      2.000000e+05    4.000000e+05  8.000000e+06  \n",
       "created_year                      2.013000e+03    2.016000e+03  2.022000e+03  \n",
       "created_date                      1.600000e+01    2.300000e+01  3.100000e+01  \n",
       "Population                        3.282395e+08    3.282395e+08  1.397715e+09  \n",
       "Latitude                          3.709024e+01    3.709024e+01  6.192411e+01  \n",
       "Longitude                        -5.192528e+01    7.896288e+01  1.382529e+02  "
      ]
     },
     "execution_count": 11,
     "metadata": {},
     "output_type": "execute_result"
    }
   ],
   "source": [
    "num_col_info_df = data.select_dtypes(exclude=['object', 'bool'])\n",
    "\n",
    "def missing_ratio(s):\n",
    "    return (s.isna().mean() * 100)\n",
    "\n",
    "def median(df):\n",
    "    return (df.quantile(0.5))\n",
    "\n",
    "def lower_quartile(df):\n",
    "    return (df.quantile(0.25))\n",
    "\n",
    "def upper_quartile(df):\n",
    "    return (df.quantile(0.75))\n",
    "\n",
    "num_col_info_df = num_col_info_df.agg([missing_ratio, \"min\", lower_quartile, median, upper_quartile, \"max\"])\n",
    "num_col_info_df.T"
   ]
  },
  {
   "cell_type": "markdown",
   "metadata": {},
   "source": [
    "- Cột `subscribers_for_last_30_days` có rất nhiều dữ liệu bị thiếu (tối thiểu 33.3%), tiến hành loại bỏ cột này\n",
    "- Các cột `video_views_rank`, `country_rank`, `channel_type_rank`, `video_views_for_the_last_30_days`,`created_year`,`created_date`, `Population` có dữ liệu bị thiếu, vì vậy nhóm em sẽ thay thế giá trị thiếu bằng trung vị của mỗi cột\n",
    "- Các cột `Latitude`, `Longitude` được điền bằng cách sử dụng dữ liệu từ các quốc gia có thông tin vị trí đã biết và thông qua việc sử dụng thư viện Geopy để tìm kiếm vị trí (latitude và longitude) cho các quốc gia mà dữ liệu ban đầu không có."
   ]
  },
  {
   "cell_type": "markdown",
   "metadata": {},
   "source": [
    "🚧 Tiền xử lý các cột dữ liệu số"
   ]
  },
  {
   "cell_type": "code",
   "execution_count": 12,
   "metadata": {},
   "outputs": [],
   "source": [
    "data.drop([\"subscribers_for_last_30_days\"], axis=1, inplace=True)"
   ]
  },
  {
   "cell_type": "code",
   "execution_count": 13,
   "metadata": {},
   "outputs": [],
   "source": [
    "col_list = ['video_views_rank', 'country_rank', 'channel_type_rank', 'video_views_for_the_last_30_days','created_year','created_date','Population']\n",
    "data.fillna(value=np.nan, inplace=True)\n",
    "\n",
    "for col in col_list:\n",
    "    data[col] = data[col].fillna(data[col].median().__round__(0))\n",
    "    data[col] = data[col].astype(np.int64)"
   ]
  },
  {
   "cell_type": "markdown",
   "metadata": {},
   "source": [
    "#### 📌 Đối với mỗi cột có kiểu dữ liệu không phải là số, các giá trị được phân phối như thế nào?"
   ]
  },
  {
   "cell_type": "markdown",
   "metadata": {},
   "source": [
    "📚 Đối với các cột có kiểu dữ liệu không phải là số, chúng ta sẽ tính toán:\n",
    "- Tỷ lệ phần trăm (từ 0 đến 100) giá trị bị thiếu\n",
    "- Số lượng giá trị khác nhau\n",
    "- Hiển thị một vài giá trị và phần trăm (từ 0 đến 100) của từng giá trị\n",
    "\n",
    "Sau đó chúng ta sẽ quan sát và nhận xét xem kết quả có gì bất thường không?"
   ]
  },
  {
   "cell_type": "markdown",
   "metadata": {},
   "source": [
    "Chuyển `created_year`, `created_date` về dạng object"
   ]
  },
  {
   "cell_type": "code",
   "execution_count": 14,
   "metadata": {},
   "outputs": [],
   "source": [
    "data['created_year'] = data['created_year'].astype(str)\n",
    "data['created_date'] = data['created_date'].astype(str)"
   ]
  },
  {
   "cell_type": "code",
   "execution_count": 15,
   "metadata": {},
   "outputs": [
    {
     "data": {
      "text/html": [
       "<div>\n",
       "<style scoped>\n",
       "    .dataframe tbody tr th:only-of-type {\n",
       "        vertical-align: middle;\n",
       "    }\n",
       "\n",
       "    .dataframe tbody tr th {\n",
       "        vertical-align: top;\n",
       "    }\n",
       "\n",
       "    .dataframe thead th {\n",
       "        text-align: right;\n",
       "    }\n",
       "</style>\n",
       "<table border=\"1\" class=\"dataframe\">\n",
       "  <thead>\n",
       "    <tr style=\"text-align: right;\">\n",
       "      <th></th>\n",
       "      <th>missing_ratio</th>\n",
       "      <th>num_values</th>\n",
       "      <th>value_ratios</th>\n",
       "    </tr>\n",
       "  </thead>\n",
       "  <tbody>\n",
       "    <tr>\n",
       "      <th>Youtuber</th>\n",
       "      <td>0.0</td>\n",
       "      <td>995</td>\n",
       "      <td>{'T-Series': 0.1, 'Hongyu ASMR ï¿½ï¿½': 0.1, '...</td>\n",
       "    </tr>\n",
       "    <tr>\n",
       "      <th>category</th>\n",
       "      <td>4.623116</td>\n",
       "      <td>19</td>\n",
       "      <td>{'Entertainment': 24.2, 'Music': 20.3, 'People...</td>\n",
       "    </tr>\n",
       "    <tr>\n",
       "      <th>Country</th>\n",
       "      <td>12.261307</td>\n",
       "      <td>50</td>\n",
       "      <td>{'United States': 31.5, 'India': 16.9, 'nan': ...</td>\n",
       "    </tr>\n",
       "    <tr>\n",
       "      <th>Abbreviation</th>\n",
       "      <td>12.261307</td>\n",
       "      <td>50</td>\n",
       "      <td>{'US': 31.5, 'IN': 16.9, 'nan': 12.3, 'BR': 6....</td>\n",
       "    </tr>\n",
       "    <tr>\n",
       "      <th>channel_type</th>\n",
       "      <td>3.015075</td>\n",
       "      <td>15</td>\n",
       "      <td>{'Entertainment': 30.6, 'Music': 21.7, 'People...</td>\n",
       "    </tr>\n",
       "    <tr>\n",
       "      <th>created_year</th>\n",
       "      <td>0.0</td>\n",
       "      <td>19</td>\n",
       "      <td>{'2014': 9.8, '2006': 9.1, '2011': 8.2, '2013'...</td>\n",
       "    </tr>\n",
       "    <tr>\n",
       "      <th>created_month</th>\n",
       "      <td>0.502513</td>\n",
       "      <td>13</td>\n",
       "      <td>{'Jan': 10.2, 'Sep': 9.6, 'Jul': 9.1, 'Nov': 9...</td>\n",
       "    </tr>\n",
       "    <tr>\n",
       "      <th>created_date</th>\n",
       "      <td>0.0</td>\n",
       "      <td>31</td>\n",
       "      <td>{'9': 4.5, '19': 4.3, '2': 3.9, '26': 3.9, '22...</td>\n",
       "    </tr>\n",
       "  </tbody>\n",
       "</table>\n",
       "</div>"
      ],
      "text/plain": [
       "              missing_ratio num_values  \\\n",
       "Youtuber                0.0        995   \n",
       "category           4.623116         19   \n",
       "Country           12.261307         50   \n",
       "Abbreviation      12.261307         50   \n",
       "channel_type       3.015075         15   \n",
       "created_year            0.0         19   \n",
       "created_month      0.502513         13   \n",
       "created_date            0.0         31   \n",
       "\n",
       "                                                    value_ratios  \n",
       "Youtuber       {'T-Series': 0.1, 'Hongyu ASMR ï¿½ï¿½': 0.1, '...  \n",
       "category       {'Entertainment': 24.2, 'Music': 20.3, 'People...  \n",
       "Country        {'United States': 31.5, 'India': 16.9, 'nan': ...  \n",
       "Abbreviation   {'US': 31.5, 'IN': 16.9, 'nan': 12.3, 'BR': 6....  \n",
       "channel_type   {'Entertainment': 30.6, 'Music': 21.7, 'People...  \n",
       "created_year   {'2014': 9.8, '2006': 9.1, '2011': 8.2, '2013'...  \n",
       "created_month  {'Jan': 10.2, 'Sep': 9.6, 'Jul': 9.1, 'Nov': 9...  \n",
       "created_date   {'9': 4.5, '19': 4.3, '2': 3.9, '26': 3.9, '22...  "
      ]
     },
     "execution_count": 15,
     "metadata": {},
     "output_type": "execute_result"
    }
   ],
   "source": [
    "cat_col_info_df = data.select_dtypes(include=['object', 'bool'])\n",
    "\n",
    "def missing_ratio(s):\n",
    "    return (s.isna().mean() * 100)\n",
    "\n",
    "def num_values(s):\n",
    "    s = s.astype('str').str.split(';')\n",
    "    s = s.explode()\n",
    "    return len(s.value_counts())\n",
    "\n",
    "def value_ratios(s):\n",
    "    s = s.astype('str').str.split(';')\n",
    "    s = s.explode()\n",
    "    totalCount = (~s.isna()).sum()\n",
    "    return ((s.value_counts()/totalCount*100).round(1)).to_dict()\n",
    "\n",
    "cat_col_info_df = cat_col_info_df.agg([missing_ratio, num_values, value_ratios])\n",
    "cat_col_info_df.T"
   ]
  },
  {
   "cell_type": "markdown",
   "metadata": {},
   "source": [
    "Các cột `category`, `Country`, `Abbreviation`, `channel_type`, `created_month` có dữ liệu bị thiếu, vì vậy nhóm em sẽ thay thế giá trị thiếu bằng giá trị Mode của cột đó"
   ]
  },
  {
   "cell_type": "markdown",
   "metadata": {},
   "source": [
    "🚧 Tiền xử lý các cột phân loại"
   ]
  },
  {
   "cell_type": "code",
   "execution_count": 16,
   "metadata": {},
   "outputs": [],
   "source": [
    "cols_list = [ 'category', 'Country', 'Abbreviation','channel_type', 'created_month']\n",
    "for col in cols_list:\n",
    "    data[col] = data[col].fillna(data[col].mode()[0])"
   ]
  },
  {
   "cell_type": "code",
   "execution_count": 17,
   "metadata": {},
   "outputs": [
    {
     "data": {
      "text/html": [
       "<div>\n",
       "<style scoped>\n",
       "    .dataframe tbody tr th:only-of-type {\n",
       "        vertical-align: middle;\n",
       "    }\n",
       "\n",
       "    .dataframe tbody tr th {\n",
       "        vertical-align: top;\n",
       "    }\n",
       "\n",
       "    .dataframe thead th {\n",
       "        text-align: right;\n",
       "    }\n",
       "</style>\n",
       "<table border=\"1\" class=\"dataframe\">\n",
       "  <thead>\n",
       "    <tr style=\"text-align: right;\">\n",
       "      <th></th>\n",
       "      <th>missing_ratio</th>\n",
       "      <th>num_values</th>\n",
       "      <th>value_ratios</th>\n",
       "    </tr>\n",
       "  </thead>\n",
       "  <tbody>\n",
       "    <tr>\n",
       "      <th>Youtuber</th>\n",
       "      <td>0.0</td>\n",
       "      <td>995</td>\n",
       "      <td>{'T-Series': 0.1, 'Hongyu ASMR ï¿½ï¿½': 0.1, '...</td>\n",
       "    </tr>\n",
       "    <tr>\n",
       "      <th>category</th>\n",
       "      <td>0.0</td>\n",
       "      <td>18</td>\n",
       "      <td>{'Entertainment': 28.8, 'Music': 20.3, 'People...</td>\n",
       "    </tr>\n",
       "    <tr>\n",
       "      <th>Country</th>\n",
       "      <td>0.0</td>\n",
       "      <td>49</td>\n",
       "      <td>{'United States': 43.7, 'India': 16.9, 'Brazil...</td>\n",
       "    </tr>\n",
       "    <tr>\n",
       "      <th>Abbreviation</th>\n",
       "      <td>0.0</td>\n",
       "      <td>49</td>\n",
       "      <td>{'US': 43.7, 'IN': 16.9, 'BR': 6.2, 'GB': 4.3,...</td>\n",
       "    </tr>\n",
       "    <tr>\n",
       "      <th>channel_type</th>\n",
       "      <td>0.0</td>\n",
       "      <td>14</td>\n",
       "      <td>{'Entertainment': 33.6, 'Music': 21.7, 'People...</td>\n",
       "    </tr>\n",
       "    <tr>\n",
       "      <th>created_year</th>\n",
       "      <td>0.0</td>\n",
       "      <td>19</td>\n",
       "      <td>{'2014': 9.8, '2006': 9.1, '2011': 8.2, '2013'...</td>\n",
       "    </tr>\n",
       "    <tr>\n",
       "      <th>created_month</th>\n",
       "      <td>0.0</td>\n",
       "      <td>12</td>\n",
       "      <td>{'Jan': 10.7, 'Sep': 9.6, 'Jul': 9.1, 'Nov': 9...</td>\n",
       "    </tr>\n",
       "    <tr>\n",
       "      <th>created_date</th>\n",
       "      <td>0.0</td>\n",
       "      <td>31</td>\n",
       "      <td>{'9': 4.5, '19': 4.3, '2': 3.9, '26': 3.9, '22...</td>\n",
       "    </tr>\n",
       "  </tbody>\n",
       "</table>\n",
       "</div>"
      ],
      "text/plain": [
       "              missing_ratio num_values  \\\n",
       "Youtuber                0.0        995   \n",
       "category                0.0         18   \n",
       "Country                 0.0         49   \n",
       "Abbreviation            0.0         49   \n",
       "channel_type            0.0         14   \n",
       "created_year            0.0         19   \n",
       "created_month           0.0         12   \n",
       "created_date            0.0         31   \n",
       "\n",
       "                                                    value_ratios  \n",
       "Youtuber       {'T-Series': 0.1, 'Hongyu ASMR ï¿½ï¿½': 0.1, '...  \n",
       "category       {'Entertainment': 28.8, 'Music': 20.3, 'People...  \n",
       "Country        {'United States': 43.7, 'India': 16.9, 'Brazil...  \n",
       "Abbreviation   {'US': 43.7, 'IN': 16.9, 'BR': 6.2, 'GB': 4.3,...  \n",
       "channel_type   {'Entertainment': 33.6, 'Music': 21.7, 'People...  \n",
       "created_year   {'2014': 9.8, '2006': 9.1, '2011': 8.2, '2013'...  \n",
       "created_month  {'Jan': 10.7, 'Sep': 9.6, 'Jul': 9.1, 'Nov': 9...  \n",
       "created_date   {'9': 4.5, '19': 4.3, '2': 3.9, '26': 3.9, '22...  "
      ]
     },
     "execution_count": 17,
     "metadata": {},
     "output_type": "execute_result"
    }
   ],
   "source": [
    "# TEST\n",
    "data.select_dtypes(include=['object', 'bool'])\\\n",
    "    .agg([missing_ratio, num_values, value_ratios]).T"
   ]
  },
  {
   "cell_type": "markdown",
   "metadata": {},
   "source": [
    "🚧 Tiền xử lý các cột `Latitude`, `Longitude` "
   ]
  },
  {
   "cell_type": "code",
   "execution_count": 18,
   "metadata": {},
   "outputs": [],
   "source": [
    "countries_with_values = data.dropna(subset=['Latitude', 'Longitude'])[['Country', 'Latitude', 'Longitude']].drop_duplicates()\n",
    "\n",
    "geolocator = Nominatim(user_agent=\"geo_fillna\")\n",
    "\n",
    "for index, row in data.iterrows():\n",
    "    if pd.isna(row['Latitude']) or pd.isna(row['Longitude']):\n",
    "        country = row['Country']\n",
    "        if country in countries_with_values['Country'].values:\n",
    "            lat, lon = countries_with_values.loc[countries_with_values['Country'] == country, ['Latitude', 'Longitude']].values[0]\n",
    "            data.at[index, 'Latitude'] = lat\n",
    "            data.at[index, 'Longitude'] = lon\n",
    "        else:\n",
    "            location = geolocator.geocode(country)\n",
    "            if location:\n",
    "                data.at[index, 'Latitude'] = location.latitude\n",
    "                data.at[index, 'Longitude'] = location.longitude"
   ]
  },
  {
   "cell_type": "code",
   "execution_count": 19,
   "metadata": {},
   "outputs": [
    {
     "data": {
      "text/html": [
       "<div>\n",
       "<style scoped>\n",
       "    .dataframe tbody tr th:only-of-type {\n",
       "        vertical-align: middle;\n",
       "    }\n",
       "\n",
       "    .dataframe tbody tr th {\n",
       "        vertical-align: top;\n",
       "    }\n",
       "\n",
       "    .dataframe thead th {\n",
       "        text-align: right;\n",
       "    }\n",
       "</style>\n",
       "<table border=\"1\" class=\"dataframe\">\n",
       "  <thead>\n",
       "    <tr style=\"text-align: right;\">\n",
       "      <th></th>\n",
       "      <th>missing_ratio</th>\n",
       "      <th>min</th>\n",
       "      <th>lower_quartile</th>\n",
       "      <th>median</th>\n",
       "      <th>upper_quartile</th>\n",
       "      <th>max</th>\n",
       "    </tr>\n",
       "  </thead>\n",
       "  <tbody>\n",
       "    <tr>\n",
       "      <th>subscribers</th>\n",
       "      <td>0.0</td>\n",
       "      <td>1.230000e+07</td>\n",
       "      <td>1.450000e+07</td>\n",
       "      <td>1.770000e+07</td>\n",
       "      <td>2.460000e+07</td>\n",
       "      <td>2.450000e+08</td>\n",
       "    </tr>\n",
       "    <tr>\n",
       "      <th>video views</th>\n",
       "      <td>0.0</td>\n",
       "      <td>0.000000e+00</td>\n",
       "      <td>4.288145e+09</td>\n",
       "      <td>7.760820e+09</td>\n",
       "      <td>1.355470e+10</td>\n",
       "      <td>2.280000e+11</td>\n",
       "    </tr>\n",
       "    <tr>\n",
       "      <th>uploads</th>\n",
       "      <td>0.0</td>\n",
       "      <td>0.000000e+00</td>\n",
       "      <td>1.945000e+02</td>\n",
       "      <td>7.290000e+02</td>\n",
       "      <td>2.667500e+03</td>\n",
       "      <td>3.013080e+05</td>\n",
       "    </tr>\n",
       "    <tr>\n",
       "      <th>video_views_rank</th>\n",
       "      <td>0.0</td>\n",
       "      <td>1.000000e+00</td>\n",
       "      <td>3.240000e+02</td>\n",
       "      <td>9.160000e+02</td>\n",
       "      <td>3.579000e+03</td>\n",
       "      <td>4.057944e+06</td>\n",
       "    </tr>\n",
       "    <tr>\n",
       "      <th>country_rank</th>\n",
       "      <td>0.0</td>\n",
       "      <td>1.000000e+00</td>\n",
       "      <td>1.400000e+01</td>\n",
       "      <td>5.100000e+01</td>\n",
       "      <td>1.140000e+02</td>\n",
       "      <td>7.741000e+03</td>\n",
       "    </tr>\n",
       "    <tr>\n",
       "      <th>channel_type_rank</th>\n",
       "      <td>0.0</td>\n",
       "      <td>1.000000e+00</td>\n",
       "      <td>2.800000e+01</td>\n",
       "      <td>6.600000e+01</td>\n",
       "      <td>1.370000e+02</td>\n",
       "      <td>7.741000e+03</td>\n",
       "    </tr>\n",
       "    <tr>\n",
       "      <th>video_views_for_the_last_30_days</th>\n",
       "      <td>0.0</td>\n",
       "      <td>1.000000e+00</td>\n",
       "      <td>2.232300e+07</td>\n",
       "      <td>6.408500e+07</td>\n",
       "      <td>1.585655e+08</td>\n",
       "      <td>6.589000e+09</td>\n",
       "    </tr>\n",
       "    <tr>\n",
       "      <th>lowest_monthly_earnings</th>\n",
       "      <td>0.0</td>\n",
       "      <td>0.000000e+00</td>\n",
       "      <td>2.700000e+03</td>\n",
       "      <td>1.330000e+04</td>\n",
       "      <td>3.790000e+04</td>\n",
       "      <td>8.509000e+05</td>\n",
       "    </tr>\n",
       "    <tr>\n",
       "      <th>highest_monthly_earnings</th>\n",
       "      <td>0.0</td>\n",
       "      <td>0.000000e+00</td>\n",
       "      <td>4.350000e+04</td>\n",
       "      <td>2.127000e+05</td>\n",
       "      <td>6.068000e+05</td>\n",
       "      <td>1.360000e+07</td>\n",
       "    </tr>\n",
       "    <tr>\n",
       "      <th>lowest_yearly_earnings</th>\n",
       "      <td>0.0</td>\n",
       "      <td>0.000000e+00</td>\n",
       "      <td>3.265000e+04</td>\n",
       "      <td>1.595000e+05</td>\n",
       "      <td>4.551000e+05</td>\n",
       "      <td>1.020000e+07</td>\n",
       "    </tr>\n",
       "    <tr>\n",
       "      <th>highest_yearly_earnings</th>\n",
       "      <td>0.0</td>\n",
       "      <td>0.000000e+00</td>\n",
       "      <td>5.217500e+05</td>\n",
       "      <td>2.600000e+06</td>\n",
       "      <td>7.300000e+06</td>\n",
       "      <td>1.634000e+08</td>\n",
       "    </tr>\n",
       "    <tr>\n",
       "      <th>Population</th>\n",
       "      <td>0.0</td>\n",
       "      <td>2.025060e+05</td>\n",
       "      <td>1.260140e+08</td>\n",
       "      <td>3.282395e+08</td>\n",
       "      <td>3.282395e+08</td>\n",
       "      <td>1.397715e+09</td>\n",
       "    </tr>\n",
       "    <tr>\n",
       "      <th>Latitude</th>\n",
       "      <td>0.0</td>\n",
       "      <td>-3.841610e+01</td>\n",
       "      <td>2.059368e+01</td>\n",
       "      <td>3.709024e+01</td>\n",
       "      <td>3.709024e+01</td>\n",
       "      <td>6.192411e+01</td>\n",
       "    </tr>\n",
       "    <tr>\n",
       "      <th>Longitude</th>\n",
       "      <td>0.0</td>\n",
       "      <td>-1.721046e+02</td>\n",
       "      <td>-9.571289e+01</td>\n",
       "      <td>-7.429733e+01</td>\n",
       "      <td>7.896288e+01</td>\n",
       "      <td>1.382529e+02</td>\n",
       "    </tr>\n",
       "  </tbody>\n",
       "</table>\n",
       "</div>"
      ],
      "text/plain": [
       "                                  missing_ratio           min  lower_quartile  \\\n",
       "subscribers                                 0.0  1.230000e+07    1.450000e+07   \n",
       "video views                                 0.0  0.000000e+00    4.288145e+09   \n",
       "uploads                                     0.0  0.000000e+00    1.945000e+02   \n",
       "video_views_rank                            0.0  1.000000e+00    3.240000e+02   \n",
       "country_rank                                0.0  1.000000e+00    1.400000e+01   \n",
       "channel_type_rank                           0.0  1.000000e+00    2.800000e+01   \n",
       "video_views_for_the_last_30_days            0.0  1.000000e+00    2.232300e+07   \n",
       "lowest_monthly_earnings                     0.0  0.000000e+00    2.700000e+03   \n",
       "highest_monthly_earnings                    0.0  0.000000e+00    4.350000e+04   \n",
       "lowest_yearly_earnings                      0.0  0.000000e+00    3.265000e+04   \n",
       "highest_yearly_earnings                     0.0  0.000000e+00    5.217500e+05   \n",
       "Population                                  0.0  2.025060e+05    1.260140e+08   \n",
       "Latitude                                    0.0 -3.841610e+01    2.059368e+01   \n",
       "Longitude                                   0.0 -1.721046e+02   -9.571289e+01   \n",
       "\n",
       "                                        median  upper_quartile           max  \n",
       "subscribers                       1.770000e+07    2.460000e+07  2.450000e+08  \n",
       "video views                       7.760820e+09    1.355470e+10  2.280000e+11  \n",
       "uploads                           7.290000e+02    2.667500e+03  3.013080e+05  \n",
       "video_views_rank                  9.160000e+02    3.579000e+03  4.057944e+06  \n",
       "country_rank                      5.100000e+01    1.140000e+02  7.741000e+03  \n",
       "channel_type_rank                 6.600000e+01    1.370000e+02  7.741000e+03  \n",
       "video_views_for_the_last_30_days  6.408500e+07    1.585655e+08  6.589000e+09  \n",
       "lowest_monthly_earnings           1.330000e+04    3.790000e+04  8.509000e+05  \n",
       "highest_monthly_earnings          2.127000e+05    6.068000e+05  1.360000e+07  \n",
       "lowest_yearly_earnings            1.595000e+05    4.551000e+05  1.020000e+07  \n",
       "highest_yearly_earnings           2.600000e+06    7.300000e+06  1.634000e+08  \n",
       "Population                        3.282395e+08    3.282395e+08  1.397715e+09  \n",
       "Latitude                          3.709024e+01    3.709024e+01  6.192411e+01  \n",
       "Longitude                        -7.429733e+01    7.896288e+01  1.382529e+02  "
      ]
     },
     "execution_count": 19,
     "metadata": {},
     "output_type": "execute_result"
    }
   ],
   "source": [
    "# TEST\n",
    "data.select_dtypes(exclude=['object', 'bool'])\\\n",
    "    .agg([missing_ratio, \"min\", lower_quartile, median, upper_quartile, \"max\"]).T"
   ]
  },
  {
   "cell_type": "code",
   "execution_count": 20,
   "metadata": {},
   "outputs": [
    {
     "name": "stdout",
     "output_type": "stream",
     "text": [
      "<class 'pandas.core.frame.DataFrame'>\n",
      "RangeIndex: 995 entries, 0 to 994\n",
      "Data columns (total 22 columns):\n",
      " #   Column                            Non-Null Count  Dtype  \n",
      "---  ------                            --------------  -----  \n",
      " 0   Youtuber                          995 non-null    object \n",
      " 1   subscribers                       995 non-null    int64  \n",
      " 2   video views                       995 non-null    int64  \n",
      " 3   category                          995 non-null    object \n",
      " 4   uploads                           995 non-null    int64  \n",
      " 5   Country                           995 non-null    object \n",
      " 6   Abbreviation                      995 non-null    object \n",
      " 7   channel_type                      995 non-null    object \n",
      " 8   video_views_rank                  995 non-null    int64  \n",
      " 9   country_rank                      995 non-null    int64  \n",
      " 10  channel_type_rank                 995 non-null    int64  \n",
      " 11  video_views_for_the_last_30_days  995 non-null    int64  \n",
      " 12  lowest_monthly_earnings           995 non-null    float64\n",
      " 13  highest_monthly_earnings          995 non-null    float64\n",
      " 14  lowest_yearly_earnings            995 non-null    float64\n",
      " 15  highest_yearly_earnings           995 non-null    float64\n",
      " 16  created_year                      995 non-null    object \n",
      " 17  created_month                     995 non-null    object \n",
      " 18  created_date                      995 non-null    object \n",
      " 19  Population                        995 non-null    int64  \n",
      " 20  Latitude                          995 non-null    float64\n",
      " 21  Longitude                         995 non-null    float64\n",
      "dtypes: float64(6), int64(8), object(8)\n",
      "memory usage: 171.1+ KB\n"
     ]
    }
   ],
   "source": [
    "data.info()"
   ]
  },
  {
   "cell_type": "code",
   "execution_count": 21,
   "metadata": {},
   "outputs": [
    {
     "data": {
      "text/html": [
       "<div>\n",
       "<style scoped>\n",
       "    .dataframe tbody tr th:only-of-type {\n",
       "        vertical-align: middle;\n",
       "    }\n",
       "\n",
       "    .dataframe tbody tr th {\n",
       "        vertical-align: top;\n",
       "    }\n",
       "\n",
       "    .dataframe thead th {\n",
       "        text-align: right;\n",
       "    }\n",
       "</style>\n",
       "<table border=\"1\" class=\"dataframe\">\n",
       "  <thead>\n",
       "    <tr style=\"text-align: right;\">\n",
       "      <th></th>\n",
       "      <th>Youtuber</th>\n",
       "      <th>subscribers</th>\n",
       "      <th>video views</th>\n",
       "      <th>category</th>\n",
       "      <th>uploads</th>\n",
       "      <th>Country</th>\n",
       "      <th>Abbreviation</th>\n",
       "      <th>channel_type</th>\n",
       "      <th>video_views_rank</th>\n",
       "      <th>country_rank</th>\n",
       "      <th>...</th>\n",
       "      <th>lowest_monthly_earnings</th>\n",
       "      <th>highest_monthly_earnings</th>\n",
       "      <th>lowest_yearly_earnings</th>\n",
       "      <th>highest_yearly_earnings</th>\n",
       "      <th>created_year</th>\n",
       "      <th>created_month</th>\n",
       "      <th>created_date</th>\n",
       "      <th>Population</th>\n",
       "      <th>Latitude</th>\n",
       "      <th>Longitude</th>\n",
       "    </tr>\n",
       "  </thead>\n",
       "  <tbody>\n",
       "    <tr>\n",
       "      <th>484</th>\n",
       "      <td>David Dobrik</td>\n",
       "      <td>17900000</td>\n",
       "      <td>7176572299</td>\n",
       "      <td>People &amp; Blogs</td>\n",
       "      <td>536</td>\n",
       "      <td>United States</td>\n",
       "      <td>US</td>\n",
       "      <td>People</td>\n",
       "      <td>801</td>\n",
       "      <td>125</td>\n",
       "      <td>...</td>\n",
       "      <td>2200.0</td>\n",
       "      <td>34600.0</td>\n",
       "      <td>26000.0</td>\n",
       "      <td>415200.0</td>\n",
       "      <td>2014</td>\n",
       "      <td>Dec</td>\n",
       "      <td>19</td>\n",
       "      <td>328239523</td>\n",
       "      <td>37.090240</td>\n",
       "      <td>-95.712891</td>\n",
       "    </tr>\n",
       "    <tr>\n",
       "      <th>754</th>\n",
       "      <td>Drawblogs</td>\n",
       "      <td>14400000</td>\n",
       "      <td>1629801448</td>\n",
       "      <td>Entertainment</td>\n",
       "      <td>399</td>\n",
       "      <td>Peru</td>\n",
       "      <td>PE</td>\n",
       "      <td>Entertainment</td>\n",
       "      <td>6402</td>\n",
       "      <td>1</td>\n",
       "      <td>...</td>\n",
       "      <td>251.0</td>\n",
       "      <td>4000.0</td>\n",
       "      <td>3000.0</td>\n",
       "      <td>48100.0</td>\n",
       "      <td>2014</td>\n",
       "      <td>May</td>\n",
       "      <td>20</td>\n",
       "      <td>32510453</td>\n",
       "      <td>-9.189967</td>\n",
       "      <td>-75.015152</td>\n",
       "    </tr>\n",
       "    <tr>\n",
       "      <th>443</th>\n",
       "      <td>Sidemen</td>\n",
       "      <td>18800000</td>\n",
       "      <td>5257834105</td>\n",
       "      <td>Entertainment</td>\n",
       "      <td>312</td>\n",
       "      <td>United Kingdom</td>\n",
       "      <td>GB</td>\n",
       "      <td>Entertainment</td>\n",
       "      <td>1263</td>\n",
       "      <td>19</td>\n",
       "      <td>...</td>\n",
       "      <td>19500.0</td>\n",
       "      <td>312600.0</td>\n",
       "      <td>234500.0</td>\n",
       "      <td>3800000.0</td>\n",
       "      <td>2015</td>\n",
       "      <td>Jun</td>\n",
       "      <td>14</td>\n",
       "      <td>66834405</td>\n",
       "      <td>55.378051</td>\n",
       "      <td>-3.435973</td>\n",
       "    </tr>\n",
       "    <tr>\n",
       "      <th>491</th>\n",
       "      <td>MGC Playhouse</td>\n",
       "      <td>17900000</td>\n",
       "      <td>16174530046</td>\n",
       "      <td>Shows</td>\n",
       "      <td>1426</td>\n",
       "      <td>United States</td>\n",
       "      <td>US</td>\n",
       "      <td>Education</td>\n",
       "      <td>187</td>\n",
       "      <td>125</td>\n",
       "      <td>...</td>\n",
       "      <td>25700.0</td>\n",
       "      <td>410500.0</td>\n",
       "      <td>307900.0</td>\n",
       "      <td>4900000.0</td>\n",
       "      <td>2009</td>\n",
       "      <td>Feb</td>\n",
       "      <td>3</td>\n",
       "      <td>328239523</td>\n",
       "      <td>37.090240</td>\n",
       "      <td>-95.712891</td>\n",
       "    </tr>\n",
       "    <tr>\n",
       "      <th>227</th>\n",
       "      <td>TaylorSwiftVEVO</td>\n",
       "      <td>25600000</td>\n",
       "      <td>25592378292</td>\n",
       "      <td>Music</td>\n",
       "      <td>287</td>\n",
       "      <td>United States</td>\n",
       "      <td>US</td>\n",
       "      <td>Music</td>\n",
       "      <td>67</td>\n",
       "      <td>68</td>\n",
       "      <td>...</td>\n",
       "      <td>79600.0</td>\n",
       "      <td>1300000.0</td>\n",
       "      <td>955800.0</td>\n",
       "      <td>15300000.0</td>\n",
       "      <td>2009</td>\n",
       "      <td>May</td>\n",
       "      <td>12</td>\n",
       "      <td>328239523</td>\n",
       "      <td>37.090240</td>\n",
       "      <td>-95.712891</td>\n",
       "    </tr>\n",
       "  </tbody>\n",
       "</table>\n",
       "<p>5 rows × 22 columns</p>\n",
       "</div>"
      ],
      "text/plain": [
       "            Youtuber  subscribers  video views        category  uploads  \\\n",
       "484     David Dobrik     17900000   7176572299  People & Blogs      536   \n",
       "754        Drawblogs     14400000   1629801448   Entertainment      399   \n",
       "443          Sidemen     18800000   5257834105   Entertainment      312   \n",
       "491    MGC Playhouse     17900000  16174530046           Shows     1426   \n",
       "227  TaylorSwiftVEVO     25600000  25592378292           Music      287   \n",
       "\n",
       "            Country Abbreviation   channel_type  video_views_rank  \\\n",
       "484   United States           US         People               801   \n",
       "754            Peru           PE  Entertainment              6402   \n",
       "443  United Kingdom           GB  Entertainment              1263   \n",
       "491   United States           US      Education               187   \n",
       "227   United States           US          Music                67   \n",
       "\n",
       "     country_rank  ...  lowest_monthly_earnings  highest_monthly_earnings  \\\n",
       "484           125  ...                   2200.0                   34600.0   \n",
       "754             1  ...                    251.0                    4000.0   \n",
       "443            19  ...                  19500.0                  312600.0   \n",
       "491           125  ...                  25700.0                  410500.0   \n",
       "227            68  ...                  79600.0                 1300000.0   \n",
       "\n",
       "     lowest_yearly_earnings  highest_yearly_earnings  created_year  \\\n",
       "484                 26000.0                 415200.0          2014   \n",
       "754                  3000.0                  48100.0          2014   \n",
       "443                234500.0                3800000.0          2015   \n",
       "491                307900.0                4900000.0          2009   \n",
       "227                955800.0               15300000.0          2009   \n",
       "\n",
       "     created_month created_date Population   Latitude  Longitude  \n",
       "484            Dec           19  328239523  37.090240 -95.712891  \n",
       "754            May           20   32510453  -9.189967 -75.015152  \n",
       "443            Jun           14   66834405  55.378051  -3.435973  \n",
       "491            Feb            3  328239523  37.090240 -95.712891  \n",
       "227            May           12  328239523  37.090240 -95.712891  \n",
       "\n",
       "[5 rows x 22 columns]"
      ]
     },
     "execution_count": 21,
     "metadata": {},
     "output_type": "execute_result"
    }
   ],
   "source": [
    "data.sample(5)"
   ]
  },
  {
   "cell_type": "markdown",
   "metadata": {},
   "source": [
    "### **3. Đặt câu hỏi có ý nghĩa**"
   ]
  },
  {
   "cell_type": "markdown",
   "metadata": {},
   "source": [
    "### **4. Tiền xử lý + phân tích dữ liệu để trả lời từng câu hỏi**"
   ]
  },
  {
   "cell_type": "code",
   "execution_count": 22,
   "metadata": {},
   "outputs": [],
   "source": [
    "# data.to_csv(\"data_processed.csv\", index=False)"
   ]
  },
  {
   "cell_type": "markdown",
   "metadata": {},
   "source": [
    "#### 📚 Câu 1: "
   ]
  },
  {
   "cell_type": "markdown",
   "metadata": {},
   "source": [
    "Step 1:"
   ]
  },
  {
   "cell_type": "code",
   "execution_count": 23,
   "metadata": {},
   "outputs": [
    {
     "name": "stderr",
     "output_type": "stream",
     "text": [
      "C:\\Users\\Admin\\AppData\\Local\\Temp\\ipykernel_10204\\3060956862.py:6: FutureWarning: \n",
      "\n",
      "The `ci` parameter is deprecated. Use `errorbar=('ci', False)` for the same effect.\n",
      "\n",
      "  sns.barplot(data=top_countries,\n"
     ]
    },
    {
     "data": {
      "image/png": "[encoded data removed]",
      "text/plain": [
       "<Figure size 1600x900 with 1 Axes>"
      ]
     },
     "metadata": {},
     "output_type": "display_data"
    }
   ],
   "source": [
    "plt.figure(figsize=(16, 9))\n",
    "\n",
    "# Groupby và tính tổng lượt xem cho từng quốc gia, sắp xếp theo giảm dần, và giới hạn chỉ lấy 10 dòng đầu tiên\n",
    "top_countries = data.groupby(['Country'])['video views'].sum().sort_values(ascending=False).head(10).reset_index()\n",
    "\n",
    "sns.barplot(data=top_countries,\n",
    "            x='Country', y='video views',\n",
    "            ci=False, color=sns.xkcd_rgb['bluish'])\n",
    "\n",
    "plt.title('Top 10 Quốc gia theo Tổng lượt xem')\n",
    "plt.xlabel('Quốc gia')\n",
    "plt.ylabel('Tổng lượt xem')\n",
    "plt.show()"
   ]
  },
  {
   "cell_type": "code",
   "execution_count": 24,
   "metadata": {},
   "outputs": [
    {
     "data": {
      "image/png": "[encoded data removed]",
      "text/plain": [
       "<Figure size 1600x1800 with 5 Axes>"
      ]
     },
     "metadata": {},
     "output_type": "display_data"
    }
   ],
   "source": [
    "top_countries = data.groupby(['Country'])['video views'].sum().sort_values(ascending=False).head(5).index\n",
    "\n",
    "# Vẽ 5 biểu đồ tương ứng với 5 quốc gia\n",
    "plt.figure(figsize=(16, 18))\n",
    "\n",
    "for i, country in enumerate(top_countries,1):\n",
    "    # Lọc dữ liệu cho từng quốc gia\n",
    "    country_data = data[data['Country'] == country]\n",
    "    \n",
    "    # Lấy thể loại được xem nhiều nhất ở quốc gia đó\n",
    "    top_category = country_data.groupby(['category'])['video views'].sum().idxmax()\n",
    "    \n",
    "    # Vẽ biểu đồ\n",
    "    plt.subplot(3, 2, i)\n",
    "    sns.barplot(data=country_data,\n",
    "                x='category', y='video views',\n",
    "                color=sns.xkcd_rgb['bluish'])\n",
    "    plt.title(f'Top Category in {country}')\n",
    "    plt.xlabel('Category')\n",
    "    plt.ylabel('Total Views')\n",
    "\n",
    "plt.tight_layout()\n",
    "plt.show()"
   ]
  },
  {
   "cell_type": "markdown",
   "metadata": {},
   "source": [
    "#### 📚 Câu 2: "
   ]
  },
  {
   "cell_type": "markdown",
   "metadata": {},
   "source": [
    "Step 1:"
   ]
  },
  {
   "cell_type": "code",
   "execution_count": 25,
   "metadata": {},
   "outputs": [],
   "source": [
    "countries_languages = {}\n",
    "\n",
    "for ab in data['Abbreviation'].unique():\n",
    "    country_identifier = 'und_'+ab\n",
    "    country_language = Locale.parse(country_identifier).language\n",
    "    countries_languages[ab] = country_language\n",
    "    \n",
    "    \n",
    "data['country language'] = data['Abbreviation'].replace(countries_languages)"
   ]
  },
  {
   "cell_type": "markdown",
   "metadata": {},
   "source": [
    "Step 2:"
   ]
  },
  {
   "cell_type": "code",
   "execution_count": 26,
   "metadata": {},
   "outputs": [],
   "source": [
    "views_per_language = data.groupby(['country language'])['video views'].sum().sort_values(ascending = False).reset_index()\n",
    "views_per_language['percentage'] = views_per_language['video views']/views_per_language['video views'].sum()"
   ]
  },
  {
   "cell_type": "markdown",
   "metadata": {},
   "source": [
    "Step 3:"
   ]
  },
  {
   "cell_type": "code",
   "execution_count": 27,
   "metadata": {},
   "outputs": [
    {
     "data": {
      "image/png": "[encoded data removed]",
      "text/plain": [
       "<Figure size 1600x900 with 1 Axes>"
      ]
     },
     "metadata": {},
     "output_type": "display_data"
    }
   ],
   "source": [
    "plt.figure(figsize = (16,9))\n",
    "\n",
    "top_languages = data.groupby(['country language'])['video views'].sum().sort_values(ascending=False).head(10).reset_index()\n",
    "\n",
    "sns.barplot(data=top_languages,x='country language', y='video views', color=sns.xkcd_rgb['bluish'])\n",
    "\n",
    "\n",
    "plt.show();"
   ]
  },
  {
   "cell_type": "markdown",
   "metadata": {},
   "source": [
    "#### 📚 Câu 3: "
   ]
  },
  {
   "cell_type": "markdown",
   "metadata": {},
   "source": [
    "Step 1:"
   ]
  },
  {
   "cell_type": "code",
   "execution_count": 28,
   "metadata": {},
   "outputs": [],
   "source": [
    "data['mean earnings'] = (data['highest_monthly_earnings']+data['lowest_monthly_earnings'])/2"
   ]
  },
  {
   "cell_type": "markdown",
   "metadata": {},
   "source": [
    "Step 2:"
   ]
  },
  {
   "cell_type": "code",
   "execution_count": 29,
   "metadata": {},
   "outputs": [],
   "source": [
    "earnings_per_cat = data.groupby(['category'])['mean earnings'].sum().reset_index().sort_values('mean earnings', ascending = False)"
   ]
  },
  {
   "cell_type": "markdown",
   "metadata": {},
   "source": [
    "Step 3:"
   ]
  },
  {
   "cell_type": "code",
   "execution_count": 30,
   "metadata": {
    "scrolled": true
   },
   "outputs": [
    {
     "name": "stderr",
     "output_type": "stream",
     "text": [
      "C:\\Users\\Admin\\AppData\\Local\\Temp\\ipykernel_10204\\4000831241.py:2: FutureWarning: \n",
      "\n",
      "Passing `palette` without assigning `hue` is deprecated and will be removed in v0.14.0. Assign the `y` variable to `hue` and set `legend=False` for the same effect.\n",
      "\n",
      "  sns.barplot(data=earnings_per_cat, x='mean earnings', y='category', palette='viridis')\n"
     ]
    },
    {
     "data": {
      "image/png": "[encoded data removed]",
      "text/plain": [
       "<Figure size 1600x900 with 1 Axes>"
      ]
     },
     "metadata": {},
     "output_type": "display_data"
    }
   ],
   "source": [
    "plt.figure(figsize=(16, 9))\n",
    "sns.barplot(data=earnings_per_cat, x='mean earnings', y='category', palette='viridis')\n",
    "plt.title('Tổng Thu nhập Trung bình hàng tháng cho Mỗi Thể loại')\n",
    "plt.xlabel('Tổng Thu nhập Trung bình hàng tháng')\n",
    "plt.ylabel('Thể loại')\n",
    "plt.show()"
   ]
  },
  {
   "attachments": {},
   "cell_type": "markdown",
   "metadata": {},
   "source": [
    "#### 📚 Câu 4: "
   ]
  },
  {
   "cell_type": "markdown",
   "metadata": {},
   "source": [
    "Tiền xử lý"
   ]
  },
  {
   "cell_type": "markdown",
   "metadata": {},
   "source": [
    "* Chuyển cột `created_year` thành kiểu integer để thực hiện tính toán\n",
    "* Cột `created_month` dưới dạng viết tắt 3 chữ cái đầu mỗi tháng cũng sẽ được chuyển về số để thực hiện tính toán, sử dụng `map` để tiến hành"
   ]
  },
  {
   "cell_type": "code",
   "execution_count": 31,
   "metadata": {},
   "outputs": [],
   "source": [
    "data['created_year'] = data['created_year'].astype(int)\n",
    "convert_month = {'Jan': 1, 'Feb': 2, 'Mar': 3, 'Apr': 4, 'May': 5, 'Jun': 6, 'Jul': 7, 'Aug': 8, 'Sep': 9, 'Oct': 10, 'Nov': 11, 'Dec': 12}\n",
    "month = data['created_month'].map(convert_month)"
   ]
  },
  {
   "cell_type": "markdown",
   "metadata": {},
   "source": [
    "Bước 1: Tính lượt xem trung bình các tháng và so sánh"
   ]
  },
  {
   "cell_type": "markdown",
   "metadata": {},
   "source": [
    "* Tính số tháng từ khi thành lập đến năm 2023\n",
    "* Tính lượt view trung bình của mỗi kênh youtube và lượng view chênh lệch với tháng gần nhất"
   ]
  },
  {
   "cell_type": "code",
   "execution_count": 32,
   "metadata": {},
   "outputs": [],
   "source": [
    "number_of_months = (2023 - data['created_year']) * 12 + ( 12 - month )\n",
    "average_monthly_views = data['video views'] / number_of_months\n",
    "difference = data['video_views_for_the_last_30_days'] - average_monthly_views"
   ]
  },
  {
   "cell_type": "code",
   "execution_count": 33,
   "metadata": {
    "scrolled": true
   },
   "outputs": [
    {
     "data": {
      "text/html": [
       "<div>\n",
       "<style scoped>\n",
       "    .dataframe tbody tr th:only-of-type {\n",
       "        vertical-align: middle;\n",
       "    }\n",
       "\n",
       "    .dataframe tbody tr th {\n",
       "        vertical-align: top;\n",
       "    }\n",
       "\n",
       "    .dataframe thead th {\n",
       "        text-align: right;\n",
       "    }\n",
       "</style>\n",
       "<table border=\"1\" class=\"dataframe\">\n",
       "  <thead>\n",
       "    <tr style=\"text-align: right;\">\n",
       "      <th></th>\n",
       "      <th>0</th>\n",
       "    </tr>\n",
       "  </thead>\n",
       "  <tbody>\n",
       "    <tr>\n",
       "      <th>0</th>\n",
       "      <td>1.187577e+09</td>\n",
       "    </tr>\n",
       "    <tr>\n",
       "      <th>1</th>\n",
       "      <td>1.200000e+01</td>\n",
       "    </tr>\n",
       "    <tr>\n",
       "      <th>2</th>\n",
       "      <td>1.148219e+09</td>\n",
       "    </tr>\n",
       "    <tr>\n",
       "      <th>3</th>\n",
       "      <td>1.182729e+09</td>\n",
       "    </tr>\n",
       "    <tr>\n",
       "      <th>4</th>\n",
       "      <td>1.109024e+09</td>\n",
       "    </tr>\n",
       "    <tr>\n",
       "      <th>...</th>\n",
       "      <td>...</td>\n",
       "    </tr>\n",
       "    <tr>\n",
       "      <th>990</th>\n",
       "      <td>4.423958e+08</td>\n",
       "    </tr>\n",
       "    <tr>\n",
       "      <th>991</th>\n",
       "      <td>3.815706e+07</td>\n",
       "    </tr>\n",
       "    <tr>\n",
       "      <th>992</th>\n",
       "      <td>-1.063192e+07</td>\n",
       "    </tr>\n",
       "    <tr>\n",
       "      <th>993</th>\n",
       "      <td>1.179464e+06</td>\n",
       "    </tr>\n",
       "    <tr>\n",
       "      <th>994</th>\n",
       "      <td>-4.023338e+06</td>\n",
       "    </tr>\n",
       "  </tbody>\n",
       "</table>\n",
       "<p>995 rows × 1 columns</p>\n",
       "</div>"
      ],
      "text/plain": [
       "                0\n",
       "0    1.187577e+09\n",
       "1    1.200000e+01\n",
       "2    1.148219e+09\n",
       "3    1.182729e+09\n",
       "4    1.109024e+09\n",
       "..            ...\n",
       "990  4.423958e+08\n",
       "991  3.815706e+07\n",
       "992 -1.063192e+07\n",
       "993  1.179464e+06\n",
       "994 -4.023338e+06\n",
       "\n",
       "[995 rows x 1 columns]"
      ]
     },
     "execution_count": 33,
     "metadata": {},
     "output_type": "execute_result"
    }
   ],
   "source": [
    "pd.DataFrame(difference)"
   ]
  },
  {
   "cell_type": "markdown",
   "metadata": {},
   "source": [
    "Bước 2: Sắp xếp theo thứ tự và thay đổi index"
   ]
  },
  {
   "cell_type": "code",
   "execution_count": 45,
   "metadata": {},
   "outputs": [],
   "source": [
    "difference.index = data['Youtuber']\n",
    "channel = difference.sort_values()"
   ]
  },
  {
   "cell_type": "code",
   "execution_count": 46,
   "metadata": {},
   "outputs": [
    {
     "data": {
      "text/html": [
       "<div>\n",
       "<style scoped>\n",
       "    .dataframe tbody tr th:only-of-type {\n",
       "        vertical-align: middle;\n",
       "    }\n",
       "\n",
       "    .dataframe tbody tr th {\n",
       "        vertical-align: top;\n",
       "    }\n",
       "\n",
       "    .dataframe thead th {\n",
       "        text-align: right;\n",
       "    }\n",
       "</style>\n",
       "<table border=\"1\" class=\"dataframe\">\n",
       "  <thead>\n",
       "    <tr style=\"text-align: right;\">\n",
       "      <th></th>\n",
       "      <th>0</th>\n",
       "    </tr>\n",
       "    <tr>\n",
       "      <th>Youtuber</th>\n",
       "      <th></th>\n",
       "    </tr>\n",
       "  </thead>\n",
       "  <tbody>\n",
       "    <tr>\n",
       "      <th>Like Nastya</th>\n",
       "      <td>-9.034642e+08</td>\n",
       "    </tr>\n",
       "    <tr>\n",
       "      <th>Toys and Colors</th>\n",
       "      <td>-7.121978e+08</td>\n",
       "    </tr>\n",
       "    <tr>\n",
       "      <th>LUCCAS NETO - LUCCAS TOON</th>\n",
       "      <td>-6.758348e+08</td>\n",
       "    </tr>\n",
       "    <tr>\n",
       "      <th>5-Minute Crafts</th>\n",
       "      <td>-6.399217e+08</td>\n",
       "    </tr>\n",
       "    <tr>\n",
       "      <th>Shorts Break</th>\n",
       "      <td>-5.561174e+08</td>\n",
       "    </tr>\n",
       "    <tr>\n",
       "      <th>...</th>\n",
       "      <td>...</td>\n",
       "    </tr>\n",
       "    <tr>\n",
       "      <th>DaFuq!?Boom!</th>\n",
       "      <td>2.216154e+09</td>\n",
       "    </tr>\n",
       "    <tr>\n",
       "      <th>Calon Sarjana</th>\n",
       "      <td>2.291888e+09</td>\n",
       "    </tr>\n",
       "    <tr>\n",
       "      <th>ýýýýýýýýý KIMPRO</th>\n",
       "      <td>3.140894e+09</td>\n",
       "    </tr>\n",
       "    <tr>\n",
       "      <th>Dan-Sa / Daniel Saboya</th>\n",
       "      <td>6.133087e+09</td>\n",
       "    </tr>\n",
       "    <tr>\n",
       "      <th>Happy Lives</th>\n",
       "      <td>6.589000e+09</td>\n",
       "    </tr>\n",
       "  </tbody>\n",
       "</table>\n",
       "<p>995 rows × 1 columns</p>\n",
       "</div>"
      ],
      "text/plain": [
       "                                      0\n",
       "Youtuber                               \n",
       "Like Nastya               -9.034642e+08\n",
       "Toys and Colors           -7.121978e+08\n",
       "LUCCAS NETO - LUCCAS TOON -6.758348e+08\n",
       "5-Minute Crafts           -6.399217e+08\n",
       "Shorts Break              -5.561174e+08\n",
       "...                                 ...\n",
       "DaFuq!?Boom!               2.216154e+09\n",
       "Calon Sarjana              2.291888e+09\n",
       "ýýýýýýýýý KIMPRO           3.140894e+09\n",
       "Dan-Sa / Daniel Saboya     6.133087e+09\n",
       "Happy Lives                6.589000e+09\n",
       "\n",
       "[995 rows x 1 columns]"
      ]
     },
     "execution_count": 46,
     "metadata": {},
     "output_type": "execute_result"
    }
   ],
   "source": [
    "pd.DataFrame(channel)"
   ]
  },
  {
   "cell_type": "markdown",
   "metadata": {},
   "source": [
    "Bước 3: Trực quan hóa bằng biểu đồ"
   ]
  },
  {
   "cell_type": "code",
   "execution_count": 78,
   "metadata": {
    "scrolled": true
   },
   "outputs": [
    {
     "data": {
      "image/png": "[encoded data removed]",
      "text/plain": [
       "<Figure size 1500x1000 with 1 Axes>"
      ]
     },
     "metadata": {},
     "output_type": "display_data"
    }
   ],
   "source": [
    "plt.figure(figsize=(15,10))\n",
    "\n",
    "cmap = plt.cm.get_cmap('plasma')\n",
    "colors = cmap(np.linspace(0, 1, len(category)))\n",
    "\n",
    "plt.barh(channel.index[-30:], channel[-30:], color=colors)\n",
    "plt.xlabel('Số lượt view')\n",
    "plt.ylabel('Kênh Youtube')\n",
    "plt.title('Top 30 kênh có sự tăng lượt xem nhiều nhất giữa tháng gần nhất và trung bình các tháng từ khi thành lập kênh');"
   ]
  },
  {
   "cell_type": "markdown",
   "metadata": {},
   "source": [
    "Nhận xét:\n",
    "* Sự phát triển lượt xem của các kênh trong tháng vừa qua có sự phân hóa rõ\n",
    "* 2 kênh đứng đầu có sự chênh lệch lớn với các kênh khác\n",
    "* Có thể tham khảo, tìm hiểu sự phát triển trên để đưa ra phương hướng phù hợp đối với các kênh khác"
   ]
  },
  {
   "cell_type": "markdown",
   "metadata": {},
   "source": [
    "Bước 4: Tính sự tăng lượt xem theo từng thể loại"
   ]
  },
  {
   "cell_type": "code",
   "execution_count": 60,
   "metadata": {},
   "outputs": [],
   "source": [
    "category = data[['Youtuber', 'category']]\n",
    "category = category.set_index('Youtuber')\n",
    "category = pd.merge(category, channel.to_frame(), on='Youtuber')\n",
    "category.columns = ['category', 'count']\n",
    "category = category.groupby('category')['count'].sum()\n",
    "category = category.sort_values()"
   ]
  },
  {
   "cell_type": "markdown",
   "metadata": {},
   "source": [
    "Bước 5: Trực quan hóa bằng biểu đồ"
   ]
  },
  {
   "cell_type": "code",
   "execution_count": 79,
   "metadata": {
    "scrolled": true
   },
   "outputs": [
    {
     "data": {
      "image/png": "[encoded data removed]",
      "text/plain": [
       "<Figure size 1500x1000 with 1 Axes>"
      ]
     },
     "metadata": {},
     "output_type": "display_data"
    }
   ],
   "source": [
    "plt.figure(figsize=(15,10))\n",
    "\n",
    "cmap = plt.cm.get_cmap('coolwarm')\n",
    "colors = cmap(np.linspace(0, 1, len(category)))\n",
    "\n",
    "plt.barh(category.index, category, color=colors)\n",
    "plt.xlabel('Số lượt view')\n",
    "plt.ylabel('Thể loại')\n",
    "plt.title('Xu hướng lượt xem của các thể loại trong tháng gần nhất');"
   ]
  },
  {
   "cell_type": "markdown",
   "metadata": {},
   "source": [
    "Nhận xét:\n",
    "* Các thể loại có xu hướng lượt xem thay đổi khác nhau trong tháng vừa qua\n",
    "* Trong khi `Entertainment` và `Music` có xu hướng tăng cao thì các thể loại còn lại tăng không quá nhiều\n",
    "* Cá biệt, có `Travel & Events` có xu hướng không đổi\n",
    "* `Howto & Style` lại có khuynh hướng giảm lượt xem trong tháng qua"
   ]
  },
  {
   "cell_type": "markdown",
   "metadata": {},
   "source": [
    "#### 📚 Câu 5:"
   ]
  },
  {
   "cell_type": "markdown",
   "metadata": {},
   "source": [
    "Bước 1: Tính phần trăm của từng thể loại"
   ]
  },
  {
   "cell_type": "markdown",
   "metadata": {},
   "source": [
    "* Đầu tiên, tính số lượng của từng thể loại phân biệt và tổng tất cả thể loại\n",
    "* Tính phần trăm của từng thể loại"
   ]
  },
  {
   "cell_type": "code",
   "execution_count": null,
   "metadata": {},
   "outputs": [],
   "source": [
    "number_of_category = data['category'].value_counts()\n",
    "sum = data['category'].count()\n",
    "ratio_category = number_of_category.values / sum * 100"
   ]
  },
  {
   "cell_type": "code",
   "execution_count": null,
   "metadata": {},
   "outputs": [],
   "source": [
    "pd.Series(ratio_category)"
   ]
  },
  {
   "cell_type": "markdown",
   "metadata": {},
   "source": [
    "Bước 2: Trực quan bằng biểu đồ"
   ]
  },
  {
   "cell_type": "markdown",
   "metadata": {},
   "source": [
    "Sử dụng biểu đồ tròn để có cái nhìn tổng quan về tỉ trọng của các thể loại"
   ]
  },
  {
   "cell_type": "code",
   "execution_count": null,
   "metadata": {},
   "outputs": [],
   "source": [
    "plt.figure(figsize=(30, 10))\n",
    "\n",
    "plt.pie(ratio_category, autopct=lambda p: '{:.1f}'.format(p) if p > 1 else '',\n",
    "        startangle=90, rotatelabels=True, pctdistance=0.8)\n",
    "plt.legend(labels=number_of_category.index, prop={'size': 9}, loc=\"lower right\", bbox_to_anchor=(0.1, 0))\n",
    "plt.title('Tỉ trọng của mỗi thể loại');"
   ]
  },
  {
   "cell_type": "markdown",
   "metadata": {},
   "source": [
    "Bước 3: Tính số lượng view cần thiết"
   ]
  },
  {
   "cell_type": "markdown",
   "metadata": {},
   "source": [
    "* Tính lượt view của từng `quốc gia` theo từng `thể loại` trong `30 ngày gần nhất`\n",
    "* Tính tổng lượt view trong `30 ngày gần nhất` của từng `thể loại`\n",
    "* Tính phần trăm của mỗi quốc gia"
   ]
  },
  {
   "cell_type": "code",
   "execution_count": null,
   "metadata": {},
   "outputs": [],
   "source": [
    "country_by_category = data.groupby(['category', 'Country'])['video_views_for_the_last_30_days'].sum()\n",
    "category = data.groupby(['category'])['video_views_for_the_last_30_days'].sum()\n",
    "ratio = country_by_category / category * 100"
   ]
  },
  {
   "cell_type": "markdown",
   "metadata": {},
   "source": [
    "Bước 4: Chuyển kiểu dữ liệu và xử lý np.nan"
   ]
  },
  {
   "cell_type": "markdown",
   "metadata": {},
   "source": [
    "* Sử dụng `unstack` để chuyển dữ liệu thành dataframe với các `dòng thể loại` các `cột quốc gia`\n",
    "* Thay thế các giá trị `nan` bằng 0"
   ]
  },
  {
   "cell_type": "code",
   "execution_count": null,
   "metadata": {},
   "outputs": [],
   "source": [
    "ratio = ratio.unstack('Country')\n",
    "ratio.fillna(0, inplace=True)"
   ]
  },
  {
   "cell_type": "markdown",
   "metadata": {},
   "source": [
    "Dataframe `ratio` sẽ có dạng như sau:"
   ]
  },
  {
   "cell_type": "code",
   "execution_count": null,
   "metadata": {},
   "outputs": [],
   "source": [
    "ratio.sample(5)"
   ]
  },
  {
   "cell_type": "markdown",
   "metadata": {},
   "source": [
    "Bước 5: Trực quan bằng biểu đồ"
   ]
  },
  {
   "cell_type": "markdown",
   "metadata": {},
   "source": [
    "* Để trực quan các tỉ trọng ở từng thể loại thì biểu đồ tròn là lựa chọn tốt nhất\n",
    "* Mỗi biểu đồ sẽ trực quan cho mỗi thể loại và gồm 1 label chú thích góc dưới trái của mỗi biểu đồ\n",
    "* Vì kích thước hạn chế nên các quốc gia nhỏ hơn 1% sẽ không hiển thị số trên biểu đồ"
   ]
  },
  {
   "cell_type": "code",
   "execution_count": null,
   "metadata": {
    "scrolled": true
   },
   "outputs": [],
   "source": [
    "fig, axes = plt.subplots(nrows=6, ncols=3, figsize=(20, 40))\n",
    "# Draw each subplot \n",
    "for i in range(6):\n",
    "    for j in range(3):\n",
    "        non_zero_columns = [k for k in ratio.columns if ratio.iloc[i*3+j, ratio.columns.get_loc(k)] != 0]\n",
    "        axes[i,j].pie(ratio.loc[ratio.index[i*3+j], non_zero_columns], startangle=90, rotatelabels=True,\n",
    "                     autopct=lambda p: '{:.1f}'.format(p) if p > 1 else '', pctdistance=0.8)\n",
    "        axes[i,j].legend(labels=non_zero_columns, prop={'size': 8.2}, loc=\"lower right\", bbox_to_anchor=(0.1, 0))\n",
    "        axes[i,j].set_title('Tỉ trọng lượt xem của các quốc gia\\n trong 30 ngày gần nhất đối với thể loại ' + ratio.index[i*3+j])"
   ]
  },
  {
   "cell_type": "markdown",
   "metadata": {},
   "source": [
    "Nhận xét:\n",
    "* Ở mỗi thể loại có tỉ trọng view giữa các quốc gia khác nhau\n",
    "* Có một số thể loại đặc biệt chỉ có 1-2 quốc gia đóng góp view"
   ]
  },
  {
   "cell_type": "markdown",
   "metadata": {},
   "source": [
    "#### 📚 Câu 6:"
   ]
  },
  {
   "cell_type": "markdown",
   "metadata": {},
   "source": [
    "Bước 1: Tính số lượng kênh mỗi quốc gia và chuẩn bị dữ liệu cho trực quan"
   ]
  },
  {
   "cell_type": "markdown",
   "metadata": {},
   "source": [
    "* Tính số lượng kênh ở từng quốc gia và xử lý tọa độ của mỗi quốc gia\n",
    "* Loại bỏ các dòng trùng và các dòng có giá trị `np.nan`\n",
    "* Ghép 2 dataframe để có một dataframe mới gồm các thông tin để trực quan"
   ]
  },
  {
   "cell_type": "code",
   "execution_count": null,
   "metadata": {},
   "outputs": [],
   "source": [
    "count = data['Country'].value_counts()\n",
    "info_df = data[['Country', 'Latitude', 'Longitude']]\n",
    "info_df = info_df.drop_duplicates()\n",
    "info_df = info_df.dropna()\n",
    "info_df = info_df.set_index('Country')\n",
    "info_df = pd.merge(info_df, count, on='Country')\n",
    "info_df = info_df.sort_values('count', ascending=False)"
   ]
  },
  {
   "cell_type": "markdown",
   "metadata": {},
   "source": [
    "Dataframe sẽ gồm các cột `kinh độ`, `vĩ độ` và `số lượng kênh`"
   ]
  },
  {
   "cell_type": "code",
   "execution_count": null,
   "metadata": {},
   "outputs": [],
   "source": [
    "info_df.sample(5)"
   ]
  },
  {
   "cell_type": "markdown",
   "metadata": {},
   "source": [
    "Bước 2: Trực quan hóa cụ thể kết quả"
   ]
  },
  {
   "cell_type": "markdown",
   "metadata": {},
   "source": [
    "Trực quan hóa kết quả bằng biểu đồ cột để có cái nhìn chính xác nhất về dữ liệu trước khi trực quan trên bản đồ"
   ]
  },
  {
   "cell_type": "code",
   "execution_count": null,
   "metadata": {},
   "outputs": [],
   "source": [
    "plt.figure(figsize=(15,7))\n",
    "plt.bar(info_df.index, info_df['count'])\n",
    "plt.xlabel('Quốc gia')\n",
    "plt.ylabel('Số lượng kênh youtube')\n",
    "plt.xticks(rotation=80)\n",
    "plt.title('Số lượng kênh youtube ở từng quốc gia');"
   ]
  },
  {
   "cell_type": "markdown",
   "metadata": {},
   "source": [
    "Bước 3: Tính tỉ trọng thể loại kênh ở mỗi quốc gia"
   ]
  },
  {
   "cell_type": "markdown",
   "metadata": {},
   "source": [
    "* Tính sự phân bố của số lượng kênh theo `quốc gia` và `thể loại`\n",
    "* Dùng `unstack` để chuyển dữ liệu thành dataframe\n",
    "* Thay thế các giá trị `np.nan` thành 0 để tính toán\n",
    "* Sử dụng `apply` và `lambda` để tính tỉ lệ cho từng ô giá trị"
   ]
  },
  {
   "cell_type": "code",
   "execution_count": null,
   "metadata": {},
   "outputs": [],
   "source": [
    "distribution = data.groupby(['Country', 'category'])['Youtuber'].count()\n",
    "distribution = distribution.unstack()\n",
    "distribution = distribution.fillna(0)\n",
    "distribution = distribution.apply(lambda row: row / row.sum() * 100, axis=1)"
   ]
  },
  {
   "cell_type": "markdown",
   "metadata": {},
   "source": [
    "Dataframe distribution gồm các `cột quốc gia` và các `dòng thể loại`, như sau:"
   ]
  },
  {
   "cell_type": "code",
   "execution_count": null,
   "metadata": {},
   "outputs": [],
   "source": [
    "distribution.sample(5)"
   ]
  },
  {
   "cell_type": "markdown",
   "metadata": {},
   "source": [
    "Bước 4: Xử lý dữ liệu trước khi trực quan"
   ]
  },
  {
   "cell_type": "markdown",
   "metadata": {},
   "source": [
    "* Cập nhật lại index mới và loại bỏ các giá trị ngoại lệ giữa 2 dataframe"
   ]
  },
  {
   "cell_type": "code",
   "execution_count": null,
   "metadata": {},
   "outputs": [],
   "source": [
    "valid_indices = info_df.index\n",
    "distribution = distribution[distribution.index.isin(valid_indices)]"
   ]
  },
  {
   "cell_type": "markdown",
   "metadata": {},
   "source": [
    "Bước 5: Trực quan hóa dữ liệu"
   ]
  },
  {
   "cell_type": "markdown",
   "metadata": {},
   "source": [
    "* Trực quan hóa bằng bản đồ thế giới với các châu lục khác nhau\n",
    "* Kích thước vòng tròn tỉ lệ với số lượng kênh youtube\n",
    "* Màu sắc trong vòng tròn thể hiện tỉ trọng của các thể loại của từng quốc gia\n",
    "* Sử dụng geopandas để vẽ bản đồ thế giới"
   ]
  },
  {
   "cell_type": "code",
   "execution_count": null,
   "metadata": {
    "scrolled": true
   },
   "outputs": [],
   "source": [
    "world = gpd.read_file(gpd.datasets.get_path('naturalearth_lowres'))\n",
    "fig, ax = plt.subplots(nrows=6, ncols=1, subplot_kw={'projection': ccrs.PlateCarree()}, figsize=(50,100))\n",
    "list_of_continents = ['Africa', 'Asia', 'Europe', 'North America', 'Oceania', 'South America']\n",
    "long_lat = [[-20, 60, -35, 37], [40, 180, -10, 60], [-30, 50, 35, 75], [-170, -52, 10, 80], [110, 180, -45, -2], [-95, -33, -60, 15]]\n",
    "\n",
    "colors=plt.get_cmap('tab20').colors\n",
    "label_colors = []\n",
    "for i in range(18):\n",
    "    label_colors.append(Patch(facecolor=colors[i], label=list(distribution.columns)[i]))\n",
    "\n",
    "for index in range(6):\n",
    "    ax[index].set_extent(long_lat[index])\n",
    "    ax[index].coastlines()\n",
    "    ax[index].add_feature(cfeature.BORDERS, linestyle='-')\n",
    "\n",
    "    continent = world[world['continent'] == list_of_continents[index]]\n",
    "    continent.plot(ax=ax[index], color='white', edgecolor='black')\n",
    "\n",
    "    for idx, row in distribution.iterrows():\n",
    "        r = info_df.loc[idx,'count']/5\n",
    "        if r > 20:\n",
    "            r = 20\n",
    "        elif r < 2:\n",
    "            r = 2\n",
    "        longitude, latitude = info_df.loc[idx,'Longitude'], info_df.loc[idx,'Latitude']\n",
    "        if longitude >= long_lat[index][0] and longitude <= long_lat[index][1] and latitude >= long_lat[index][2] and latitude <= long_lat[index][3]:\n",
    "            ax[index].pie(row.values, labels=None, autopct='', startangle=90, wedgeprops=dict(width=r, alpha=0.7),\n",
    "                          radius=r, center=(longitude, latitude), frame=True, colors=plt.get_cmap('tab20').colors)\n",
    "            \n",
    "    ax[index].set_title('Sự phân bố số lượng kênh youtube ở ' + list_of_continents[index] + ' và tỉ trọng thể loại kênh ở từng quốc gia ')\n",
    "    ax[index].legend(handles=label_colors)\n",
    "    "
   ]
  },
  {
   "cell_type": "markdown",
   "metadata": {},
   "source": [
    "Nhận xét:\n",
    "* Các kênh youtube có sự phân bố trên khắp thế giới\n",
    "* Tập trung nhiều ở Châu Âu, Châu Á và Châu Mỹ\n",
    "* Một số quốc gia có nhiều kênh youtube nhất là: Mỹ, Ấn Độ, Anh, Brazil,...\n",
    "* Tỉ trọng các thể loại cũng có sự phân biệt rõ ràng giữa các quốc gia. Các quốc gia có nhiều kênh có sự đa dạng hơn về mặt thể loại. Các quốc gia có ít kênh thường chỉ tập trung ở một số ít thể loại nhất định."
   ]
  },
  {
   "cell_type": "markdown",
   "metadata": {},
   "source": [
    "### **5. Nhìn lại quá trình làm đồ án**"
   ]
  },
  {
   "cell_type": "markdown",
   "metadata": {},
   "source": [
    "### **6. Tài liệu tham khảo**"
   ]
  },
  {
   "cell_type": "code",
   "execution_count": null,
   "metadata": {},
   "outputs": [],
   "source": []
  }
 ],
 "metadata": {
  "kernelspec": {
   "display_name": "Python 3 (ipykernel)",
   "language": "python",
   "name": "python3"
  },
  "language_info": {
   "codemirror_mode": {
    "name": "ipython",
    "version": 3
   },
   "file_extension": ".py",
   "mimetype": "text/x-python",
   "name": "python",
   "nbconvert_exporter": "python",
   "pygments_lexer": "ipython3",
   "version": "3.11.4"
  }
 },
 "nbformat": 4,
 "nbformat_minor": 4
}
